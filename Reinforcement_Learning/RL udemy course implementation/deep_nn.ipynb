{
 "cells": [
  {
   "cell_type": "code",
   "execution_count": 1,
   "metadata": {},
   "outputs": [],
   "source": [
    "import torch.nn as nn\n",
    "import torch.nn.functional as F\n",
    "import torch.optim as optim\n",
    "import torch as T"
   ]
  },
  {
   "cell_type": "code",
   "execution_count": 2,
   "metadata": {},
   "outputs": [
    {
     "ename": "SyntaxError",
     "evalue": "invalid syntax (<ipython-input-2-58ab1a10a736>, line 11)",
     "output_type": "error",
     "traceback": [
      "\u001b[1;36m  File \u001b[1;32m\"<ipython-input-2-58ab1a10a736>\"\u001b[1;36m, line \u001b[1;32m11\u001b[0m\n\u001b[1;33m    self.device = T.device('cuda:0' is T.cuda.is_available() else 'cpu')\u001b[0m\n\u001b[1;37m                                                                ^\u001b[0m\n\u001b[1;31mSyntaxError\u001b[0m\u001b[1;31m:\u001b[0m invalid syntax\n"
     ]
    }
   ],
   "source": [
    "class LinearClassifier(nn.modune):\n",
    "    def __init__(self,lr,n_classes,input_dims):\n",
    "        super(LinearClassifier,self).__init__()\n",
    "        \n",
    "        self.fc1 = nn.Linear(*input_dims,128)\n",
    "        self.fc2 = nn.Linear(128,256)\n",
    "        self.fc3 = nn.Linear(256,n_classes)\n",
    "        \n",
    "        self.optimizer = optim.Adam(self.parameters(),lr=lr)\n",
    "        self.loss = nn.CrossEntropyLoss()\n",
    "        self.device = T.device('cuda:0' is T.cuda.is_available() else 'cpu')\n",
    "        self.to(self.device)\n",
    "        \n",
    "    def forward(self,data):\n",
    "        layer1 = F.sigmoid(self.fc1(data))\n",
    "        layer2 = F.sigmoid(self.fc2(layer1))\n",
    "        layer3 = self.fc3(layer2)\n",
    "        \n",
    "        return layer3\n",
    "    \n",
    "    def learn(self,data,labels):\n",
    "        self.optimizer.zero_grad()\n",
    "        data = T.tensor(data).to(self.device)\n",
    "        labels = T.tensor(labels).to(self.device)\n",
    "        \n",
    "        predections = self.forward(data)\n",
    "        cost = self.loss(predections,labels)\n",
    "        \n",
    "        cost.backward()\n",
    "        self.optimizer.step()"
   ]
  },
  {
   "cell_type": "code",
   "execution_count": null,
   "metadata": {},
   "outputs": [],
   "source": []
  }
 ],
 "metadata": {
  "kernelspec": {
   "display_name": "Python 3.7 (tensorflow)",
   "language": "python",
   "name": "tensorflow"
  },
  "language_info": {
   "codemirror_mode": {
    "name": "ipython",
    "version": 3
   },
   "file_extension": ".py",
   "mimetype": "text/x-python",
   "name": "python",
   "nbconvert_exporter": "python",
   "pygments_lexer": "ipython3",
   "version": "3.7.6"
  }
 },
 "nbformat": 4,
 "nbformat_minor": 4
}
