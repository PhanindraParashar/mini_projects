{
 "cells": [
  {
   "cell_type": "code",
   "execution_count": 3,
   "metadata": {},
   "outputs": [],
   "source": [
    "import gym\n",
    "import numpy as np\n",
    "import matplotlib.pyplot as plt\n",
    "import torch.nn as nn\n",
    "import torch.nn.functional as F\n",
    "import torch.optim as optim\n",
    "import torch as T"
   ]
  },
  {
   "cell_type": "code",
   "execution_count": 20,
   "metadata": {},
   "outputs": [],
   "source": [
    "class LinearDeepQNetwork(nn.Module):\n",
    "    def __init__(self,lr,n_actions,input_dims):\n",
    "        super(LinearDeepQNetwork,self).__init__()\n",
    "        \n",
    "        self.fc1 = nn.Linear(*input_dims,128)\n",
    "        self.fc2 = nn.Linear(128,n_actions)\n",
    "        \n",
    "        self.optimizer = optim.Adam(self.parameters(),lr=lr)\n",
    "        self.loss = nn.MSELoss()\n",
    "        \n",
    "        self.device = T.device('cuda:0' if T.cuda.is_available() else 'cpu')\n",
    "\n",
    "        self.to(self.device)\n",
    "        \n",
    "    def forward(self,state):\n",
    "        layer1 = F.relu(self.fc1(state))\n",
    "        actions = self.fc2(layer1)\n",
    "        \n",
    "        return actions\n",
    "    \n",
    "\n",
    "class Agent():\n",
    "    def __init__(self,lr,input_dims,n_actions,gamma=.99,epsilon=1,eps_min=0.01,eps_dec=1-1e-5):\n",
    "        \n",
    "        self.lr = lr\n",
    "        self.input_dims = input_dims\n",
    "        self.gamma = gamma\n",
    "        self.n_actions = n_actions\n",
    "        self.epsilon = epsilon\n",
    "        self.eps_min = eps_min\n",
    "        self.eps_dec = eps_dec\n",
    "        self.action_space = [i for i in range(self.n_actions)]\n",
    "        \n",
    "        self.Q = LinearDeepQNetwork(self.lr,self.n_actions,self.input_dims)\n",
    "        \n",
    "        \n",
    "    def choose_action(self,observation):\n",
    "        if np.random.random() < self.epsilon:\n",
    "            action = np.random.choice([i for i in range(self.n_actions)])\n",
    "        else:\n",
    "            state = T.tensor(observation,dtype=T.float).to(self.Q.device)\n",
    "            actions = self.Q.forward(state)\n",
    "            action = T.argmax(actions).item()\n",
    "        return action\n",
    "    \n",
    "    def decrement_epsilon(self):\n",
    "        if self.epsilon > self.eps_min:\n",
    "            self.epsilon = self.epsilon *self.eps_dec\n",
    "        else:\n",
    "            self.epsilon = self.eps_min\n",
    "    \n",
    "    def learn(self,state,action,reward,state_):\n",
    "        self.Q.optimizer.zero_grad()\n",
    "        \n",
    "        states = T.tensor(state,dtype=T.float).to(self.Q.device)\n",
    "        actions = T.tensor(action, dtype=T.long).to(self.Q.device)\n",
    "        rewards = T.tensor(reward, dtype=T.float).to(self.Q.device)\n",
    "        states_ = T.tensor(state_, dtype=T.float).to(self.Q.device)\n",
    "        \n",
    "        q_pred = self.Q.forward(states)[actions]\n",
    "        \n",
    "        q_next = self.Q.forward(states_).max()\n",
    "        \n",
    "        q_target = reward + self.gamma*q_next\n",
    "        \n",
    "        loss = self.Q.loss(q_target,q_pred).to(self.Q.device)\n",
    "        loss.backward()\n",
    "        self.Q.optimizer.step()\n",
    "        self.decrement_epsilon()\n",
    "        "
   ]
  },
  {
   "cell_type": "code",
   "execution_count": 21,
   "metadata": {},
   "outputs": [],
   "source": [
    "def plot_learning_curve(x, scores, epsilons, filename):\n",
    "    fig = plt.figure()\n",
    "    ax = fig.add_subplot(111, label=\"1\")\n",
    "    ax2 = fig.add_subplot(111, label=\"2\", frame_on=False)\n",
    "\n",
    "    ax.plot(x, epsilons, color=\"C0\")\n",
    "    ax.set_xlabel(\"Training Steps\", color=\"C0\")\n",
    "    ax.set_ylabel(\"Epsilon\", color=\"C0\")\n",
    "    ax.tick_params(axis='x', colors=\"C0\")\n",
    "    ax.tick_params(axis='y', colors=\"C0\")\n",
    "\n",
    "    N = len(scores)\n",
    "    running_avg = np.empty(N)\n",
    "    for t in range(N):\n",
    "        running_avg[t] = np.mean(scores[max(0, t-100):(t+1)])\n",
    "\n",
    "    ax2.scatter(x, running_avg, color=\"C1\")\n",
    "    ax2.axes.get_xaxis().set_visible(False)\n",
    "    ax2.yaxis.tick_right()\n",
    "    ax2.set_ylabel('Score', color=\"C1\")\n",
    "    ax2.yaxis.set_label_position('right')\n",
    "    ax2.tick_params(axis='y', colors=\"C1\")\n",
    "\n",
    "    plt.savefig(filename)\n"
   ]
  },
  {
   "cell_type": "code",
   "execution_count": 22,
   "metadata": {},
   "outputs": [
    {
     "name": "stdout",
     "output_type": "stream",
     "text": [
      "episode  0 win per 23.00 epsilon 1.00\n",
      "episode  100 win per 21.93 epsilon 0.98\n",
      "episode  200 win per 22.56 epsilon 0.96\n",
      "episode  300 win per 24.41 epsilon 0.93\n",
      "episode  400 win per 21.50 epsilon 0.91\n",
      "episode  500 win per 22.89 epsilon 0.89\n",
      "episode  600 win per 21.26 epsilon 0.87\n",
      "episode  700 win per 22.34 epsilon 0.85\n",
      "episode  800 win per 22.60 epsilon 0.84\n",
      "episode  900 win per 22.75 epsilon 0.82\n"
     ]
    },
    {
     "data": {
      "image/png": "[encoded data removed]",
      "text/plain": [
       "<Figure size 432x288 with 2 Axes>"
      ]
     },
     "metadata": {},
     "output_type": "display_data"
    }
   ],
   "source": [
    "env = gym.make('CartPole-v1')\n",
    "\n",
    "n_games = 1000\n",
    "win_pct = []\n",
    "scores = []\n",
    "eps_history = []\n",
    "\n",
    "agent = Agent(lr=0.0001,input_dims=env.observation_space.shape,n_actions=env.action_space.n)\n",
    "\n",
    "\n",
    "for i in range(n_games):\n",
    "    done = False\n",
    "    obs = env.reset()\n",
    "    score = 0\n",
    "    while not done:\n",
    "        \n",
    "        action = agent.choose_action(obs)\n",
    "        obs_,reward,done,info = env.step(action)\n",
    "        agent.learn(obs,action,reward,obs_)\n",
    "        \n",
    "        score += reward\n",
    "        obs = obs_\n",
    "        \n",
    "    scores.append(score)\n",
    "    eps_history.append(agent.epsilon)\n",
    "    \n",
    "    if i%100 == 0:\n",
    "        average = np.mean(scores[-100:])\n",
    "        win_pct.append(average)\n",
    "        if i%100 == 0:\n",
    "            print('episode ',i, 'win per %.2f' % average, 'epsilon %.2f' % agent.epsilon)\n",
    "\n",
    "filename = 'cartpole_dqn.png'\n",
    "x = [i+1 for i in range(n_games)]\n",
    "plot_learning_curve(x, scores, eps_history, filename)\n",
    "\n"
   ]
  },
  {
   "cell_type": "code",
   "execution_count": 23,
   "metadata": {},
   "outputs": [
    {
     "data": {
      "text/plain": [
       "(4,)"
      ]
     },
     "execution_count": 23,
     "metadata": {},
     "output_type": "execute_result"
    }
   ],
   "source": [
    "env.observation_space.shape"
   ]
  },
  {
   "cell_type": "code",
   "execution_count": null,
   "metadata": {},
   "outputs": [],
   "source": []
  }
 ],
 "metadata": {
  "kernelspec": {
   "display_name": "Python 3.7 (tensorflow)",
   "language": "python",
   "name": "tensorflow"
  },
  "language_info": {
   "codemirror_mode": {
    "name": "ipython",
    "version": 3
   },
   "file_extension": ".py",
   "mimetype": "text/x-python",
   "name": "python",
   "nbconvert_exporter": "python",
   "pygments_lexer": "ipython3",
   "version": "3.7.6"
  }
 },
 "nbformat": 4,
 "nbformat_minor": 4
}
