{
 "cells": [
  {
   "cell_type": "code",
   "execution_count": 1,
   "metadata": {},
   "outputs": [],
   "source": [
    "import numpy as np\n",
    "import pandas as pd"
   ]
  },
  {
   "cell_type": "code",
   "execution_count": 2,
   "metadata": {},
   "outputs": [],
   "source": [
    "def round_nearest(n,m):\n",
    "    v = np.floor(n/m)*m\n",
    "    return int(v)\n",
    "\n",
    "def sip_returns(inv,interest_percent,months):\n",
    "    month_percent = interest_percent/12\n",
    "    month_interest_ratio = month_percent/100\n",
    "    Sum = inv\n",
    "    for i in range(months-1):\n",
    "        Sum += round_nearest(month_interest_ratio*Sum,100) + inv\n",
    "    return int(Sum)\n",
    "\n",
    "def monthly_interest(inv,interest_percent):\n",
    "    month_percent = interest_percent/12\n",
    "    month_interest_ratio = month_percent/100\n",
    "    return round_nearest(month_interest_ratio*inv,100)\n",
    "\n",
    "def principal_req(interest_pm,interest_percent):\n",
    "    P = interest_pm*1200/(interest_percent)\n",
    "    return round_nearest(P,1000)"
   ]
  },
  {
   "cell_type": "code",
   "execution_count": 3,
   "metadata": {},
   "outputs": [],
   "source": [
    "def months_to_save(monthly_savings,monthly_expected_returns,interest_percent_sip,interest_percent_fd):\n",
    "    P = principal_req(monthly_expected_returns,interest_percent_fd)\n",
    "    print(P)\n",
    "    m = 1\n",
    "    E = 0\n",
    "    while E <= P:\n",
    "        E = sip_returns(monthly_savings,interest_percent_sip,m)\n",
    "        m += 1\n",
    "    return m,m/12\n",
    "    "
   ]
  },
  {
   "cell_type": "code",
   "execution_count": 6,
   "metadata": {},
   "outputs": [
    {
     "name": "stdout",
     "output_type": "stream",
     "text": [
      "60000000\n"
     ]
    },
    {
     "data": {
      "text/plain": [
       "(161, 13.416666666666666)"
      ]
     },
     "execution_count": 6,
     "metadata": {},
     "output_type": "execute_result"
    }
   ],
   "source": [
    "Lach = 100000\n",
    "monthly_savings = Lach*1.2\n",
    "expected_returns = Lach*3\n",
    "\n",
    "\n",
    "months_to_save(monthly_savings,expected_returns,15,6)\n"
   ]
  },
  {
   "cell_type": "code",
   "execution_count": null,
   "metadata": {},
   "outputs": [],
   "source": []
  }
 ],
 "metadata": {
  "kernelspec": {
   "display_name": "Python 3",
   "language": "python",
   "name": "python3"
  },
  "language_info": {
   "codemirror_mode": {
    "name": "ipython",
    "version": 3
   },
   "file_extension": ".py",
   "mimetype": "text/x-python",
   "name": "python",
   "nbconvert_exporter": "python",
   "pygments_lexer": "ipython3",
   "version": "3.7.3"
  }
 },
 "nbformat": 4,
 "nbformat_minor": 2
}
