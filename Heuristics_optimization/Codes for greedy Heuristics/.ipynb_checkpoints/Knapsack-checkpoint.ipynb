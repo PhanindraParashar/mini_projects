{
 "cells": [
  {
   "cell_type": "code",
   "execution_count": 1,
   "metadata": {},
   "outputs": [],
   "source": [
    "import numpy as np"
   ]
  },
  {
   "cell_type": "code",
   "execution_count": 2,
   "metadata": {},
   "outputs": [],
   "source": [
    "def mergeSort(L, ascending = True):\n",
    "    result = []  \n",
    "    if len(L) == 1:\n",
    "        return L  \n",
    "    mid = len(L) // 2  \n",
    "    teilliste1 = mergeSort(L[:mid], ascending)  \n",
    "    teilliste2 = mergeSort(L[mid:], ascending)  \n",
    "    x, y = 0, 0\n",
    "    while x < len(teilliste1) and y < len(teilliste2):\n",
    "        if ascending:\n",
    "            if teilliste1[x] > teilliste2[y]:\n",
    "                result.append(teilliste2[y])\n",
    "                y = y + 1\n",
    "            else:\n",
    "                result.append(teilliste1[x])\n",
    "                x = x + 1\n",
    "        else: \n",
    "            if teilliste1[x] < teilliste2[y]:\n",
    "                result.append(teilliste2[y])\n",
    "                y = y + 1\n",
    "            else:\n",
    "                result.append(teilliste1[x])\n",
    "                x = x + 1\n",
    "    result = result + teilliste1[x:]\n",
    "    result = result + teilliste2[y:]\n",
    "    return result\n",
    "\n",
    "def sort_rat(P,W):\n",
    "    r = mergeSort(list(np.array(P)/np.array(W)),False)\n",
    "    #print(r)\n",
    "    d = dict(zip(list(np.array(P)/np.array(W)),list(range(len(P)))))\n",
    "    #print(d)\n",
    "    p = []\n",
    "    w = []\n",
    "    I = []\n",
    "    for i in range(len(P)):\n",
    "        I.append(d[r[i]] + 1)\n",
    "        p.append(P[d[r[i]]])\n",
    "        w.append(W[d[r[i]]])\n",
    "    return p,w,I\n",
    "\n",
    "def greedy_pick(p,w,C):\n",
    "    caval = C\n",
    "    prof = 0\n",
    "    I = []\n",
    "    for i in range(len(w)):\n",
    "        if caval - w[i] >= 0:\n",
    "            I.append(i)\n",
    "            prof = prof + p[i]\n",
    "            caval = caval - w[i]\n",
    "    return prof,I"
   ]
  },
  {
   "cell_type": "code",
   "execution_count": 5,
   "metadata": {},
   "outputs": [],
   "source": [
    "def knapsack_greedy(P,W,C):\n",
    "    p,w,I = sort_rat(P,W)\n",
    "    print('profit, item no that has to be picked')\n",
    "    \n",
    "    pg,Ig = greedy_pick(p,w,C)\n",
    "    \n",
    "    pm,Im = max(p),[p.index(max(p))]\n",
    "    \n",
    "    if pg > pm:\n",
    "        return pg,I[:len(Ig)]\n",
    "    \n",
    "    else:\n",
    "        return pm,Im"
   ]
  },
  {
   "cell_type": "code",
   "execution_count": 9,
   "metadata": {},
   "outputs": [
    {
     "name": "stdout",
     "output_type": "stream",
     "text": [
      "profit, item no that has to be picked\n"
     ]
    },
    {
     "data": {
      "text/plain": [
       "(60, [4])"
      ]
     },
     "execution_count": 9,
     "metadata": {},
     "output_type": "execute_result"
    }
   ],
   "source": [
    "knapsack_greedy([6,60,9,7,8],[1,20,2,2,2],26)"
   ]
  },
  {
   "cell_type": "code",
   "execution_count": null,
   "metadata": {},
   "outputs": [],
   "source": []
  },
  {
   "cell_type": "code",
   "execution_count": null,
   "metadata": {},
   "outputs": [],
   "source": []
  }
 ],
 "metadata": {
  "kernelspec": {
   "display_name": "Python 3.7 (tensorflow)",
   "language": "python",
   "name": "tensorflow"
  },
  "language_info": {
   "codemirror_mode": {
    "name": "ipython",
    "version": 3
   },
   "file_extension": ".py",
   "mimetype": "text/x-python",
   "name": "python",
   "nbconvert_exporter": "python",
   "pygments_lexer": "ipython3",
   "version": "3.7.6"
  }
 },
 "nbformat": 4,
 "nbformat_minor": 4
}
