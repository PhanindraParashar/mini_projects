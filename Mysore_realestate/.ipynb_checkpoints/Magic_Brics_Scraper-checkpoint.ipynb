{
 "cells": [
  {
   "cell_type": "code",
   "execution_count": 1,
   "metadata": {},
   "outputs": [],
   "source": [
    "import pandas as pd\n",
    "import numpy as np\n",
    "import time\n",
    "import pandas as pd\n",
    "from selenium import webdriver\n",
    "from selenium import webdriver\n",
    "from webdriver_manager.chrome import ChromeDriverManager\n",
    "import bs4 as bs\n",
    "import urllib. request\n",
    "import time\n",
    "from datetime import datetime\n",
    "import pandas as pd\n",
    "import json"
   ]
  },
  {
   "cell_type": "code",
   "execution_count": 2,
   "metadata": {},
   "outputs": [],
   "source": [
    "def scroll(driver, timeout):\n",
    "    scroll_pause_time = timeout\n",
    "\n",
    "    # Get scroll height\n",
    "    last_height = driver.execute_script(\"return document.body.scrollHeight\")\n",
    "\n",
    "    while True:\n",
    "        # Scroll down to bottom\n",
    "        driver.execute_script(\"window.scrollTo(0, document.body.scrollHeight);\")\n",
    "\n",
    "        # Wait to load page\n",
    "        time.sleep(scroll_pause_time)\n",
    "\n",
    "        # Calculate new scroll height and compare with last scroll height\n",
    "        new_height = driver.execute_script(\"return document.body.scrollHeight\")\n",
    "        if new_height == last_height:\n",
    "            # If heights are the same it will exit the function\n",
    "            break\n",
    "        last_height = new_height"
   ]
  },
  {
   "cell_type": "code",
   "execution_count": 12,
   "metadata": {},
   "outputs": [
    {
     "name": "stderr",
     "output_type": "stream",
     "text": [
      "\n",
      "\n",
      "====== WebDriver manager ======\n",
      "Current google-chrome version is 90.0.4430\n",
      "Get LATEST driver version for 90.0.4430\n",
      "Driver [C:\\Users\\phani\\.wdm\\drivers\\chromedriver\\win32\\90.0.4430.24\\chromedriver.exe] found in cache\n"
     ]
    }
   ],
   "source": [
    "url = 'https://www.magicbricks.com/owner-property-for-sale-in-mysore-pppfs'\n",
    "driver = webdriver.Chrome(ChromeDriverManager().install())\n",
    "#city = 'Mysore'\n",
    "city = 'Banglore'\n",
    "driver.get(\"https://www.magicbricks.com/property-for-sale/residential-real-estate?proptype=Multistorey-Apartment,Builder-Floor-Apartment,Penthouse,Studio-Apartment&cityName=\"+city)"
   ]
  },
  {
   "cell_type": "code",
   "execution_count": 24,
   "metadata": {},
   "outputs": [],
   "source": [
    "scroll(driver, 8)"
   ]
  },
  {
   "cell_type": "code",
   "execution_count": null,
   "metadata": {},
   "outputs": [],
   "source": [
    "houses = driver.find_elements_by_class_name(\"flex.relative.clearfix.m-srp-card__container \")"
   ]
  },
  {
   "cell_type": "code",
   "execution_count": null,
   "metadata": {},
   "outputs": [],
   "source": [
    "def house_details_d(i,houses=houses,n=12):\n",
    "    price_pps = houses[i].find_element_by_class_name(\"m-srp-card__info.flex__item\").text\n",
    "    posted_date = houses[i].find_element_by_class_name(\"m-srp-card__post-date\").text\n",
    "    house_overview = houses[i].find_element_by_class_name(\"m-srp-card__title\").text\n",
    "    \n",
    "    written_info = houses[i].find_element_by_class_name(\"m-srp-card__desc.flex__item\").text\n",
    "    owner_name = houses[i].find_element_by_class_name(\"m-srp-card__advertiser__name\").text\n",
    "    \n",
    "    other_info_list = houses[i].find_element_by_class_name(\"m-srp-card__summary.js-collapse__content\").find_elements_by_class_name(\"m-srp-card__summary__item\")\n",
    "    \n",
    "    All_data = {'price_pps':price_pps,'posted_date':posted_date,'house_overview':house_overview,'written_info':written_info,'owner_name':owner_name}\n",
    "    \n",
    "    for i in range(len(other_info_list)):\n",
    "        val = other_info_list[i].text.split('\\n')\n",
    "        if len(val) < 2:\n",
    "            pass\n",
    "        else:\n",
    "            All_data[val[0]] = val[1]\n",
    "    \n",
    "    return All_data"
   ]
  },
  {
   "cell_type": "code",
   "execution_count": null,
   "metadata": {},
   "outputs": [],
   "source": [
    "h = [house_details_d(i) for i in range(len(houses))]"
   ]
  },
  {
   "cell_type": "code",
   "execution_count": null,
   "metadata": {},
   "outputs": [],
   "source": [
    "df = pd.DataFrame(h)"
   ]
  },
  {
   "cell_type": "code",
   "execution_count": null,
   "metadata": {},
   "outputs": [],
   "source": [
    "df"
   ]
  },
  {
   "cell_type": "code",
   "execution_count": null,
   "metadata": {},
   "outputs": [],
   "source": []
  }
 ],
 "metadata": {
  "kernelspec": {
   "display_name": "Python 3.7 (tensorflow)",
   "language": "python",
   "name": "tensorflow"
  },
  "language_info": {
   "codemirror_mode": {
    "name": "ipython",
    "version": 3
   },
   "file_extension": ".py",
   "mimetype": "text/x-python",
   "name": "python",
   "nbconvert_exporter": "python",
   "pygments_lexer": "ipython3",
   "version": "3.7.6"
  }
 },
 "nbformat": 4,
 "nbformat_minor": 4
}
