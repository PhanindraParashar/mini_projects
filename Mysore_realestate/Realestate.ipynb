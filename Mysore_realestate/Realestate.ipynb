{
 "cells": [
  {
   "cell_type": "code",
   "execution_count": 2,
   "metadata": {},
   "outputs": [],
   "source": [
    "from autoscraper import AutoScraper\n",
    "import pandas as pd\n",
    "import numpy as np"
   ]
  },
  {
   "cell_type": "code",
   "execution_count": 3,
   "metadata": {},
   "outputs": [],
   "source": [
    "scraper = AutoScraper()"
   ]
  },
  {
   "cell_type": "code",
   "execution_count": 4,
   "metadata": {},
   "outputs": [
    {
     "name": "stdout",
     "output_type": "stream",
     "text": [
      "['3 Bedroom Independent House in Dattagalli', 'Residential land / Plot in J.P Nagar', '2 BHK Residential Apartment in Ittige Gudu', '3 BHK Residential Apartment in Ittige Gudu', 'Residential land / Plot in Yelwala', 'Residential land / Plot in Bilikere', 'Residential land / Plot in Manuganahalli', '4 BHK Residential Apartment in Bogadi', '3 BHK Residential Apartment in Bogadi', '2 BHK Residential Apartment in 4th Stage Vijayanagar', '3 BHK Residential Apartment in 4th Stage Vijayanagar', '2 BHK Residential Apartment in Bogadi', 'Residential land / Plot in Jayapura', 'Residential land / Plot in Beerihundi', '2 Bedroom Independent House in Kuppedada', '4 Bedroom Independent House in 4th Stage Vijayanagar', 'Residential land / Plot in Srinagara Layout', '4 Bedroom Independent House in Vidyashankara Layout', 'Residential land / Plot in Bannur Road Mysore', '3 Bedroom Independent House in Hulikere', '2 BHK Independent Builder Floor in Lakshmikanth Nagar', 'Residential land / Plot in Golf Course & Race Course Adjacent', '3 BHK Independent Builder Floor in 4th Stage Vijayanagar', 'Residential land / Plot in Jss Layout', 'Rishabh Siddhi', '₹ 81  - 91 Lac₹ 4,525/sq.ft.', '1,800-2,000 sq.ft. (167-186 sq.m.) Built-up Area', '3 BHK', 'Rishabh siddhi in dattagalli, mysore by rishabh ventures is a residential project. The project offers villa with perfect combination of contemporary architecture and features to provide comfortable living. The villa are of the following configurations: 3bhk. The area of the villa is from 167.22 sq. Mt to 204.38 sq. Mt Price starting from rs. 76.00 lacs. Rishabh siddhi offers facilities such as ...more', 'FEATUREDUNDER CONSTRUCTIONNEW BOOKINGRERA', 'Bhima Punarvasu', 'Price on Request', '1,163-1,453 sq.ft. (108-135 sq.m.) Plot Area', 'Bhima punarvasu in j.P nagar, mysore by bhima properties is a residential project. It also has amenity like jogging track. This is a rera registered project with registration number prm/ka/rera/1268/378/pr/180507/001644. Bank loan approved from hdfc home loans, icici bank and idbi bank ltd. It is a ready to move project with possession offered in feb, 2018. The project is spread over a total ar...more', 'FEATUREDREADY TO MOVENEW BOOKINGRERA', 'Govianu Gurikar Luxuria', '₹ 78 Lac', '840 sq.ft. (78 sq.m.) Carpet Area', '2 BHK2 Baths', 'Experience a new style of living with Govianu Gurikar Luxuria. It offers an exclusive range of 2 BHK apartments in Ittige Gudu, Mysore. Here is a steal deal for you. Book your 2 BHK apartment here at a never before price of Rs. 78 Lac. The unit has a carpet area of 840.0 sq. ft. This is a new launch project. It has been designed keeping every small to large needs of residents in consideration. ...more', 'UNDER CONSTRUCTIONNEW LAUNCHNEW BOOKINGRERA', '₹ 1.17 Cr', '1,260 sq.ft. (117 sq.m.) Carpet Area', '3 BHK3 Baths', 'Live in a world of comfort and style at Govianu Gurikar Luxuria located in Ittige Gudu, Mysore. Book your 3 BHK apartment now. Sprawling across a carpet area of 1260.0 sq. ft, it is a new launch property available for Rs. 1.17 Crore. The project has 1 towers, each of them with aesthetically crafted interiors as well as exteriors The project has the latest amenities like Vastu Compliant, Rain Wa...more', 'Riddha Habitat', '₹ 29.06  - 29.69 Lac₹ 2,499/sq.ft.', '1,163-1,188 sq.ft. (108-110 sq.m.) Plot Area', 'Riddha habitat in elivala , mysore by ess and ess infrastructure is a residential project. Price starting from rs. 26.40 lacs. It also has amenity like jogging track. It is an under construction project with possession offered in jan, 2021. The project is spread over a total area of 5.28 acres of land. An accommodation of 70 units has been provided. Features Underground drainage Concrete road R...more', 'UNDER CONSTRUCTIONNEW BOOKINGRERA', 'Rishabh Prarthana', '₹ 6.59  - 8.23 Lac₹ 549/sq.ft.', '1,200-1,500 sq.ft. (111-139 sq.m.) Plot Area', 'Rishabh prarthana in bilikere, mysore by rishabh ventures is a residential project. The project offers land with perfect combination of contemporary architecture and features to provide comfortable living. The size of the land is from 111.48 sq. Mt to 222.97 sq. Mt Rishabh prarthana price ranges from 5.98 cr to 7.48 cr. It also has amenity like jogging track. This is a rera registered project w...more', 'READY TO MOVENEW BOOKINGRERA', 'Sri Balaji Enclave Phase 2', '₹ 10.79  - 26.97 Lac₹ 899/sq.ft.', '1,200-3,000 sq.ft. (111-279 sq.m.) Plot Area', 'Sri balaji enclave phase 2 in manuganahalli, mysore is a residential project. This is a rera registered project. It is a ready to move project. About city: The real estate market of mysore shows positivity with increasing demands from buyers and supply from developers. With improving physical infrastructure that better connects the micro-Markets of the city, mysore has seen a positive impact on...more', 'Trendz Whispering Woods', '₹ 62 Lac₹ 4,025/sq.ft.', '1,540 sq.ft. (143 sq.m.) Super built-up Area', '4 BHK', 'Let your dream of owning a flat come true with Trendz Whispering Woods. It offers an exclusive range of 4 BHK flats in Bogadi, Mysore. We bring you an amazing deal of a 4 BHK that is currently available at price of Rs. 62 Lac and has a super built-up area of 1540.0 sq. ft. Trendz Whispering Woods is a secured gated community that further has 24x7 security systems. It has round the clock power b...more', '₹ 52  - 72 Lac₹ 4,186/sq.ft.', '1,212-1,803 sq.ft. (113-168 sq.m.) Super built-up Area', 'Live in a world of comfort and style at Trendz Whispering Woods, located in Bogadi, Mysore. Book your 3 BHK apartment now. Sprawling across a super built-up area of 1212.0 sq. ft. - 1803.0 sq. ft., these are a ready to move apartments. These are available at a price range of Rs. 52 Lac to Rs. 72 Lac. All the 12 towers have with aesthetically crafted interiors as well as exteriors. The project h...more', 'Blessed by Sunpure Homes', '932-1,279 sq.ft. (87-119 sq.m.) Carpet Area', '2 BHK', 'Book your 2 BHK apartment in 4th Stage Vijayanagar, Mysore today. The Blessed by Sunpure Homes hosts exclusively designed towers, each presenting an epitome of class and simplicity. The residential apartments have a carpet area of 932.0 sq. ft. to 1279.0 sq. ft. and are an under construction. With an impressive layout and a comprehensive range of amenities, like Paved Compound, Basketball Court...more', '1,413-1,445 sq.ft. (131-134 sq.m.) Carpet Area', 'Let your dream of owning a flat come true with Blessed by Sunpure Homes. It offers an exclusive range of 3 BHK flats in 4th Stage Vijayanagar, Mysore. They have a carpet area of 1413.0 sq. ft. to 1445.0 sq. ft. The price is available on request. The project is a secured gated community that further has 24x7 security systems. It has round the clock power back up as well as features many more att...more', '₹ 39  - 49 Lac₹ 4,394/sq.ft.', '830-1,174 sq.ft. (77-109 sq.m.) Super built-up Area', '2 BHK1 Bath', 'Book your 2 BHK flat in Trendz Whispering Woods, Bogadi, Mysore. Having a super built-up area of 830.0 sq. ft. - 1174.0 sq. ft., these flats promise an exclusive view and refreshing vibes, making them well ventilated. It is a superbly design project set amidst excellent surroundings and offers residents a world-class infrastructure. Look at its range of general amenities to premium amenities th...more', 'Talur Shelters', '₹ 9.9 Lac', '1,200 sq.ft. (111 sq.m.) Plot Area', 'Talur shelters, a dtcp approved layout located close to talur circle in mysore. \\n \\nBuilt amidst a vast expanse of greenery and foliage, talur shelters has all the standard amenities that are prescribed by the approving body and is close by to public transits like bus stops. Presence of manufacturing units like tvs company makes this layout a place that is worth more than what it is priced at.more', 'Rishabh Nisarga', '₹ 28.8 Lac₹ 1,200/sq.ft.', '2,400 sq.ft. (223 sq.m.) Plot Area', 'Rishabh nisarga in beerihundi, mysore by rishabh ventures is a residential project. This is a rera registered project with registration number prm/ka/rera/1268/378/pr/190913/002850. It is a ready to move project with possession offered in jun, 2020. About city: Driven by both residential and commercial real estate demands, the real estate scenario of mysore is on a positive track. The presence ...more', 'MMG Grand City', '₹ 44  - 63 Lac₹ 5,759/sq.ft.', '750-1,100 sq.ft. (70-102 sq.m.) Built-up Area', 'Mmg grand city in kuppedada, mysore by mmg constructions is a residential project. The project offers villa and land with perfect combination of contemporary architecture and features to provide comfortable living. The villa and land are of the following configurations: 2bhk and 3bhk. The area of the villa is from 88.26 sq. Mt to 139.35 sq. Mt The size of the land is from 55.74 sq. Mt to 139.35...more', 'Sunpure Homes', '₹ 1.7 Cr₹ 4,723/sq.ft.', '3,600 sq.ft. (334 sq.m.) Built-up Area', 'Sunpure homes in 4th stage vijayanagar, mysore by mk infra holding is a residential project. The project offers villa with perfect combination of contemporary architecture and features to provide comfortable living. Sunpure homes offers a premium villa with 2450 sft of corner site with 3600 sft built up of 4 bhk duplex having 2 living dining kitchen 3 toilets 4 bedrooms muda approved layout It ...more', 'Bhima Ashvini Phase 2', '1,162-1,453 sq.ft. (108-135 sq.m.) Plot Area', 'Bhima ashvini phase 2 in srinagara layout, mysore by bhima properties is a residential project. The project offers land with perfect combination of contemporary architecture and features to provide comfortable living. The size of the land is from 108.0 sq. Mt to 135.0 sq. Mt It also has amenity like jogging track. The land are vastu complaint. This is a rera registered project with registration...more', '₹ 1.06 Cr₹ 4,818/sq.ft.', '4 BHK3 Baths', '2 houses rented for 20000/- CurrentlyPlot area - 1200 sq ft (30 * 40)\\nFacing - South facing plt (East facing doors)\\nFacing road - 30 ft width road\\nBuilding - 2 storied individual houses\\nHouse front door facing east2 houses, 1 in ground floor and in 1st floor.\\nEach house has 2 bedrooms. 300 mtrs from ring road, with good accessibility and decent neighborhood.more', 'READY TO MOVERESALE', '₹ 10 Lac₹ 800/sq.ft.', 'Value space is project developed in 4.5 acres of land with dtpc approval.\\nWe have sites with all the dimensions i.E., 30x40, 30x45, 30x50 with east and north facing.\\nIts is excellence value for investment, due the prospective the location of property.\\nIt is next to atm engineering college, bannur road, mysore.more', 'Zuari Garden City', '₹ 1.2 Cr₹ 4,792/sq.ft.', 'Luxury villa at zuari garden city for immediate sale. Attractive terms on offer for immediate closure. Pls reach outmore', 'Zion Real Estate', '₹ 43 Lac₹ 8,600/sq.ft.', '500 sq.ft. (46 sq.m.) Carpet Area', '20x30 south facing independent house for sale near lakshmikanth nagar, mysore. Below are the details. 1, 2 bhk rooms with wardrobes 2, spacious living room 3, kitchen 4, 2 separate toilets (Indian style & western) 5, pooja room 6, vitrified flooring 7, solar connection for water The price quoted is 43 lakhs which is slightly negotiable Brokerage charges applicable, genuine buyers only, please c...more', '₹ 66.21 Lac₹ 5,517/sq.ft.', 'Plots available adjacent golf course road/ race course road 1, prices are subjected to change without notice. 2, plots facing east & north will be charged a premium of rs 250/sqft 3, corner plots/park facing/club housing/plots adjoining 50 ft/ children playground facing will be charged a premium of 10% of the site cost 4, rs 3.0 lakh to be paid at the time of booking 30% of the total cost at th...more', '₹ 3.5 Cr₹ 14,583/sq.ft.', '2,400 sq.ft. (223 sq.m.) Super built-up Area', '3 BHK2 Baths', 'Commercial complex of 3 floors for sale in vijayanagar 4th stage near marimallappa compound for more commercial complex for buying and selling contact agent puneethmore', 'KBL Green wood', '₹ 47 Lac₹ 1,958/sq.ft.', '40x60 north face muda sites for sale.\\nKbl green wood.\\nNext jss layout & police layout, t.Narasipura road. Mysuru.more', '₹ 80 Lac₹ 2,000/sq.ft.', '4,000 sq.ft. (372 sq.m.) Plot Area', '50x80 east face muda sites for sale at rs.80 lakhs.\\n80 feet road.\\nUp to 80% bank loan avilable.\\nKbl green wood.\\nNext jss layout & police layout, t.Narasipura road. Mysuru.more', '₹ 81  - 91 Lac₹ 4,525/sq.ft.1,800-2,000 sq.ft. (167-186 sq.m.) Built-up Area3 BHK', 'Price on Request1,163-1,453 sq.ft. (108-135 sq.m.) Plot Area', '₹ 78 Lac840 sq.ft. (78 sq.m.) Carpet Area2 BHK2 Baths', '₹ 1.17 Cr1,260 sq.ft. (117 sq.m.) Carpet Area3 BHK3 Baths', '₹ 29.06  - 29.69 Lac₹ 2,499/sq.ft.1,163-1,188 sq.ft. (108-110 sq.m.) Plot Area', '₹ 6.59  - 8.23 Lac₹ 549/sq.ft.1,200-1,500 sq.ft. (111-139 sq.m.) Plot Area', '₹ 10.79  - 26.97 Lac₹ 899/sq.ft.1,200-3,000 sq.ft. (111-279 sq.m.) Plot Area', '₹ 62 Lac₹ 4,025/sq.ft.1,540 sq.ft. (143 sq.m.) Super built-up Area4 BHK', '₹ 52  - 72 Lac₹ 4,186/sq.ft.1,212-1,803 sq.ft. (113-168 sq.m.) Super built-up Area3 BHK', 'Price on Request932-1,279 sq.ft. (87-119 sq.m.) Carpet Area2 BHK', 'Price on Request1,413-1,445 sq.ft. (131-134 sq.m.) Carpet Area3 BHK', '₹ 39  - 49 Lac₹ 4,394/sq.ft.830-1,174 sq.ft. (77-109 sq.m.) Super built-up Area2 BHK1 Bath', '₹ 9.9 Lac1,200 sq.ft. (111 sq.m.) Plot Area', '₹ 28.8 Lac₹ 1,200/sq.ft.2,400 sq.ft. (223 sq.m.) Plot Area', '₹ 44  - 63 Lac₹ 5,759/sq.ft.750-1,100 sq.ft. (70-102 sq.m.) Built-up Area2 BHK2 Baths', '₹ 1.7 Cr₹ 4,723/sq.ft.3,600 sq.ft. (334 sq.m.) Built-up Area4 BHK', 'Price on Request1,162-1,453 sq.ft. (108-135 sq.m.) Plot Area', '₹ 1.06 Cr₹ 4,818/sq.ft.1,200 sq.ft. (111 sq.m.) Plot Area4 BHK3 Baths', '₹ 10 Lac₹ 800/sq.ft.1,200 sq.ft. (111 sq.m.) Plot Area', '₹ 1.2 Cr₹ 4,792/sq.ft.2,400 sq.ft. (223 sq.m.) Plot Area3 BHK3 Baths', '₹ 43 Lac₹ 8,600/sq.ft.500 sq.ft. (46 sq.m.) Carpet Area2 BHK2 Baths', '₹ 66.21 Lac₹ 5,517/sq.ft.1,200 sq.ft. (111 sq.m.) Plot Area', '₹ 3.5 Cr₹ 14,583/sq.ft.2,400 sq.ft. (223 sq.m.) Super built-up Area3 BHK2 Baths', '₹ 47 Lac₹ 1,958/sq.ft.2,400 sq.ft. (223 sq.m.) Plot Area', '₹ 80 Lac₹ 2,000/sq.ft.4,000 sq.ft. (372 sq.m.) Plot Area', '1 RK/1 BHK', '5 BHK', 'Residential Land', 'Independent House/Villa', 'Residential Apartment', 'Independent/Builder Floor', 'Farm House', 'Owner', 'Builder', 'Dealer', 'Top Dealer', 'Parking', 'Power Backup', 'Park', 'Lift', 'Gymnasium']\n"
     ]
    }
   ],
   "source": [
    "url = 'https://www.99acres.com/search/property/buy/residential-all/mysore?search_type=QS&refSection=GNB&search_location=HP&lstAcn=HP_R&lstAcnId=0&src=CLUSTER&preference=S&selected_tab=1&city=126&res_com=R&property_type=R&isvoicesearch=N&keyword=Mysore&strEntityMap=IiI%3D&refine_results=Y&Refine_Localities=Refine%20Localities&action=%2Fdo%2Fquicksearch%2Fsearch&searchform=1&price_min=null&price_max=null'\n",
    "wanted_list = ['4 BHK Residential Apartment in Bogadi','Trendz Whispering Woods','₹ 78 Lac','3 BHK']\n",
    "result = scraper.build(url,wanted_list)\n",
    "print(result)\n",
    "data = scraper.get_result_similar(url,grouped=True)"
   ]
  },
  {
   "cell_type": "code",
   "execution_count": 19,
   "metadata": {},
   "outputs": [],
   "source": [
    "url = 'https://www.magicbricks.com/owner-property-for-sale-in-mysore-pppfs'\n",
    "wl = ['₹ 48 Lac','1296 sqft']"
   ]
  },
  {
   "cell_type": "code",
   "execution_count": 28,
   "metadata": {},
   "outputs": [],
   "source": [
    "wl = ['Plot/Land for Sale in JP Nagar']"
   ]
  },
  {
   "cell_type": "code",
   "execution_count": 29,
   "metadata": {},
   "outputs": [
    {
     "name": "stdout",
     "output_type": "stream",
     "text": [
      "None\n"
     ]
    }
   ],
   "source": [
    "result = scraper.build(url,wl)\n",
    "print(result)\n",
    "data = scraper.get_result_similar(url,grouped=True)"
   ]
  },
  {
   "cell_type": "code",
   "execution_count": 30,
   "metadata": {},
   "outputs": [],
   "source": [
    "import bs4 as bs\n",
    "import urllib. request\n",
    "import time\n",
    "from datetime import datetime\n",
    "import pandas as pd\n",
    "import json"
   ]
  },
  {
   "cell_type": "code",
   "execution_count": 49,
   "metadata": {},
   "outputs": [],
   "source": [
    "import time\n",
    "import pandas as pd\n",
    "from selenium import webdriver\n",
    "from selenium import webdriver\n",
    "from webdriver_manager.chrome import ChromeDriverManager\n"
   ]
  },
  {
   "cell_type": "code",
   "execution_count": 50,
   "metadata": {},
   "outputs": [
    {
     "name": "stderr",
     "output_type": "stream",
     "text": [
      "\n",
      "\n",
      "====== WebDriver manager ======\n",
      "Current google-chrome version is 90.0.4430\n",
      "Get LATEST driver version for 90.0.4430\n",
      "Driver [C:\\Users\\phani\\.wdm\\drivers\\chromedriver\\win32\\90.0.4430.24\\chromedriver.exe] found in cache\n"
     ]
    }
   ],
   "source": [
    "driver = webdriver.Chrome(ChromeDriverManager().install())"
   ]
  },
  {
   "cell_type": "code",
   "execution_count": 55,
   "metadata": {},
   "outputs": [],
   "source": [
    "driver.get(\"https://www.magicbricks.com/property-for-sale/residential-real-estate?proptype=Multistorey-Apartment,Builder-Floor-Apartment,Penthouse,Studio-Apartment&cityName=Mysore\")\n",
    "property_list = []\n",
    "flag = True\n"
   ]
  },
  {
   "cell_type": "code",
   "execution_count": 56,
   "metadata": {},
   "outputs": [],
   "source": [
    "scroll(driver, 5)"
   ]
  },
  {
   "cell_type": "code",
   "execution_count": null,
   "metadata": {},
   "outputs": [],
   "source": []
  },
  {
   "cell_type": "code",
   "execution_count": 54,
   "metadata": {},
   "outputs": [],
   "source": [
    "def scroll(driver, timeout):\n",
    "    scroll_pause_time = timeout\n",
    "\n",
    "    # Get scroll height\n",
    "    last_height = driver.execute_script(\"return document.body.scrollHeight\")\n",
    "\n",
    "    while True:\n",
    "        # Scroll down to bottom\n",
    "        driver.execute_script(\"window.scrollTo(0, document.body.scrollHeight);\")\n",
    "\n",
    "        # Wait to load page\n",
    "        time.sleep(scroll_pause_time)\n",
    "\n",
    "        # Calculate new scroll height and compare with last scroll height\n",
    "        new_height = driver.execute_script(\"return document.body.scrollHeight\")\n",
    "        if new_height == last_height:\n",
    "            # If heights are the same it will exit the function\n",
    "            break\n",
    "        last_height = new_height"
   ]
  },
  {
   "cell_type": "code",
   "execution_count": 64,
   "metadata": {},
   "outputs": [],
   "source": [
    "div = driver.find_element_by_xpath('.//div[@class=\"l-srp__results flex__item\"]')\n",
    "a = div.find_elements_by_xpath('.//a')"
   ]
  },
  {
   "cell_type": "code",
   "execution_count": 59,
   "metadata": {},
   "outputs": [],
   "source": [
    "for element in a:\n",
    "\ttry:\n",
    "\t\tif element.get_attribute(\"text\")[26:].replace(\"\\n\", \"\") != '':\n",
    "\t\t\tlocation = element.get_attribute(\"text\")[26:].replace(\"\\n\", \"\")\n",
    "\t\t\tprice =  element.find_element_by_xpath('../..//parent::div[@class=\"flex relative clearfix m-srp-card__container\"]').find_element_by_xpath('.//div[@class=\"m-srp-card__price\"]').text\n",
    "\t\t\tarea = element.find_element_by_xpath('..').find_element_by_xpath('..').find_element_by_xpath('.//div[@class=\"m-srp-card__summary__info\"]').text\n",
    "\t\t\tprint(price + \" \" + area + \" \" + location)\n",
    "\t\t\tproperty_list.append({\"localilty\": location, \"area\": area, \"price\": price})\n",
    "\t\n",
    "\t\tdriver.find_element_by_xpath('.//a[@class=\"toc\"]').click()\n",
    "\t\t\t\n",
    "\texcept:\n",
    "\t\tbreak\t\n",
    "\n",
    "\n",
    "\n",
    "\n",
    "# Put into DataFrame for cleaning:\n",
    "\n",
    "df = pd.DataFrame(property_list)\n",
    "df.to_csv(\"properties.csv\")"
   ]
  },
  {
   "cell_type": "code",
   "execution_count": 61,
   "metadata": {},
   "outputs": [
    {
     "data": {
      "text/plain": [
       "<selenium.webdriver.remote.webelement.WebElement (session=\"a80cbd5036bac3469437e97791c08773\", element=\"dd68b555-a6ae-4b0b-861a-dc140676a9f2\")>"
      ]
     },
     "execution_count": 61,
     "metadata": {},
     "output_type": "execute_result"
    }
   ],
   "source": [
    "//*[@id=\"resultBlockWrapper52470377\"]/div[3]"
   ]
  },
  {
   "cell_type": "code",
   "execution_count": null,
   "metadata": {},
   "outputs": [],
   "source": [
    "//*[@id=\"resultBlockWrapper51794001\"]\n",
    "\n",
    "//*[@id=\"resultBlockWrapper52470377\"]/div[3]\n",
    "//*[@id=\"resultBlockWrapper47010853\"]/div[3]\n",
    "//*[@id=\"resultBlockWrapper52470377\"]"
   ]
  },
  {
   "cell_type": "code",
   "execution_count": 69,
   "metadata": {},
   "outputs": [
    {
     "data": {
      "text/plain": [
       "<selenium.webdriver.remote.webelement.WebElement (session=\"a80cbd5036bac3469437e97791c08773\", element=\"dd68b555-a6ae-4b0b-861a-dc140676a9f2\")>"
      ]
     },
     "execution_count": 69,
     "metadata": {},
     "output_type": "execute_result"
    }
   ],
   "source": [
    "div"
   ]
  },
  {
   "cell_type": "code",
   "execution_count": 76,
   "metadata": {},
   "outputs": [],
   "source": [
    "houses = driver.find_elements_by_class_name(\"flex.relative.clearfix.m-srp-card__container \")"
   ]
  },
  {
   "cell_type": "code",
   "execution_count": 77,
   "metadata": {},
   "outputs": [
    {
     "data": {
      "text/plain": [
       "151"
      ]
     },
     "execution_count": 77,
     "metadata": {},
     "output_type": "execute_result"
    }
   ],
   "source": [
    "len(houses)"
   ]
  },
  {
   "cell_type": "code",
   "execution_count": 153,
   "metadata": {},
   "outputs": [],
   "source": [
    "def house_details(i,houses=houses,n=12):\n",
    "    price_pps = houses[i].find_element_by_class_name(\"m-srp-card__info.flex__item\").text\n",
    "    posted_date = houses[i].find_element_by_class_name(\"m-srp-card__post-date\").text\n",
    "    house_overview = houses[i].find_element_by_class_name(\"m-srp-card__title\").text\n",
    "    \n",
    "    written_info = [houses[i].find_element_by_class_name(\"m-srp-card__desc.flex__item\").text]\n",
    "    owner_name = houses[i].find_element_by_class_name(\"m-srp-card__advertiser__name\").text\n",
    "    \n",
    "    other_info_list = houses[i].find_element_by_class_name(\"m-srp-card__summary.js-collapse__content\").find_elements_by_class_name(\"m-srp-card__summary__item\")\n",
    "    \n",
    "    All_data = [price_pps,posted_date,house_overview,written_info,owner_name]\n",
    "    for i in range(n):\n",
    "        locals()[f'info_{i+1}'] = []\n",
    "    \n",
    "    for i in range(len(other_info_list)):\n",
    "        locals()[f'info_{i+1}'].append(other_info_list[i].text)\n",
    "    \n",
    "    for i in range(n):\n",
    "        All_data.append(locals()[f'info_{i+1}'])\n",
    "    \n",
    "    return All_data"
   ]
  },
  {
   "cell_type": "code",
   "execution_count": 181,
   "metadata": {},
   "outputs": [],
   "source": [
    "def house_details_d(i,houses=houses,n=12):\n",
    "    price_pps = houses[i].find_element_by_class_name(\"m-srp-card__info.flex__item\").text\n",
    "    posted_date = houses[i].find_element_by_class_name(\"m-srp-card__post-date\").text\n",
    "    house_overview = houses[i].find_element_by_class_name(\"m-srp-card__title\").text\n",
    "    \n",
    "    written_info = houses[i].find_element_by_class_name(\"m-srp-card__desc.flex__item\").text\n",
    "    owner_name = houses[i].find_element_by_class_name(\"m-srp-card__advertiser__name\").text\n",
    "    \n",
    "    other_info_list = houses[i].find_element_by_class_name(\"m-srp-card__summary.js-collapse__content\").find_elements_by_class_name(\"m-srp-card__summary__item\")\n",
    "    \n",
    "    All_data = {'price_pps':price_pps,'posted_date':posted_date,'house_overview':house_overview,'written_info':written_info,'owner_name':owner_name}\n",
    "    \n",
    "    for i in range(len(other_info_list)):\n",
    "        val = other_info_list[i].text.split('\\n')\n",
    "        if len(val) < 2:\n",
    "            pass\n",
    "        else:\n",
    "            All_data[val[0]] = val[1]\n",
    "    \n",
    "    return All_data"
   ]
  },
  {
   "cell_type": "code",
   "execution_count": 182,
   "metadata": {},
   "outputs": [],
   "source": [
    "def no_infos(i):\n",
    "    return len(houses[i].find_element_by_class_name(\"m-srp-card__summary.js-collapse__content\").find_elements_by_class_name(\"m-srp-card__summary__item\"))"
   ]
  },
  {
   "cell_type": "code",
   "execution_count": 183,
   "metadata": {},
   "outputs": [
    {
     "data": {
      "text/plain": [
       "{'price_pps': '₹ 1.40 Cr',\n",
       " 'posted_date': \"Posted: Apr 29, '21\",\n",
       " 'house_overview': '3 BHK Flat for Sale in Vani Vilas Mohalla',\n",
       " 'written_info': '3 BHK Flat for Sale in Vani Vilas Mohalla\\nCARPET AREA\\n1800 sqft\\nSTATUS\\nReady to Move\\nFLOOR\\n2 out of 5 floors\\nTRANSACTION\\nNew Property\\nNewly Constructed Property\\nUtility with kitchen, well managed Society,,Back up for water and power supply, proximity to all facilities.Cooperative and helpful residents.An elite group of property owners.\\nread more\\nContact Owner\\nShare Feedback\\nOwner\\nSettigere Aswathanarayana',\n",
       " 'owner_name': 'Settigere Aswathanarayana',\n",
       " 'CARPET AREA': '1800 sqft',\n",
       " 'STATUS': 'Ready to Move',\n",
       " 'FLOOR': '2 out of 5 floors',\n",
       " 'TRANSACTION': 'New Property'}"
      ]
     },
     "execution_count": 183,
     "metadata": {},
     "output_type": "execute_result"
    }
   ],
   "source": [
    "house_details_d(3)"
   ]
  },
  {
   "cell_type": "code",
   "execution_count": 184,
   "metadata": {},
   "outputs": [],
   "source": [
    "h3 = house_details_d(3)"
   ]
  },
  {
   "cell_type": "code",
   "execution_count": 185,
   "metadata": {},
   "outputs": [],
   "source": [
    "h2 = house_details_d(2)"
   ]
  },
  {
   "cell_type": "code",
   "execution_count": 188,
   "metadata": {},
   "outputs": [],
   "source": [
    "h = [house_details_d(i) for i in range(len(houses))]"
   ]
  },
  {
   "cell_type": "code",
   "execution_count": 190,
   "metadata": {},
   "outputs": [],
   "source": [
    "df = pd.DataFrame(h)"
   ]
  },
  {
   "cell_type": "code",
   "execution_count": 191,
   "metadata": {},
   "outputs": [
    {
     "data": {
      "text/html": [
       "<div>\n",
       "<style scoped>\n",
       "    .dataframe tbody tr th:only-of-type {\n",
       "        vertical-align: middle;\n",
       "    }\n",
       "\n",
       "    .dataframe tbody tr th {\n",
       "        vertical-align: top;\n",
       "    }\n",
       "\n",
       "    .dataframe thead th {\n",
       "        text-align: right;\n",
       "    }\n",
       "</style>\n",
       "<table border=\"1\" class=\"dataframe\">\n",
       "  <thead>\n",
       "    <tr style=\"text-align: right;\">\n",
       "      <th></th>\n",
       "      <th>price_pps</th>\n",
       "      <th>posted_date</th>\n",
       "      <th>house_overview</th>\n",
       "      <th>written_info</th>\n",
       "      <th>owner_name</th>\n",
       "      <th>SUPER AREA</th>\n",
       "      <th>STATUS</th>\n",
       "      <th>FLOOR</th>\n",
       "      <th>TRANSACTION</th>\n",
       "      <th>FURNISHING</th>\n",
       "      <th>CARPET AREA</th>\n",
       "      <th>OVERLOOKING</th>\n",
       "      <th>SOCIETY</th>\n",
       "    </tr>\n",
       "  </thead>\n",
       "  <tbody>\n",
       "    <tr>\n",
       "      <th>0</th>\n",
       "      <td>₹ 1 Cr\\n₹ 5319 per sqft</td>\n",
       "      <td>Posted: May 14, '21</td>\n",
       "      <td>3 BHK Flat for Sale Govianu Gurikar Luxuria, i...</td>\n",
       "      <td>3 BHK Flat for Sale Govianu Gurikar Luxuria, i...</td>\n",
       "      <td>AARIKA</td>\n",
       "      <td>1880 sqft</td>\n",
       "      <td>Ready to Move</td>\n",
       "      <td>Ground out of 4 floors</td>\n",
       "      <td>Resale</td>\n",
       "      <td>NaN</td>\n",
       "      <td>NaN</td>\n",
       "      <td>NaN</td>\n",
       "      <td>NaN</td>\n",
       "    </tr>\n",
       "    <tr>\n",
       "      <th>1</th>\n",
       "      <td>₹ 48.5 Lac\\n₹ 5389 per sqft</td>\n",
       "      <td>Posted: May 18, '21</td>\n",
       "      <td>2 BHK Flat for Sale in Somnath Nagar</td>\n",
       "      <td>2 BHK Flat for Sale in Somnath Nagar\\nSUPER AR...</td>\n",
       "      <td>Kiran</td>\n",
       "      <td>900 sqft</td>\n",
       "      <td>NaN</td>\n",
       "      <td>2 out of 4 floors</td>\n",
       "      <td>Resale</td>\n",
       "      <td>Unfurnished</td>\n",
       "      <td>NaN</td>\n",
       "      <td>NaN</td>\n",
       "      <td>NaN</td>\n",
       "    </tr>\n",
       "    <tr>\n",
       "      <th>2</th>\n",
       "      <td>₹ 50 Lac\\n₹ 4032 per sqft</td>\n",
       "      <td>Posted: May 15, '21</td>\n",
       "      <td>2 BHK Flat for Sale Zuari Garden City, in Srir...</td>\n",
       "      <td>2 BHK Flat for Sale Zuari Garden City, in Srir...</td>\n",
       "      <td>Manjunath Nadig C K</td>\n",
       "      <td>1240 sqft</td>\n",
       "      <td>NaN</td>\n",
       "      <td>1 out of 12 floors</td>\n",
       "      <td>Resale</td>\n",
       "      <td>Unfurnished</td>\n",
       "      <td>NaN</td>\n",
       "      <td>NaN</td>\n",
       "      <td>NaN</td>\n",
       "    </tr>\n",
       "    <tr>\n",
       "      <th>3</th>\n",
       "      <td>₹ 1.40 Cr</td>\n",
       "      <td>Posted: Apr 29, '21</td>\n",
       "      <td>3 BHK Flat for Sale in Vani Vilas Mohalla</td>\n",
       "      <td>3 BHK Flat for Sale in Vani Vilas Mohalla\\nCAR...</td>\n",
       "      <td>Settigere Aswathanarayana</td>\n",
       "      <td>NaN</td>\n",
       "      <td>Ready to Move</td>\n",
       "      <td>2 out of 5 floors</td>\n",
       "      <td>New Property</td>\n",
       "      <td>NaN</td>\n",
       "      <td>1800 sqft</td>\n",
       "      <td>NaN</td>\n",
       "      <td>NaN</td>\n",
       "    </tr>\n",
       "    <tr>\n",
       "      <th>4</th>\n",
       "      <td>₹ 75 Lac\\n₹ 5850 per sqft</td>\n",
       "      <td>Posted: May 12, '21</td>\n",
       "      <td>3 BHK Flat for Sale in Hebbal</td>\n",
       "      <td>3 BHK Flat for Sale in Hebbal\\nSUPER AREA\\n128...</td>\n",
       "      <td>Nagabhushan</td>\n",
       "      <td>1282 sqft</td>\n",
       "      <td>Ready to Move</td>\n",
       "      <td>Ground out of 4 floors</td>\n",
       "      <td>Resale</td>\n",
       "      <td>NaN</td>\n",
       "      <td>NaN</td>\n",
       "      <td>NaN</td>\n",
       "      <td>NaN</td>\n",
       "    </tr>\n",
       "    <tr>\n",
       "      <th>...</th>\n",
       "      <td>...</td>\n",
       "      <td>...</td>\n",
       "      <td>...</td>\n",
       "      <td>...</td>\n",
       "      <td>...</td>\n",
       "      <td>...</td>\n",
       "      <td>...</td>\n",
       "      <td>...</td>\n",
       "      <td>...</td>\n",
       "      <td>...</td>\n",
       "      <td>...</td>\n",
       "      <td>...</td>\n",
       "      <td>...</td>\n",
       "    </tr>\n",
       "    <tr>\n",
       "      <th>146</th>\n",
       "      <td>₹ 60 Lac\\nSee other Charges</td>\n",
       "      <td>Posted: Apr 20, '21</td>\n",
       "      <td>2 BHK Apartment for Sale in Sunpure Homes, Vij...</td>\n",
       "      <td>2 BHK Apartment for Sale in Sunpure Homes, Vij...</td>\n",
       "      <td>Waseem Khan</td>\n",
       "      <td>NaN</td>\n",
       "      <td>Possession by Jun '21</td>\n",
       "      <td>Ground out of 1 floor</td>\n",
       "      <td>NaN</td>\n",
       "      <td>NaN</td>\n",
       "      <td>980 sqft</td>\n",
       "      <td>NaN</td>\n",
       "      <td>NaN</td>\n",
       "    </tr>\n",
       "    <tr>\n",
       "      <th>147</th>\n",
       "      <td>₹ 56.5 Lac\\n₹ 5026 per sqft\\nSee other Charges</td>\n",
       "      <td>Posted: Apr 19, '21</td>\n",
       "      <td>2 BHK Apartment for Sale in Foundations Dhiya,...</td>\n",
       "      <td>2 BHK Apartment for Sale in Foundations Dhiya,...</td>\n",
       "      <td>Foundations Developers &amp; Promoters</td>\n",
       "      <td>1124 sqft</td>\n",
       "      <td>Possession by Dec '21</td>\n",
       "      <td>2 out of 2 floors</td>\n",
       "      <td>New Property</td>\n",
       "      <td>NaN</td>\n",
       "      <td>NaN</td>\n",
       "      <td>NaN</td>\n",
       "      <td>NaN</td>\n",
       "    </tr>\n",
       "    <tr>\n",
       "      <th>148</th>\n",
       "      <td>₹ 61 Lac\\nSee other Charges</td>\n",
       "      <td>Posted: Apr 20, '21</td>\n",
       "      <td>3 BHK Apartment for Sale in Astrum Grandview, ...</td>\n",
       "      <td>3 BHK Apartment for Sale in Astrum Grandview, ...</td>\n",
       "      <td>Waseem Khan</td>\n",
       "      <td>NaN</td>\n",
       "      <td>Ready to Move</td>\n",
       "      <td>6 out of 11 floors</td>\n",
       "      <td>New Property</td>\n",
       "      <td>NaN</td>\n",
       "      <td>1250 sqft</td>\n",
       "      <td>NaN</td>\n",
       "      <td>NaN</td>\n",
       "    </tr>\n",
       "    <tr>\n",
       "      <th>149</th>\n",
       "      <td>₹ 54 Lac\\nSee other Charges</td>\n",
       "      <td>Posted: Apr 20, '21</td>\n",
       "      <td>2 BHK Apartment for Sale in Zuari Garden City,...</td>\n",
       "      <td>2 BHK Apartment for Sale in Zuari Garden City,...</td>\n",
       "      <td>Waseem Khan</td>\n",
       "      <td>NaN</td>\n",
       "      <td>Possession by Oct '21</td>\n",
       "      <td>5 out of 8 floors</td>\n",
       "      <td>New Property</td>\n",
       "      <td>NaN</td>\n",
       "      <td>960 sqft</td>\n",
       "      <td>NaN</td>\n",
       "      <td>NaN</td>\n",
       "    </tr>\n",
       "    <tr>\n",
       "      <th>150</th>\n",
       "      <td>₹ 59 Lac\\nSee other Charges</td>\n",
       "      <td>Posted: Apr 19, '21</td>\n",
       "      <td>2 BHK Apartment for Sale in Prithvi World, Naz...</td>\n",
       "      <td>2 BHK Apartment for Sale in Prithvi World, Naz...</td>\n",
       "      <td>Waseem Khan</td>\n",
       "      <td>NaN</td>\n",
       "      <td>Possession by Nov '21</td>\n",
       "      <td>4 out of 7 floors</td>\n",
       "      <td>New Property</td>\n",
       "      <td>NaN</td>\n",
       "      <td>950 sqft</td>\n",
       "      <td>NaN</td>\n",
       "      <td>NaN</td>\n",
       "    </tr>\n",
       "  </tbody>\n",
       "</table>\n",
       "<p>151 rows × 13 columns</p>\n",
       "</div>"
      ],
      "text/plain": [
       "                                          price_pps          posted_date  \\\n",
       "0                           ₹ 1 Cr\\n₹ 5319 per sqft  Posted: May 14, '21   \n",
       "1                       ₹ 48.5 Lac\\n₹ 5389 per sqft  Posted: May 18, '21   \n",
       "2                         ₹ 50 Lac\\n₹ 4032 per sqft  Posted: May 15, '21   \n",
       "3                                         ₹ 1.40 Cr  Posted: Apr 29, '21   \n",
       "4                         ₹ 75 Lac\\n₹ 5850 per sqft  Posted: May 12, '21   \n",
       "..                                              ...                  ...   \n",
       "146                     ₹ 60 Lac\\nSee other Charges  Posted: Apr 20, '21   \n",
       "147  ₹ 56.5 Lac\\n₹ 5026 per sqft\\nSee other Charges  Posted: Apr 19, '21   \n",
       "148                     ₹ 61 Lac\\nSee other Charges  Posted: Apr 20, '21   \n",
       "149                     ₹ 54 Lac\\nSee other Charges  Posted: Apr 20, '21   \n",
       "150                     ₹ 59 Lac\\nSee other Charges  Posted: Apr 19, '21   \n",
       "\n",
       "                                        house_overview  \\\n",
       "0    3 BHK Flat for Sale Govianu Gurikar Luxuria, i...   \n",
       "1                 2 BHK Flat for Sale in Somnath Nagar   \n",
       "2    2 BHK Flat for Sale Zuari Garden City, in Srir...   \n",
       "3            3 BHK Flat for Sale in Vani Vilas Mohalla   \n",
       "4                        3 BHK Flat for Sale in Hebbal   \n",
       "..                                                 ...   \n",
       "146  2 BHK Apartment for Sale in Sunpure Homes, Vij...   \n",
       "147  2 BHK Apartment for Sale in Foundations Dhiya,...   \n",
       "148  3 BHK Apartment for Sale in Astrum Grandview, ...   \n",
       "149  2 BHK Apartment for Sale in Zuari Garden City,...   \n",
       "150  2 BHK Apartment for Sale in Prithvi World, Naz...   \n",
       "\n",
       "                                          written_info  \\\n",
       "0    3 BHK Flat for Sale Govianu Gurikar Luxuria, i...   \n",
       "1    2 BHK Flat for Sale in Somnath Nagar\\nSUPER AR...   \n",
       "2    2 BHK Flat for Sale Zuari Garden City, in Srir...   \n",
       "3    3 BHK Flat for Sale in Vani Vilas Mohalla\\nCAR...   \n",
       "4    3 BHK Flat for Sale in Hebbal\\nSUPER AREA\\n128...   \n",
       "..                                                 ...   \n",
       "146  2 BHK Apartment for Sale in Sunpure Homes, Vij...   \n",
       "147  2 BHK Apartment for Sale in Foundations Dhiya,...   \n",
       "148  3 BHK Apartment for Sale in Astrum Grandview, ...   \n",
       "149  2 BHK Apartment for Sale in Zuari Garden City,...   \n",
       "150  2 BHK Apartment for Sale in Prithvi World, Naz...   \n",
       "\n",
       "                             owner_name SUPER AREA                 STATUS  \\\n",
       "0                                AARIKA  1880 sqft          Ready to Move   \n",
       "1                                 Kiran   900 sqft                    NaN   \n",
       "2                   Manjunath Nadig C K  1240 sqft                    NaN   \n",
       "3             Settigere Aswathanarayana        NaN          Ready to Move   \n",
       "4                           Nagabhushan  1282 sqft          Ready to Move   \n",
       "..                                  ...        ...                    ...   \n",
       "146                         Waseem Khan        NaN  Possession by Jun '21   \n",
       "147  Foundations Developers & Promoters  1124 sqft  Possession by Dec '21   \n",
       "148                         Waseem Khan        NaN          Ready to Move   \n",
       "149                         Waseem Khan        NaN  Possession by Oct '21   \n",
       "150                         Waseem Khan        NaN  Possession by Nov '21   \n",
       "\n",
       "                      FLOOR   TRANSACTION   FURNISHING CARPET AREA  \\\n",
       "0    Ground out of 4 floors        Resale          NaN         NaN   \n",
       "1         2 out of 4 floors        Resale  Unfurnished         NaN   \n",
       "2        1 out of 12 floors        Resale  Unfurnished         NaN   \n",
       "3         2 out of 5 floors  New Property          NaN   1800 sqft   \n",
       "4    Ground out of 4 floors        Resale          NaN         NaN   \n",
       "..                      ...           ...          ...         ...   \n",
       "146   Ground out of 1 floor           NaN          NaN    980 sqft   \n",
       "147       2 out of 2 floors  New Property          NaN         NaN   \n",
       "148      6 out of 11 floors  New Property          NaN   1250 sqft   \n",
       "149       5 out of 8 floors  New Property          NaN    960 sqft   \n",
       "150       4 out of 7 floors  New Property          NaN    950 sqft   \n",
       "\n",
       "    OVERLOOKING SOCIETY  \n",
       "0           NaN     NaN  \n",
       "1           NaN     NaN  \n",
       "2           NaN     NaN  \n",
       "3           NaN     NaN  \n",
       "4           NaN     NaN  \n",
       "..          ...     ...  \n",
       "146         NaN     NaN  \n",
       "147         NaN     NaN  \n",
       "148         NaN     NaN  \n",
       "149         NaN     NaN  \n",
       "150         NaN     NaN  \n",
       "\n",
       "[151 rows x 13 columns]"
      ]
     },
     "execution_count": 191,
     "metadata": {},
     "output_type": "execute_result"
    }
   ],
   "source": [
    "df"
   ]
  },
  {
   "cell_type": "code",
   "execution_count": 240,
   "metadata": {},
   "outputs": [],
   "source": [
    "def get_rooms(x):\n",
    "    return int(x.split(' BHK')[0])\n",
    "\n",
    "def get_location(x):\n",
    "    s = x.split('for Sale ')[1]\n",
    "    if 'in' in s:\n",
    "        l = s.split('in ')\n",
    "        if len(l) == 2:\n",
    "            s = l[0] + l[1]\n",
    "        else:\n",
    "            s = x.split('for Sale ')[1]\n",
    "    return s"
   ]
  },
  {
   "cell_type": "code",
   "execution_count": 241,
   "metadata": {},
   "outputs": [],
   "source": [
    "df['rooms'] = df['house_overview'].apply(lambda x: get_rooms(x))\n",
    "df['location'] = df['house_overview'].apply(lambda x: get_location(x))"
   ]
  },
  {
   "cell_type": "code",
   "execution_count": 243,
   "metadata": {},
   "outputs": [],
   "source": [
    "df['location'] = df['location'].apply(lambda x: x + ', Mysore')"
   ]
  },
  {
   "cell_type": "code",
   "execution_count": 254,
   "metadata": {},
   "outputs": [
    {
     "data": {
      "text/plain": [
       "'5319 per sqft'"
      ]
     },
     "execution_count": 254,
     "metadata": {},
     "output_type": "execute_result"
    }
   ],
   "source": [
    "df['price_pps'][0].split('\\n')[1].split('₹ ')[1]"
   ]
  },
  {
   "cell_type": "code",
   "execution_count": 264,
   "metadata": {},
   "outputs": [],
   "source": [
    "def convert_srt_price_in_lac(x):\n",
    "    if 'Cr' in x:\n",
    "        a = float(x.split(' Cr')[0].split('₹ ')[1])*100\n",
    "    \n",
    "    if 'Lac' in x:\n",
    "        a = float(x.split(' Lac')[0].split('₹ ')[1])\n",
    "    \n",
    "    return a\n",
    "\n"
   ]
  },
  {
   "cell_type": "code",
   "execution_count": 295,
   "metadata": {},
   "outputs": [],
   "source": [
    "def get_pps(x):\n",
    "    if '\\n' not in x or 'Call for Price' in x or 'See other Charges' in x:\n",
    "        return 'Na'\n",
    "    else:\n",
    "        #print(x)\n",
    "        return x.split('\\n')[1].split('₹ ')[1]"
   ]
  },
  {
   "cell_type": "code",
   "execution_count": 294,
   "metadata": {},
   "outputs": [],
   "source": [
    "def get_price(x):\n",
    "    if '₹' not in x or 'Call for Price' in x :\n",
    "        price = 'Na'\n",
    "        return price\n",
    "    if '\\n' in x and '₹' in x:\n",
    "        #print(x)\n",
    "        s = x.split('\\n')[0].split('₹ ')[1]\n",
    "        price = convert_srt_price_in_lac(x)\n",
    "        return price\n",
    "    else:\n",
    "        s = x\n",
    "        price = convert_srt_price_in_lac(x)\n",
    "    return price"
   ]
  },
  {
   "cell_type": "code",
   "execution_count": 273,
   "metadata": {},
   "outputs": [],
   "source": [
    "def dummy_price(x):\n",
    "    if '\\n' not in x:\n",
    "        y = x + '\\n ₹ Na'\n",
    "    else:\n",
    "        y = x\n",
    "    return y"
   ]
  },
  {
   "cell_type": "code",
   "execution_count": 258,
   "metadata": {},
   "outputs": [],
   "source": [
    "df['price_pps'] = df['price_pps'].apply(lambda x: dummy_price(x))"
   ]
  },
  {
   "cell_type": "code",
   "execution_count": 286,
   "metadata": {},
   "outputs": [],
   "source": [
    "df['Price'] = df['price_pps'].apply(lambda x: get_price(x))"
   ]
  },
  {
   "cell_type": "code",
   "execution_count": 296,
   "metadata": {},
   "outputs": [],
   "source": [
    "df['given_pps'] = df['price_pps'].apply(lambda x: get_pps(x))"
   ]
  },
  {
   "cell_type": "code",
   "execution_count": 318,
   "metadata": {},
   "outputs": [],
   "source": [
    "def get_year(x):\n",
    "    #print(x)\n",
    "    return 2000 + int(x.split(': ')[1].split(\", '\")[1])"
   ]
  },
  {
   "cell_type": "code",
   "execution_count": 319,
   "metadata": {},
   "outputs": [],
   "source": [
    "def month(x):\n",
    "    return x.split(': ')[1].split(\", '\")[0].split(' ')[0]\n",
    "    "
   ]
  },
  {
   "cell_type": "code",
   "execution_count": 312,
   "metadata": {},
   "outputs": [
    {
     "data": {
      "text/plain": [
       "'May'"
      ]
     },
     "execution_count": 312,
     "metadata": {},
     "output_type": "execute_result"
    }
   ],
   "source": [
    "df['posted_date'][0].split(': ')[1].split(\", '\")[0].split(' ')[0]"
   ]
  },
  {
   "cell_type": "code",
   "execution_count": 315,
   "metadata": {},
   "outputs": [],
   "source": [
    "df['posted_date'].replace('Posted: Today',\"Posted: May 27, '21\",inplace=True)"
   ]
  },
  {
   "cell_type": "code",
   "execution_count": 317,
   "metadata": {},
   "outputs": [],
   "source": [
    "df['posted_date'].replace('Posted: Yesterday',\"Posted: May 26, '21\",inplace=True)"
   ]
  },
  {
   "cell_type": "code",
   "execution_count": 320,
   "metadata": {},
   "outputs": [],
   "source": [
    "df['year'] = df['posted_date'].apply(lambda x: get_year(x))\n",
    "df['month'] = df['posted_date'].apply(lambda x: month(x))"
   ]
  },
  {
   "cell_type": "code",
   "execution_count": 321,
   "metadata": {},
   "outputs": [
    {
     "data": {
      "text/html": [
       "<div>\n",
       "<style scoped>\n",
       "    .dataframe tbody tr th:only-of-type {\n",
       "        vertical-align: middle;\n",
       "    }\n",
       "\n",
       "    .dataframe tbody tr th {\n",
       "        vertical-align: top;\n",
       "    }\n",
       "\n",
       "    .dataframe thead th {\n",
       "        text-align: right;\n",
       "    }\n",
       "</style>\n",
       "<table border=\"1\" class=\"dataframe\">\n",
       "  <thead>\n",
       "    <tr style=\"text-align: right;\">\n",
       "      <th></th>\n",
       "      <th>price_pps</th>\n",
       "      <th>posted_date</th>\n",
       "      <th>house_overview</th>\n",
       "      <th>written_info</th>\n",
       "      <th>owner_name</th>\n",
       "      <th>SUPER AREA</th>\n",
       "      <th>STATUS</th>\n",
       "      <th>FLOOR</th>\n",
       "      <th>TRANSACTION</th>\n",
       "      <th>FURNISHING</th>\n",
       "      <th>CARPET AREA</th>\n",
       "      <th>OVERLOOKING</th>\n",
       "      <th>SOCIETY</th>\n",
       "      <th>rooms</th>\n",
       "      <th>location</th>\n",
       "      <th>Price</th>\n",
       "      <th>given_pps</th>\n",
       "      <th>year</th>\n",
       "      <th>month</th>\n",
       "    </tr>\n",
       "  </thead>\n",
       "  <tbody>\n",
       "    <tr>\n",
       "      <th>0</th>\n",
       "      <td>₹ 1 Cr\\n₹ 5319 per sqft</td>\n",
       "      <td>Posted: May 14, '21</td>\n",
       "      <td>3 BHK Flat for Sale Govianu Gurikar Luxuria, i...</td>\n",
       "      <td>3 BHK Flat for Sale Govianu Gurikar Luxuria, i...</td>\n",
       "      <td>AARIKA</td>\n",
       "      <td>1880 sqft</td>\n",
       "      <td>Ready to Move</td>\n",
       "      <td>Ground out of 4 floors</td>\n",
       "      <td>Resale</td>\n",
       "      <td>NaN</td>\n",
       "      <td>NaN</td>\n",
       "      <td>NaN</td>\n",
       "      <td>NaN</td>\n",
       "      <td>3</td>\n",
       "      <td>Govianu Gurikar Luxuria, Ittigegud, Mysore</td>\n",
       "      <td>100</td>\n",
       "      <td>5319 per sqft</td>\n",
       "      <td>2021</td>\n",
       "      <td>May</td>\n",
       "    </tr>\n",
       "    <tr>\n",
       "      <th>1</th>\n",
       "      <td>₹ 48.5 Lac\\n₹ 5389 per sqft</td>\n",
       "      <td>Posted: May 18, '21</td>\n",
       "      <td>2 BHK Flat for Sale in Somnath Nagar</td>\n",
       "      <td>2 BHK Flat for Sale in Somnath Nagar\\nSUPER AR...</td>\n",
       "      <td>Kiran</td>\n",
       "      <td>900 sqft</td>\n",
       "      <td>NaN</td>\n",
       "      <td>2 out of 4 floors</td>\n",
       "      <td>Resale</td>\n",
       "      <td>Unfurnished</td>\n",
       "      <td>NaN</td>\n",
       "      <td>NaN</td>\n",
       "      <td>NaN</td>\n",
       "      <td>2</td>\n",
       "      <td>Somnath Nagar, Mysore</td>\n",
       "      <td>48.5</td>\n",
       "      <td>5389 per sqft</td>\n",
       "      <td>2021</td>\n",
       "      <td>May</td>\n",
       "    </tr>\n",
       "    <tr>\n",
       "      <th>2</th>\n",
       "      <td>₹ 50 Lac\\n₹ 4032 per sqft</td>\n",
       "      <td>Posted: May 15, '21</td>\n",
       "      <td>2 BHK Flat for Sale Zuari Garden City, in Srir...</td>\n",
       "      <td>2 BHK Flat for Sale Zuari Garden City, in Srir...</td>\n",
       "      <td>Manjunath Nadig C K</td>\n",
       "      <td>1240 sqft</td>\n",
       "      <td>NaN</td>\n",
       "      <td>1 out of 12 floors</td>\n",
       "      <td>Resale</td>\n",
       "      <td>Unfurnished</td>\n",
       "      <td>NaN</td>\n",
       "      <td>NaN</td>\n",
       "      <td>NaN</td>\n",
       "      <td>2</td>\n",
       "      <td>Zuari Garden City, Srirangapatnam, Mysore</td>\n",
       "      <td>50</td>\n",
       "      <td>4032 per sqft</td>\n",
       "      <td>2021</td>\n",
       "      <td>May</td>\n",
       "    </tr>\n",
       "    <tr>\n",
       "      <th>3</th>\n",
       "      <td>₹ 1.40 Cr\\n ₹ Na</td>\n",
       "      <td>Posted: Apr 29, '21</td>\n",
       "      <td>3 BHK Flat for Sale in Vani Vilas Mohalla</td>\n",
       "      <td>3 BHK Flat for Sale in Vani Vilas Mohalla\\nCAR...</td>\n",
       "      <td>Settigere Aswathanarayana</td>\n",
       "      <td>NaN</td>\n",
       "      <td>Ready to Move</td>\n",
       "      <td>2 out of 5 floors</td>\n",
       "      <td>New Property</td>\n",
       "      <td>NaN</td>\n",
       "      <td>1800 sqft</td>\n",
       "      <td>NaN</td>\n",
       "      <td>NaN</td>\n",
       "      <td>3</td>\n",
       "      <td>Vani Vilas Mohalla, Mysore</td>\n",
       "      <td>140</td>\n",
       "      <td>Na</td>\n",
       "      <td>2021</td>\n",
       "      <td>Apr</td>\n",
       "    </tr>\n",
       "    <tr>\n",
       "      <th>4</th>\n",
       "      <td>₹ 75 Lac\\n₹ 5850 per sqft</td>\n",
       "      <td>Posted: May 12, '21</td>\n",
       "      <td>3 BHK Flat for Sale in Hebbal</td>\n",
       "      <td>3 BHK Flat for Sale in Hebbal\\nSUPER AREA\\n128...</td>\n",
       "      <td>Nagabhushan</td>\n",
       "      <td>1282 sqft</td>\n",
       "      <td>Ready to Move</td>\n",
       "      <td>Ground out of 4 floors</td>\n",
       "      <td>Resale</td>\n",
       "      <td>NaN</td>\n",
       "      <td>NaN</td>\n",
       "      <td>NaN</td>\n",
       "      <td>NaN</td>\n",
       "      <td>3</td>\n",
       "      <td>Hebbal, Mysore</td>\n",
       "      <td>75</td>\n",
       "      <td>5850 per sqft</td>\n",
       "      <td>2021</td>\n",
       "      <td>May</td>\n",
       "    </tr>\n",
       "    <tr>\n",
       "      <th>...</th>\n",
       "      <td>...</td>\n",
       "      <td>...</td>\n",
       "      <td>...</td>\n",
       "      <td>...</td>\n",
       "      <td>...</td>\n",
       "      <td>...</td>\n",
       "      <td>...</td>\n",
       "      <td>...</td>\n",
       "      <td>...</td>\n",
       "      <td>...</td>\n",
       "      <td>...</td>\n",
       "      <td>...</td>\n",
       "      <td>...</td>\n",
       "      <td>...</td>\n",
       "      <td>...</td>\n",
       "      <td>...</td>\n",
       "      <td>...</td>\n",
       "      <td>...</td>\n",
       "      <td>...</td>\n",
       "    </tr>\n",
       "    <tr>\n",
       "      <th>146</th>\n",
       "      <td>₹ 60 Lac\\nSee other Charges</td>\n",
       "      <td>Posted: Apr 20, '21</td>\n",
       "      <td>2 BHK Apartment for Sale in Sunpure Homes, Vij...</td>\n",
       "      <td>2 BHK Apartment for Sale in Sunpure Homes, Vij...</td>\n",
       "      <td>Waseem Khan</td>\n",
       "      <td>NaN</td>\n",
       "      <td>Possession by Jun '21</td>\n",
       "      <td>Ground out of 1 floor</td>\n",
       "      <td>NaN</td>\n",
       "      <td>NaN</td>\n",
       "      <td>980 sqft</td>\n",
       "      <td>NaN</td>\n",
       "      <td>NaN</td>\n",
       "      <td>2</td>\n",
       "      <td>Sunpure Homes, Vijayanagar 4th Stage, Mysore</td>\n",
       "      <td>60</td>\n",
       "      <td>Na</td>\n",
       "      <td>2021</td>\n",
       "      <td>Apr</td>\n",
       "    </tr>\n",
       "    <tr>\n",
       "      <th>147</th>\n",
       "      <td>₹ 56.5 Lac\\n₹ 5026 per sqft\\nSee other Charges</td>\n",
       "      <td>Posted: Apr 19, '21</td>\n",
       "      <td>2 BHK Apartment for Sale in Foundations Dhiya,...</td>\n",
       "      <td>2 BHK Apartment for Sale in Foundations Dhiya,...</td>\n",
       "      <td>Foundations Developers &amp; Promoters</td>\n",
       "      <td>1124 sqft</td>\n",
       "      <td>Possession by Dec '21</td>\n",
       "      <td>2 out of 2 floors</td>\n",
       "      <td>New Property</td>\n",
       "      <td>NaN</td>\n",
       "      <td>NaN</td>\n",
       "      <td>NaN</td>\n",
       "      <td>NaN</td>\n",
       "      <td>2</td>\n",
       "      <td>Foundations Dhiya, Dattagalli, Mysore</td>\n",
       "      <td>56.5</td>\n",
       "      <td>Na</td>\n",
       "      <td>2021</td>\n",
       "      <td>Apr</td>\n",
       "    </tr>\n",
       "    <tr>\n",
       "      <th>148</th>\n",
       "      <td>₹ 61 Lac\\nSee other Charges</td>\n",
       "      <td>Posted: Apr 20, '21</td>\n",
       "      <td>3 BHK Apartment for Sale in Astrum Grandview, ...</td>\n",
       "      <td>3 BHK Apartment for Sale in Astrum Grandview, ...</td>\n",
       "      <td>Waseem Khan</td>\n",
       "      <td>NaN</td>\n",
       "      <td>Ready to Move</td>\n",
       "      <td>6 out of 11 floors</td>\n",
       "      <td>New Property</td>\n",
       "      <td>NaN</td>\n",
       "      <td>1250 sqft</td>\n",
       "      <td>NaN</td>\n",
       "      <td>NaN</td>\n",
       "      <td>3</td>\n",
       "      <td>Astrum Grandview, Nanjungud Road, Mysore</td>\n",
       "      <td>61</td>\n",
       "      <td>Na</td>\n",
       "      <td>2021</td>\n",
       "      <td>Apr</td>\n",
       "    </tr>\n",
       "    <tr>\n",
       "      <th>149</th>\n",
       "      <td>₹ 54 Lac\\nSee other Charges</td>\n",
       "      <td>Posted: Apr 20, '21</td>\n",
       "      <td>2 BHK Apartment for Sale in Zuari Garden City,...</td>\n",
       "      <td>2 BHK Apartment for Sale in Zuari Garden City,...</td>\n",
       "      <td>Waseem Khan</td>\n",
       "      <td>NaN</td>\n",
       "      <td>Possession by Oct '21</td>\n",
       "      <td>5 out of 8 floors</td>\n",
       "      <td>New Property</td>\n",
       "      <td>NaN</td>\n",
       "      <td>960 sqft</td>\n",
       "      <td>NaN</td>\n",
       "      <td>NaN</td>\n",
       "      <td>2</td>\n",
       "      <td>Zuari Garden City, Srirangapatnam, Mysore</td>\n",
       "      <td>54</td>\n",
       "      <td>Na</td>\n",
       "      <td>2021</td>\n",
       "      <td>Apr</td>\n",
       "    </tr>\n",
       "    <tr>\n",
       "      <th>150</th>\n",
       "      <td>₹ 59 Lac\\nSee other Charges</td>\n",
       "      <td>Posted: Apr 19, '21</td>\n",
       "      <td>2 BHK Apartment for Sale in Prithvi World, Naz...</td>\n",
       "      <td>2 BHK Apartment for Sale in Prithvi World, Naz...</td>\n",
       "      <td>Waseem Khan</td>\n",
       "      <td>NaN</td>\n",
       "      <td>Possession by Nov '21</td>\n",
       "      <td>4 out of 7 floors</td>\n",
       "      <td>New Property</td>\n",
       "      <td>NaN</td>\n",
       "      <td>950 sqft</td>\n",
       "      <td>NaN</td>\n",
       "      <td>NaN</td>\n",
       "      <td>2</td>\n",
       "      <td>Prithvi World, Nazarbad, Mysore</td>\n",
       "      <td>59</td>\n",
       "      <td>Na</td>\n",
       "      <td>2021</td>\n",
       "      <td>Apr</td>\n",
       "    </tr>\n",
       "  </tbody>\n",
       "</table>\n",
       "<p>151 rows × 19 columns</p>\n",
       "</div>"
      ],
      "text/plain": [
       "                                          price_pps          posted_date  \\\n",
       "0                           ₹ 1 Cr\\n₹ 5319 per sqft  Posted: May 14, '21   \n",
       "1                       ₹ 48.5 Lac\\n₹ 5389 per sqft  Posted: May 18, '21   \n",
       "2                         ₹ 50 Lac\\n₹ 4032 per sqft  Posted: May 15, '21   \n",
       "3                                  ₹ 1.40 Cr\\n ₹ Na  Posted: Apr 29, '21   \n",
       "4                         ₹ 75 Lac\\n₹ 5850 per sqft  Posted: May 12, '21   \n",
       "..                                              ...                  ...   \n",
       "146                     ₹ 60 Lac\\nSee other Charges  Posted: Apr 20, '21   \n",
       "147  ₹ 56.5 Lac\\n₹ 5026 per sqft\\nSee other Charges  Posted: Apr 19, '21   \n",
       "148                     ₹ 61 Lac\\nSee other Charges  Posted: Apr 20, '21   \n",
       "149                     ₹ 54 Lac\\nSee other Charges  Posted: Apr 20, '21   \n",
       "150                     ₹ 59 Lac\\nSee other Charges  Posted: Apr 19, '21   \n",
       "\n",
       "                                        house_overview  \\\n",
       "0    3 BHK Flat for Sale Govianu Gurikar Luxuria, i...   \n",
       "1                 2 BHK Flat for Sale in Somnath Nagar   \n",
       "2    2 BHK Flat for Sale Zuari Garden City, in Srir...   \n",
       "3            3 BHK Flat for Sale in Vani Vilas Mohalla   \n",
       "4                        3 BHK Flat for Sale in Hebbal   \n",
       "..                                                 ...   \n",
       "146  2 BHK Apartment for Sale in Sunpure Homes, Vij...   \n",
       "147  2 BHK Apartment for Sale in Foundations Dhiya,...   \n",
       "148  3 BHK Apartment for Sale in Astrum Grandview, ...   \n",
       "149  2 BHK Apartment for Sale in Zuari Garden City,...   \n",
       "150  2 BHK Apartment for Sale in Prithvi World, Naz...   \n",
       "\n",
       "                                          written_info  \\\n",
       "0    3 BHK Flat for Sale Govianu Gurikar Luxuria, i...   \n",
       "1    2 BHK Flat for Sale in Somnath Nagar\\nSUPER AR...   \n",
       "2    2 BHK Flat for Sale Zuari Garden City, in Srir...   \n",
       "3    3 BHK Flat for Sale in Vani Vilas Mohalla\\nCAR...   \n",
       "4    3 BHK Flat for Sale in Hebbal\\nSUPER AREA\\n128...   \n",
       "..                                                 ...   \n",
       "146  2 BHK Apartment for Sale in Sunpure Homes, Vij...   \n",
       "147  2 BHK Apartment for Sale in Foundations Dhiya,...   \n",
       "148  3 BHK Apartment for Sale in Astrum Grandview, ...   \n",
       "149  2 BHK Apartment for Sale in Zuari Garden City,...   \n",
       "150  2 BHK Apartment for Sale in Prithvi World, Naz...   \n",
       "\n",
       "                             owner_name SUPER AREA                 STATUS  \\\n",
       "0                                AARIKA  1880 sqft          Ready to Move   \n",
       "1                                 Kiran   900 sqft                    NaN   \n",
       "2                   Manjunath Nadig C K  1240 sqft                    NaN   \n",
       "3             Settigere Aswathanarayana        NaN          Ready to Move   \n",
       "4                           Nagabhushan  1282 sqft          Ready to Move   \n",
       "..                                  ...        ...                    ...   \n",
       "146                         Waseem Khan        NaN  Possession by Jun '21   \n",
       "147  Foundations Developers & Promoters  1124 sqft  Possession by Dec '21   \n",
       "148                         Waseem Khan        NaN          Ready to Move   \n",
       "149                         Waseem Khan        NaN  Possession by Oct '21   \n",
       "150                         Waseem Khan        NaN  Possession by Nov '21   \n",
       "\n",
       "                      FLOOR   TRANSACTION   FURNISHING CARPET AREA  \\\n",
       "0    Ground out of 4 floors        Resale          NaN         NaN   \n",
       "1         2 out of 4 floors        Resale  Unfurnished         NaN   \n",
       "2        1 out of 12 floors        Resale  Unfurnished         NaN   \n",
       "3         2 out of 5 floors  New Property          NaN   1800 sqft   \n",
       "4    Ground out of 4 floors        Resale          NaN         NaN   \n",
       "..                      ...           ...          ...         ...   \n",
       "146   Ground out of 1 floor           NaN          NaN    980 sqft   \n",
       "147       2 out of 2 floors  New Property          NaN         NaN   \n",
       "148      6 out of 11 floors  New Property          NaN   1250 sqft   \n",
       "149       5 out of 8 floors  New Property          NaN    960 sqft   \n",
       "150       4 out of 7 floors  New Property          NaN    950 sqft   \n",
       "\n",
       "    OVERLOOKING SOCIETY  rooms                                      location  \\\n",
       "0           NaN     NaN      3    Govianu Gurikar Luxuria, Ittigegud, Mysore   \n",
       "1           NaN     NaN      2                         Somnath Nagar, Mysore   \n",
       "2           NaN     NaN      2     Zuari Garden City, Srirangapatnam, Mysore   \n",
       "3           NaN     NaN      3                    Vani Vilas Mohalla, Mysore   \n",
       "4           NaN     NaN      3                                Hebbal, Mysore   \n",
       "..          ...     ...    ...                                           ...   \n",
       "146         NaN     NaN      2  Sunpure Homes, Vijayanagar 4th Stage, Mysore   \n",
       "147         NaN     NaN      2         Foundations Dhiya, Dattagalli, Mysore   \n",
       "148         NaN     NaN      3      Astrum Grandview, Nanjungud Road, Mysore   \n",
       "149         NaN     NaN      2     Zuari Garden City, Srirangapatnam, Mysore   \n",
       "150         NaN     NaN      2               Prithvi World, Nazarbad, Mysore   \n",
       "\n",
       "    Price      given_pps  year month  \n",
       "0     100  5319 per sqft  2021   May  \n",
       "1    48.5  5389 per sqft  2021   May  \n",
       "2      50  4032 per sqft  2021   May  \n",
       "3     140             Na  2021   Apr  \n",
       "4      75  5850 per sqft  2021   May  \n",
       "..    ...            ...   ...   ...  \n",
       "146    60             Na  2021   Apr  \n",
       "147  56.5             Na  2021   Apr  \n",
       "148    61             Na  2021   Apr  \n",
       "149    54             Na  2021   Apr  \n",
       "150    59             Na  2021   Apr  \n",
       "\n",
       "[151 rows x 19 columns]"
      ]
     },
     "execution_count": 321,
     "metadata": {},
     "output_type": "execute_result"
    }
   ],
   "source": [
    "df"
   ]
  },
  {
   "cell_type": "code",
   "execution_count": 95,
   "metadata": {},
   "outputs": [
    {
     "data": {
      "text/plain": [
       "[<selenium.webdriver.remote.webelement.WebElement (session=\"a80cbd5036bac3469437e97791c08773\", element=\"a33fa251-cf3e-4a5f-b696-d0ce9e127271\")>,\n",
       " <selenium.webdriver.remote.webelement.WebElement (session=\"a80cbd5036bac3469437e97791c08773\", element=\"29437560-d6bc-4e32-9a61-f2388930870c\")>,\n",
       " <selenium.webdriver.remote.webelement.WebElement (session=\"a80cbd5036bac3469437e97791c08773\", element=\"6af97630-2500-4f64-9bf6-77437e41a8d9\")>,\n",
       " <selenium.webdriver.remote.webelement.WebElement (session=\"a80cbd5036bac3469437e97791c08773\", element=\"84ec4006-3050-4d3e-be16-b662bfa63589\")>,\n",
       " <selenium.webdriver.remote.webelement.WebElement (session=\"a80cbd5036bac3469437e97791c08773\", element=\"228a116a-6b07-4112-a829-bae5fcf60f44\")>,\n",
       " <selenium.webdriver.remote.webelement.WebElement (session=\"a80cbd5036bac3469437e97791c08773\", element=\"062bd6de-9d88-461c-944a-de73fa2010f2\")>,\n",
       " <selenium.webdriver.remote.webelement.WebElement (session=\"a80cbd5036bac3469437e97791c08773\", element=\"8bb658e6-df24-4b4b-b95d-8392e4bb5c92\")>,\n",
       " <selenium.webdriver.remote.webelement.WebElement (session=\"a80cbd5036bac3469437e97791c08773\", element=\"9c2c6b32-3d5d-4e6d-8aff-7f4751723dcd\")>,\n",
       " <selenium.webdriver.remote.webelement.WebElement (session=\"a80cbd5036bac3469437e97791c08773\", element=\"8d466d5c-fb8a-4761-ae95-2e6a576e5ddf\")>,\n",
       " <selenium.webdriver.remote.webelement.WebElement (session=\"a80cbd5036bac3469437e97791c08773\", element=\"cf5c3577-f23e-4836-895a-9d57daa38bf8\")>]"
      ]
     },
     "execution_count": 95,
     "metadata": {},
     "output_type": "execute_result"
    }
   ],
   "source": [
    "houses[4].find_element_by_class_name(\"m-srp-card__summary.js-collapse__content\").find_elements_by_class_name(\"m-srp-card__summary__item\")"
   ]
  },
  {
   "cell_type": "code",
   "execution_count": 322,
   "metadata": {},
   "outputs": [],
   "source": [
    "df.to_csv('raw_mysore_magic_brics_scraped_27_may_21.csv')"
   ]
  },
  {
   "cell_type": "code",
   "execution_count": 212,
   "metadata": {},
   "outputs": [
    {
     "data": {
      "text/plain": [
       "[]"
      ]
     },
     "execution_count": 212,
     "metadata": {},
     "output_type": "execute_result"
    }
   ],
   "source": [
    "houses[0].find_elements_by_tag_name('ahref')"
   ]
  },
  {
   "cell_type": "code",
   "execution_count": 213,
   "metadata": {},
   "outputs": [],
   "source": [
    "soup_a = BeautifulSoup(driver.page_source, 'lxml')"
   ]
  },
  {
   "cell_type": "code",
   "execution_count": 216,
   "metadata": {},
   "outputs": [],
   "source": [
    "links = []\n",
    "for link in soup_a.find_all('a'):\n",
    "    links.append(link.get('href'))"
   ]
  },
  {
   "cell_type": "code",
   "execution_count": 218,
   "metadata": {},
   "outputs": [
    {
     "data": {
      "text/plain": [
       "376"
      ]
     },
     "execution_count": 218,
     "metadata": {},
     "output_type": "execute_result"
    }
   ],
   "source": [
    "len(links)"
   ]
  },
  {
   "cell_type": "code",
   "execution_count": null,
   "metadata": {},
   "outputs": [],
   "source": []
  }
 ],
 "metadata": {
  "kernelspec": {
   "display_name": "Python 3.7 (tensorflow)",
   "language": "python",
   "name": "tensorflow"
  },
  "language_info": {
   "codemirror_mode": {
    "name": "ipython",
    "version": 3
   },
   "file_extension": ".py",
   "mimetype": "text/x-python",
   "name": "python",
   "nbconvert_exporter": "python",
   "pygments_lexer": "ipython3",
   "version": "3.7.6"
  }
 },
 "nbformat": 4,
 "nbformat_minor": 4
}
