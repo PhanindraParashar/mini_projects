{
 "cells": [
  {
   "cell_type": "code",
   "execution_count": null,
   "metadata": {},
   "outputs": [],
   "source": [
    "import numpy as np\n",
    "from geopy import geocoders\n",
    "from geopy.exc import GeocoderTimedOut \n",
    "from geopy.geocoders import Nominatim \n",
    "from geopy import distance\n",
    "from geopy import Point\n",
    "\n",
    "class GeoData:\n",
    "    def __init__(self):\n",
    "        self.geolocator = Nominatim(user_agent=\"TSP\")\n",
    "        \n",
    "    def get_coordinates(self,city):\n",
    "        city_data = self.geolocator.geocode(city)\n",
    "        lat,lng = city_data.latitude,city_data.longitude\n",
    "        return lat,lng\n",
    "    \n",
    "    def get_distance_between_cities(self,citya,cityb):\n",
    "        a = Point(self.get_coordinates(citya))\n",
    "        b = Point(self.get_coordinates(cityb))\n",
    "        return distance.distance(a,b).kilometers\n",
    "    \n",
    "    def get_distance_between_cities_from_coord(self,lat1,lng1,lat2,lng2):\n",
    "        a = Point(lat1,lng1)\n",
    "        b = Point(lat2,lng2)\n",
    "        return distance.distance(a,b).kilometers\n",
    "    \n",
    "    def get_dict_coordinates(self,cities):\n",
    "        return {i:self.get_coordinates(i) for i in cities}\n",
    "    \n",
    "    def get_distance_matrix(self,cities):\n",
    "        n_cities = len(cities)\n",
    "        m = np.zeros((n_cities,n_cities))\n",
    "        d = self.get_dict_coordinates(cities)\n",
    "        for i in range(len(cities)):\n",
    "            for j in range(i,len(cities)):\n",
    "                if i == j:\n",
    "                    m[i][j] = 0\n",
    "                else:\n",
    "                    lat1,lng1 = d[cities[i]]\n",
    "                    lat2,lng2 = d[cities[j]]\n",
    "                    dist = self.get_distance_between_cities_from_coord(lat1,lng1,lat2,lng2)\n",
    "                    m[i][j] = dist\n",
    "                    m[j][i] = dist\n",
    "        return m\n",
    "        "
   ]
  }
 ],
 "metadata": {
  "kernelspec": {
   "display_name": "Python 3.7 (tensorflow)",
   "language": "python",
   "name": "tensorflow"
  },
  "language_info": {
   "codemirror_mode": {
    "name": "ipython",
    "version": 3
   },
   "file_extension": ".py",
   "mimetype": "text/x-python",
   "name": "python",
   "nbconvert_exporter": "python",
   "pygments_lexer": "ipython3",
   "version": "3.7.6"
  }
 },
 "nbformat": 4,
 "nbformat_minor": 4
}
