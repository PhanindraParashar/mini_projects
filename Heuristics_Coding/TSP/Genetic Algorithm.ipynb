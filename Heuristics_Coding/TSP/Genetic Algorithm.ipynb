{
 "cells": [
  {
   "cell_type": "code",
   "execution_count": 1,
   "metadata": {},
   "outputs": [],
   "source": [
    "from GEO_DATA import GeoData\n",
    "import pandas as pd\n",
    "import numpy as np\n",
    "import networkx as nx\n",
    "import plotly.graph_objs as go\n",
    "import plotly.express as px\n",
    "import random"
   ]
  },
  {
   "cell_type": "code",
   "execution_count": null,
   "metadata": {},
   "outputs": [],
   "source": [
    "class MultipleFragment:\n",
    "    def __init__(self,distance_matrix,cities,cordinates):\n",
    "        self.distance_matrix = distance_matrix\n",
    "        self.cities = cities\n",
    "        self.cordinates = cordinates\n",
    "        self.n_cities = self.distance_matrix.shape[0]\n",
    "        self.city_index = {self.cities[i]:i for i in range(self.n_cities)}      \n",
    "        self.city_index_inv = {i:self.cities[i] for i in range(self.n_cities)}\n",
    "        \n",
    "        self.diag_penalty = np.max(self.distance_matrix)*self.n_cities\n",
    "        self.distance_penalty_matrix = self.distance_matrix.copy()\n",
    "        for i in range(self.n_cities):\n",
    "            self.distance_penalty_matrix[i][i] = self.diag_penalty\n",
    "    \n",
    "    def num_to_pos(self,n):\n",
    "        return int(n/self.n_cities),n%self.n_cities\n",
    "    \n",
    "    def find_minimum_edge(self):\n",
    "        idx = np.argmin(self.distance_penalty_matrix)\n",
    "        a,b = self.num_to_pos(idx)\n",
    "        self.distance_penalty_matrix[a][b] = self.diag_penalty\n",
    "        self.distance_penalty_matrix[b][a] = self.diag_penalty\n",
    "        return a,b\n",
    "    \n",
    "    def check_degree_condition(self,G,a,b):\n",
    "        if G.degree[a] < 2 and G.degree[b] < 2:\n",
    "            return True\n",
    "        else:\n",
    "            return False\n",
    "    \n",
    "    def check_cycle(self,G):\n",
    "        if len(nx.cycle_basis(G.to_undirected())) == 0:\n",
    "            return False\n",
    "        else:\n",
    "            return True\n",
    "        \n",
    "    def solve(self):\n",
    "        G = nx.Graph()\n",
    "\n",
    "        for i in cordinates:\n",
    "            lat,lng = cordinates[i]\n",
    "            G.add_node(i, pos=(lng,lat))\n",
    "        \n",
    "        n_edges = 0\n",
    "        \n",
    "        while n_edges < self.n_cities:\n",
    "            a,b = self.find_minimum_edge()\n",
    "            frm = self.city_index_inv[a]\n",
    "            to = self.city_index_inv[b]\n",
    "            #print(a,b)\n",
    "\n",
    "            if self.check_degree_condition(G,frm,to):\n",
    "                G.add_edge(frm,to)\n",
    "                n_edges = len(G.edges)\n",
    "                if n_edges < n_cities:\n",
    "                    if self.check_cycle(G):\n",
    "                        G.remove_edge(frm,to)\n",
    "                        #print('removed',frm,to)\n",
    "        tour = nx.cycle_basis(G.to_undirected())[0]\n",
    "        tour_index = [self.city_index[i] for i in tour]\n",
    "        first_city = tour_index[0]\n",
    "        tour_index.append(first_city)\n",
    "        \n",
    "        total_dist = self.get_cost(tour_index)\n",
    "        self.create_graph_plot(tour_index,total_dist)\n",
    "        \n",
    "        return tour_index,total_dist\n",
    "        \n",
    "        \n",
    "    def get_cost(self,V):\n",
    "        s = 0\n",
    "        for i in range(len(V)-1):\n",
    "            d = self.distance_matrix[V[i+1]][V[i]]\n",
    "            s += d\n",
    "        return s\n",
    "    \n",
    "    def create_graph_plot(self,seq,dist):\n",
    "        G = nx.Graph()\n",
    "        for i in self.cordinates:\n",
    "            lat,lng = self.cordinates[i]\n",
    "            G.add_node(i, pos=(lng,lat))\n",
    "        \n",
    "\n",
    "        for i in range(len(seq)-1):\n",
    "            if i < len(seq)-2:\n",
    "                frm = self.city_index_inv[seq[i]]\n",
    "                to = self.city_index_inv[seq[i+1]]\n",
    "            if i == len(seq) - 2:\n",
    "                frm = self.city_index_inv[seq[i]]\n",
    "                to = self.city_index_inv[seq[0]]\n",
    "\n",
    "            G.add_edge(frm,to)\n",
    "        \n",
    "        self.Graph_plotter(G,dist)\n",
    "            \n",
    "            \n",
    "    def Graph_plotter(self,G,dist):\n",
    "        edge_x = []\n",
    "        edge_y = []\n",
    "        for edge in G.edges():\n",
    "            x0, y0 = G.nodes[edge[0]]['pos']\n",
    "            x1, y1 = G.nodes[edge[1]]['pos']\n",
    "            edge_x.append(x0)\n",
    "            edge_x.append(x1)\n",
    "            edge_x.append(None)\n",
    "            edge_y.append(y0)\n",
    "            edge_y.append(y1)\n",
    "            edge_y.append(None)\n",
    "\n",
    "        edge_trace = go.Scatter(\n",
    "            x=edge_x, y=edge_y,\n",
    "            line=dict(width=0.5, color='#888'),\n",
    "            hoverinfo='none',\n",
    "            mode='lines')\n",
    "\n",
    "        node_x = []\n",
    "        node_y = []\n",
    "        for node in G.nodes():\n",
    "            x, y = G.nodes[node]['pos']\n",
    "            node_x.append(x)\n",
    "            node_y.append(y)\n",
    "\n",
    "        node_trace = go.Scatter(\n",
    "            x=node_x, y=node_y,\n",
    "            mode='markers',\n",
    "            hoverinfo='text',\n",
    "                line_width=2)\n",
    "        \n",
    "        node_adjacencies = []\n",
    "        \n",
    "        node_text = []\n",
    "        for node, adjacencies in enumerate(G.adjacency()):\n",
    "            node_adjacencies.append(len(adjacencies[1]))\n",
    "            node_text.append(self.city_index_inv[node])\n",
    "\n",
    "        node_trace.marker.color = node_adjacencies\n",
    "        node_trace.text = node_text\n",
    "        \n",
    "        fig = go.Figure(data=[edge_trace, node_trace],\n",
    "             layout=go.Layout(\n",
    "                title='TSP Solution - Multiple Fragment'+str(dist),\n",
    "                titlefont_size=16,\n",
    "                showlegend=False,\n",
    "                hovermode='closest',\n",
    "                margin=dict(b=20,l=5,r=5,t=40),\n",
    "                annotations=[ dict(\n",
    "                    showarrow=False,\n",
    "                    xref=\"paper\", yref=\"paper\",\n",
    "                    x=0.005, y=-0.002 ) ],\n",
    "                xaxis=dict(showgrid=False, zeroline=False, showticklabels=False),\n",
    "                yaxis=dict(showgrid=False, zeroline=False, showticklabels=False))\n",
    "                )\n",
    "        fig.show()\n"
   ]
  },
  {
   "cell_type": "code",
   "execution_count": 2,
   "metadata": {},
   "outputs": [],
   "source": [
    "g = GeoData()\n",
    "capitals = ['Stuttgart','Munich','Berlin','Potsdam','Bremen','Hamburg','Wiesbaden','Hanover','Schwerin','Düsseldorf','Mainz','Saarbrücken','Dresden','Magdeburg', 'Kiel', 'Erfurt']\n",
    "distance_matrix = g.get_distance_matrix(capitals)\n",
    "cordinates = g.get_dict_coordinates(capitals)\n",
    "city_index = {capitals[i]:i for i in range(len(capitals))}\n",
    "city_index_inv = {i:capitals[i] for i in range(len(capitals))}\n",
    "n_cities = len(capitals)"
   ]
  },
  {
   "cell_type": "code",
   "execution_count": 3,
   "metadata": {},
   "outputs": [],
   "source": []
  },
  {
   "cell_type": "code",
   "execution_count": 8,
   "metadata": {},
   "outputs": [],
   "source": [
    "import random"
   ]
  },
  {
   "cell_type": "code",
   "execution_count": 11,
   "metadata": {},
   "outputs": [
    {
     "data": {
      "text/plain": [
       "1"
      ]
     },
     "execution_count": 11,
     "metadata": {},
     "output_type": "execute_result"
    }
   ],
   "source": [
    "random.randint(0,3)"
   ]
  },
  {
   "cell_type": "code",
   "execution_count": 19,
   "metadata": {},
   "outputs": [],
   "source": [
    "def shuffle(a):\n",
    "    b = a.copy()\n",
    "    i = random.randint(0,len(a))\n",
    "    j = random.randint(0,len(a))\n",
    "    if j == i:\n",
    "        j = random.randint(0,len(a))\n",
    "    \n",
    "    i_p = b[i]\n",
    "    j_p = b[j]\n",
    "    \n",
    "    b[i] = j_p\n",
    "    b[j] = i_p\n",
    "    return b"
   ]
  },
  {
   "cell_type": "code",
   "execution_count": 20,
   "metadata": {},
   "outputs": [],
   "source": [
    "a = [1,2,3,4,5,6,7,8,9,10]"
   ]
  },
  {
   "cell_type": "code",
   "execution_count": 21,
   "metadata": {},
   "outputs": [],
   "source": [
    "for _ in range(5):\n",
    "    b = shuffle(a)\n",
    "    a = b"
   ]
  },
  {
   "cell_type": "code",
   "execution_count": 22,
   "metadata": {},
   "outputs": [],
   "source": [
    "a = [1,2,3,4,5,6,7,8,9,10]"
   ]
  },
  {
   "cell_type": "code",
   "execution_count": 25,
   "metadata": {},
   "outputs": [
    {
     "data": {
      "text/plain": [
       "([1, 2, 3], [4, 5, 6, 7], [8, 9, 10])"
      ]
     },
     "execution_count": 25,
     "metadata": {},
     "output_type": "execute_result"
    }
   ],
   "source": [
    "a[:3],a[3:7],a[7:]"
   ]
  },
  {
   "cell_type": "code",
   "execution_count": 29,
   "metadata": {},
   "outputs": [],
   "source": [
    "def order_crossover(a,b):\n",
    "    #d = {i : a[i] for i in range(len(a))}\n",
    "    \n",
    "    i = random.randint(1,len(a)-1)\n",
    "    j = random.randint(1,len(a)-1)\n",
    "    if j == i:\n",
    "        j = random.randint(0,len(a))\n",
    "    \n",
    "    A1 = a[:i]\n",
    "    B1 = a[i:j]\n",
    "    C1 = a[j:]\n",
    "    \n",
    "    A2 = b[:i]\n",
    "    B2 = b[i:j]\n",
    "    C2 = b[j:]\n",
    "    \n",
    "    \n",
    "    A = {}\n",
    "    B = {}\n",
    "    \n",
    "    for k in range(i,j):\n",
    "        A[k] = b[k]\n",
    "        B[k] = a[k]\n",
    "    \n",
    "    for k in range(i):\n",
    "        if b[k] not in A:\n",
    "            A[k] = b[k]\n",
    "        else:\n",
    "            A[k] = a[k]\n",
    "        \n",
    "        if a[k] not in B:\n",
    "            B[k] = a[k]\n",
    "        else:\n",
    "            B[k] = b[k]\n",
    "    \n",
    "    for k in range(j,len(a)):\n",
    "        if b[k] not in A:\n",
    "            A[k] = b[k]\n",
    "        else:\n",
    "            A[k] = a[k]\n",
    "        \n",
    "        if a[k] not in B:\n",
    "            B[k] = a[k]\n",
    "        else:\n",
    "            B[k] = b[k] \n",
    "    \n",
    "    return A,B\n",
    "        "
   ]
  },
  {
   "cell_type": "code",
   "execution_count": 41,
   "metadata": {},
   "outputs": [],
   "source": [
    "A,B = order_crossover(a,b)"
   ]
  },
  {
   "cell_type": "code",
   "execution_count": 42,
   "metadata": {},
   "outputs": [
    {
     "data": {
      "text/plain": [
       "[1, 3, 5, 4, 9, 6, 7, 8, 9, 10]"
      ]
     },
     "execution_count": 42,
     "metadata": {},
     "output_type": "execute_result"
    }
   ],
   "source": [
    "[A[i] for i in range(len(A))]"
   ]
  },
  {
   "cell_type": "code",
   "execution_count": 40,
   "metadata": {},
   "outputs": [
    {
     "data": {
      "text/plain": [
       "[1, 2, 5, 4, 9, 6, 7, 8, 9, 10]"
      ]
     },
     "execution_count": 40,
     "metadata": {},
     "output_type": "execute_result"
    }
   ],
   "source": [
    "[B[i] for i in range(len(B))]"
   ]
  },
  {
   "cell_type": "code",
   "execution_count": 34,
   "metadata": {},
   "outputs": [
    {
     "data": {
      "text/plain": [
       "[1, 2, 5, 4, 9, 6, 7, 8, 9, 10]"
      ]
     },
     "execution_count": 34,
     "metadata": {},
     "output_type": "execute_result"
    }
   ],
   "source": [
    "A"
   ]
  },
  {
   "cell_type": "code",
   "execution_count": 5,
   "metadata": {},
   "outputs": [],
   "source": [
    "d = {i : a[i] for i in range(len(a))}"
   ]
  },
  {
   "cell_type": "code",
   "execution_count": 7,
   "metadata": {},
   "outputs": [
    {
     "data": {
      "text/plain": [
       "1"
      ]
     },
     "execution_count": 7,
     "metadata": {},
     "output_type": "execute_result"
    }
   ],
   "source": []
  },
  {
   "cell_type": "code",
   "execution_count": null,
   "metadata": {},
   "outputs": [],
   "source": [
    "MF = MultipleFragment(distance_matrix,capitals,cordinates)"
   ]
  },
  {
   "cell_type": "code",
   "execution_count": null,
   "metadata": {},
   "outputs": [],
   "source": [
    "MF.solve()"
   ]
  },
  {
   "cell_type": "code",
   "execution_count": null,
   "metadata": {},
   "outputs": [],
   "source": []
  }
 ],
 "metadata": {
  "kernelspec": {
   "display_name": "Python 3.7 (tensorflow)",
   "language": "python",
   "name": "tensorflow"
  },
  "language_info": {
   "codemirror_mode": {
    "name": "ipython",
    "version": 3
   },
   "file_extension": ".py",
   "mimetype": "text/x-python",
   "name": "python",
   "nbconvert_exporter": "python",
   "pygments_lexer": "ipython3",
   "version": "3.7.6"
  }
 },
 "nbformat": 4,
 "nbformat_minor": 4
}
