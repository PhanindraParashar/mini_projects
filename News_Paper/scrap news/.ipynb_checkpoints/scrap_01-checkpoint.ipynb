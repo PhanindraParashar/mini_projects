{
 "cells": [
  {
   "cell_type": "code",
   "execution_count": 4,
   "metadata": {},
   "outputs": [],
   "source": [
    "import requests\n",
    "from bs4 import BeautifulSoup\n",
    "def timesofindia():\n",
    "    url = \"https://timesofindia.indiatimes.com/home/headlines\"\n",
    "    page_request = requests.get(url)\n",
    "    data = page_request.content\n",
    "    soup = BeautifulSoup(data,\"html.parser\")\n",
    "    Links = []\n",
    "    counter = 0\n",
    "    for divtag in soup.find_all('div', {'class': 'headlines-list'}):\n",
    "        for ultag in divtag.find_all('ul', {'class': 'clearfix'}):\n",
    "            if (counter <= 10):\n",
    "                for litag in ultag.find_all('li'):\n",
    "                    counter = counter + 1\n",
    "                    print(str(counter) + \" - https://timesofindia.indiatimes.com\" + litag.find('a')['href'])\n",
    "                    Links.append(\"https://timesofindia.indiatimes.com\" + litag.find('a')['href'])\n",
    "                    #print(str(counter) + \".\" + litag.text + \" - https://timesofindia.indiatimes.com\" + litag.find('a')['href'])\n",
    "    return Links"
   ]
  },
  {
   "cell_type": "code",
   "execution_count": 6,
   "metadata": {},
   "outputs": [
    {
     "name": "stdout",
     "output_type": "stream",
     "text": [
      "1 - https://timesofindia.indiatimes.com/india/restrained-judges-are-now-soft-targets-cji-nv-ramana/articleshow/78084306.cms\n",
      "2 - https://timesofindia.indiatimes.com/india/sonia-gandhi-rahul-gandhi-go-abroad-for-her-check-up/articleshow/78084552.cms\n",
      "3 - https://timesofindia.indiatimes.com/india/prashant-bhushan-seeks-rules-for-appeal-in-sc-in-original-contempt-cases/articleshow/78084336.cms\n",
      "4 - https://timesofindia.indiatimes.comhttps://www.gadgetsnow.com/slideshows/oppo-f17-pro-vs-realme-x3-vs-oneplus-nord-vs-and-samsung-galaxy-m51-the-best-new-smartphone-under-rs-25000/photolist/78064988.cms\n",
      "5 - https://timesofindia.indiatimes.com/india/government-to-woo-poll-bound-bihar-with-psu-projects/articleshow/78084354.cms\n",
      "6 - https://timesofindia.indiatimes.comhttps://www.gadgetsnow.com/tech-news/googles-biggest-android-update-of-2020-is-not-rolling-out-in-india-yet/articleshow/78071150.cms\n",
      "7 - https://timesofindia.indiatimes.com/india/india-added-1-million-cases-13000-deaths-in-12-days/articleshow/78084372.cms\n",
      "8 - https://timesofindia.indiatimes.com/entertainment/hindi/bollywood/news/kangana-ranaut-to-meet-maharashtra-governor-at-raj-bhavan-today/articleshow/78084381.cms\n",
      "9 - https://timesofindia.indiatimes.com/india/disappointment-grips-g23-a-day-after-congs-organisational-rejig/articleshow/78084389.cms\n",
      "10 - https://timesofindia.indiatimes.com/india/reputation-in-india-matters-little-as-does-privacy-says-harish-salve/articleshow/78084485.cms\n",
      "11 - https://timesofindia.indiatimes.com/world/uk/astrazeneca-resumes-covid-19-vaccine-trial-after-uk-green-light/articleshow/78078870.cms\n",
      "12 - https://timesofindia.indiatimes.com/india/uddhav-must-apologise-to-me-country-ex-navyman-after-sena-assault/articleshow/78079557.cms\n"
     ]
    }
   ],
   "source": [
    "links = timesofindia()"
   ]
  },
  {
   "cell_type": "code",
   "execution_count": 7,
   "metadata": {},
   "outputs": [
    {
     "data": {
      "text/plain": [
       "'https://timesofindia.indiatimes.com/india/restrained-judges-are-now-soft-targets-cji-nv-ramana/articleshow/78084306.cms'"
      ]
     },
     "execution_count": 7,
     "metadata": {},
     "output_type": "execute_result"
    }
   ],
   "source": [
    "links[0]"
   ]
  },
  {
   "cell_type": "code",
   "execution_count": 10,
   "metadata": {},
   "outputs": [],
   "source": [
    "soup = BeautifulSoup(requests.get(links[0]).content,\"html.parser\")\n"
   ]
  },
  {
   "cell_type": "code",
   "execution_count": 24,
   "metadata": {},
   "outputs": [],
   "source": [
    "from newspaper import Article"
   ]
  },
  {
   "cell_type": "code",
   "execution_count": 25,
   "metadata": {},
   "outputs": [],
   "source": [
    "article_name = Article(links[0], language=\"en\")"
   ]
  },
  {
   "cell_type": "code",
   "execution_count": 26,
   "metadata": {},
   "outputs": [],
   "source": [
    "article_name.download()"
   ]
  },
  {
   "cell_type": "code",
   "execution_count": 27,
   "metadata": {},
   "outputs": [],
   "source": [
    "article_name.parse()"
   ]
  },
  {
   "cell_type": "code",
   "execution_count": 28,
   "metadata": {},
   "outputs": [],
   "source": [
    "article_name.nlp()"
   ]
  },
  {
   "cell_type": "code",
   "execution_count": 29,
   "metadata": {},
   "outputs": [
    {
     "data": {
      "text/plain": [
       "'Chief Justice of India S A Bobde (ANI)\\n\\nNEW DELHI: The country’s two top judges — Chief Justice of India S A Bobde and next in line Justice N V Ramana — on Saturday said judges are often soft targets of vituperative criticism in social media as they are trained to exercise restraint and do not have recourse to unbridled free speech like their critics.\\n\\nSpeaking at the release of Justice R Banumathi’s book, CJI Bobde said constitutional limitations on free speech restrains judges, as it should others, from speaking whatever they feel. But Justice Ramana, who will succeed Bobde as CJI next year, did the plain speaking — “As judges are self-restrained from speaking out in their own defence, they are now being construed as soft targets for criticism.”\\n\\nRamana said the proliferation and popularity of social media has further complicated the issue as “judges are becoming victims of juicy gossip and slanderous social-media posts. I believe, judgeship in the present day requires sacrifices unparalleled in any other profession, and the same is required to be made as the country’s future is dependent on strong, independent judges.”\\n\\nThis is the second time in recent weeks that the CJI has expressed his misgivings over judges being targeted. Speaking in court he had noted that allegations often surface when judges are being considered for elevation. The case before the court dealt with a district judge from Madhya Pradesh facing allegations of sexual harassment that dragged on.\\n\\nJustice Banumathi, who retired recently from the SC after a 32-year-long career that spanned from trial courts to the top court, narrated her experience as a judge in the book ‘Judiciary, Judges and the Administration of Justice ’ in four parts — Judiciary as a collective institution, insights about being a judge, measures taken by the Centre for the implementation of e-courts, and shift from traditional methods of case management.\\n\\nRamana said the public has a misconception about a judge’s life, that it is one of luxury lived in ivory towers. “The reality is quite different and it is difficult for others to comprehend. Best judges of the same are the family members, who are usually torn between restraints and relationships. Judges have to balance their social life in order to be independent. It is completely upon the judge to maintain such self-imposed restrictions.”\\n\\nBobde said, “A judge is called upon to play a whole range of roles including that of arbiter, mediator, counsellor, sociologist, etc; and in the midst of all this adjudicate disputes presented to him in a manner cognisant of constitutional aspirations and social realities.”\\n\\nThe CJI said, “The judicial mind has to take into account several barriers and divisions existing in society, which are reflected in the cases that come to Court. While the judicial mind must acknowledge the existence of these social divisions and barriers, it cannot be swayed by these prejudices and add its own prejudice to the issue.”\\n\\nBobde said that to command public respect, the judges should maintain dignified conduct and aloofness. “Judicial service is not merely an employment nor the judges are employees of the government. They are the holders of public trust and responsibility,” he said.\\n\\n'"
      ]
     },
     "execution_count": 29,
     "metadata": {},
     "output_type": "execute_result"
    }
   ],
   "source": [
    "article_name.text"
   ]
  },
  {
   "cell_type": "code",
   "execution_count": 30,
   "metadata": {},
   "outputs": [
    {
     "data": {
      "text/plain": [
       "'Restrained, judges are now soft targets: CJI, NV Ramana'"
      ]
     },
     "execution_count": 30,
     "metadata": {},
     "output_type": "execute_result"
    }
   ],
   "source": [
    "article_name.title"
   ]
  },
  {
   "cell_type": "code",
   "execution_count": 31,
   "metadata": {},
   "outputs": [
    {
     "data": {
      "text/plain": [
       "'Speaking at the release of Justice R Banumathi’s book, CJI Bobde said constitutional limitations on free speech restrains judges, as it should others, from speaking whatever they feel.\\nSpeaking in court he had noted that allegations often surface when judges are being considered for elevation.\\nRamana said the public has a misconception about a judge’s life, that it is one of luxury lived in ivory towers.\\nBest judges of the same are the family members, who are usually torn between restraints and relationships.\\n“Judicial service is not merely an employment nor the judges are employees of the government.'"
      ]
     },
     "execution_count": 31,
     "metadata": {},
     "output_type": "execute_result"
    }
   ],
   "source": [
    "article_name.summary"
   ]
  },
  {
   "cell_type": "code",
   "execution_count": 32,
   "metadata": {},
   "outputs": [
    {
     "data": {
      "text/plain": [
       "['targets',\n",
       " 'justice',\n",
       " 'cji',\n",
       " 'judge',\n",
       " 'bobde',\n",
       " 'judicial',\n",
       " 'court',\n",
       " 'restrained',\n",
       " 'nv',\n",
       " 'judges',\n",
       " 'social',\n",
       " 'speaking',\n",
       " 'soft',\n",
       " 'public',\n",
       " 'ramana']"
      ]
     },
     "execution_count": 32,
     "metadata": {},
     "output_type": "execute_result"
    }
   ],
   "source": [
    "article_name.keywords"
   ]
  },
  {
   "cell_type": "code",
   "execution_count": null,
   "metadata": {},
   "outputs": [],
   "source": []
  }
 ],
 "metadata": {
  "kernelspec": {
   "display_name": "Python 3.7 (tensorflow)",
   "language": "python",
   "name": "tensorflow"
  },
  "language_info": {
   "codemirror_mode": {
    "name": "ipython",
    "version": 3
   },
   "file_extension": ".py",
   "mimetype": "text/x-python",
   "name": "python",
   "nbconvert_exporter": "python",
   "pygments_lexer": "ipython3",
   "version": "3.7.6"
  }
 },
 "nbformat": 4,
 "nbformat_minor": 4
}
