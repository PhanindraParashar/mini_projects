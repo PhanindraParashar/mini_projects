{
 "cells": [
  {
   "cell_type": "code",
   "execution_count": 39,
   "metadata": {},
   "outputs": [],
   "source": [
    "import requests\n",
    "from bs4 import BeautifulSoup\n"
   ]
  },
  {
   "cell_type": "code",
   "execution_count": 54,
   "metadata": {},
   "outputs": [],
   "source": [
    "def timesofindia():\n",
    "    url = \"https://timesofindia.indiatimes.com/home/headlines\"\n",
    "    page_request = requests.get(url)\n",
    "    data = page_request.content\n",
    "    soup = BeautifulSoup(data,\"html.parser\")\n",
    "    Links = []\n",
    "    counter = 0\n",
    "    for divtag in soup.find_all('div', {'class': 'headlines-list'}):\n",
    "        for ultag in divtag.find_all('ul', {'class': 'clearfix'}):\n",
    "            if (counter <= 10+500):\n",
    "                for litag in ultag.find_all('li'):\n",
    "                    counter = counter + 1\n",
    "                    print(str(counter) + \" - https://timesofindia.indiatimes.com\" + litag.find('a')['href'])\n",
    "                    Links.append(\"https://timesofindia.indiatimes.com\" + litag.find('a')['href'])\n",
    "                    #print(str(counter) + \".\" + litag.text + \" - https://timesofindia.indiatimes.com\" + litag.find('a')['href'])\n",
    "    return Links"
   ]
  },
  {
   "cell_type": "code",
   "execution_count": 55,
   "metadata": {},
   "outputs": [
    {
     "name": "stdout",
     "output_type": "stream",
     "text": [
      "1 - https://timesofindia.indiatimes.com/india/yoga-walks-chyawanprash-govt-issues-new-protocol-for-covid-19-recovered-patients/articleshow/78088303.cms\n",
      "2 - https://timesofindia.indiatimes.com/india/pm-modi-pats-nitish-on-the-back-for-sushasan-takes-dig-at-lalu/articleshow/78088398.cms\n",
      "3 - https://timesofindia.indiatimes.com/sports/badminton/is-it-safe-to-conduct-thomas-and-uber-cup-during-corona-times-asks-saina-nehwal/articleshow/78090582.cms\n",
      "4 - https://timesofindia.indiatimes.com/sports/cricket/australia-in-england/live-cricket-score-england-vs-australia-2nd-odi-manchester/liveblog/78089400.cms\n",
      "5 - https://timesofindia.indiatimes.com/india/speechless-lalu-mourns-raghuvansh-singh/articleshow/78089843.cms\n",
      "6 - https://timesofindia.indiatimes.com/home/education/news/neet-2020-attendance-records-85-90-despite-pandemic/articleshow/78091645.cms\n",
      "7 - https://timesofindia.indiatimes.com/auto/cars/bmw-x5-review-tech-wizardry-in-bulk-is-here-to-impress/articleshow/78088501.cms\n",
      "8 - https://timesofindia.indiatimes.com/city/hyderabad/hyderabad-midhani-masters-armour-that-can-stop-ak-47-shots/articleshow/78085437.cms\n",
      "9 - https://timesofindia.indiatimes.com/india/left-cong-tie-up-to-be-a-game-changer-wont-let-2021-polls-be-cakewalk-for-tmc-bjp-adhir/articleshow/78090248.cms\n",
      "10 - https://timesofindia.indiatimes.com/city/hyderabad/in-race-for-covid-19-cure-all-eyes-on-vaccine-capital-hyderabad/articleshow/78084566.cms\n",
      "11 - https://timesofindia.indiatimes.com/india/whats-the-crime-if-you-are-marijuana-carrier/articleshow/78018361.cms\n",
      "12 - https://timesofindia.indiatimes.com/india/covid-19-58-of-recovered-cases-coming-from-five-states/articleshow/78087732.cms\n",
      "13 - https://timesofindia.indiatimes.com/city/mumbai/maharashtra-cm-announces-my-family-my-responsibility-campaign-to-battle-coronavirus/articleshow/78089283.cms\n",
      "14 - https://timesofindia.indiatimes.com/city/mumbai/adani-group-likely-to-review-navi-mumbai-airport-design/articleshow/78088335.cms\n",
      "15 - https://timesofindia.indiatimes.com/city/mumbai/sex-boosters-on-sale-to-us-citizens-100-held-from-malad/articleshow/78086019.cms\n",
      "16 - https://timesofindia.indiatimes.com/city/mumbai/city-angels-rescue-abandoned-pets-spawn-happy-tails/articleshow/78085837.cms\n",
      "17 - https://timesofindia.indiatimes.com/city/mumbai/bmc-junk-kangana-suit-against-violation-notices/articleshow/78085782.cms\n",
      "18 - https://timesofindia.indiatimes.com/city/mumbai/khadse-should-come-clean-on-dirty-lot-in-bjp-says-congress/articleshow/78085760.cms\n",
      "19 - https://timesofindia.indiatimes.com/city/mumbai/rhea-co-accused-no-drugs-on-me-yet-ndps-case/articleshow/78085630.cms\n",
      "20 - https://timesofindia.indiatimes.com/city/mumbai/realty-firm-ordered-to-pay-rs-7-5l-relief-to-residents-not-to-association/articleshow/78085511.cms\n",
      "21 - https://timesofindia.indiatimes.com/city/mumbai/with-id-cards-students-can-use-local-trains-in-mumbai/articleshow/78085488.cms\n",
      "22 - https://timesofindia.indiatimes.com/city/mumbai/anuradha-paudwals-composer-son-dies-of-kidney-failure-at-35/articleshow/78085423.cms\n",
      "23 - https://timesofindia.indiatimes.com/city/mumbai/kolkata-gym-trainer-held-for-calls-to-netas-2-smses-gave-him-away/articleshow/78085290.cms\n",
      "24 - https://timesofindia.indiatimes.com/city/mumbai/bmc-to-fine-those-without-masks-rs-200-from-today/articleshow/78085239.cms\n",
      "25 - https://timesofindia.indiatimes.com/city/delhi/33-year-old-man-shot-dead-in-east-delhis-madhu-vihar/articleshow/78090806.cms\n",
      "26 - https://timesofindia.indiatimes.com/city/delhi/wearing-face-masks-most-effective-way-to-prevent-covid-19-delhi-health-minister/articleshow/78089276.cms\n",
      "27 - https://timesofindia.indiatimes.com/city/delhi/former-union-minister-raghuvansh-prasad-singh-passes-away/articleshow/78086978.cms\n",
      "28 - https://timesofindia.indiatimes.com/city/delhi/delhi-hc-dismisses-bail-plea-of-man-who-fired-at-aap-leaders-convoy/articleshow/78086866.cms\n",
      "29 - https://timesofindia.indiatimes.com/city/delhi/graft-in-up-govt-over-corona-kits-aap/articleshow/78086846.cms\n",
      "30 - https://timesofindia.indiatimes.com/city/delhi/delhi-hand-over-keys-of-parts-of-nizamuddin-markaz-to-maulana-saads-family/articleshow/78086639.cms\n",
      "31 - https://timesofindia.indiatimes.com/city/delhi/couple-held-for-running-domestic-help-racket-in-delhi/articleshow/78085109.cms\n",
      "32 - https://timesofindia.indiatimes.com/city/delhi/reserve-80-icu-beds-for-covid-cases-delhi-govt-tells-33-private-hospitals/articleshow/78084525.cms\n",
      "33 - https://timesofindia.indiatimes.com/city/delhi/delhi-covid-rising-94-hc-lawyers-opt-out-of-physical-hearings/articleshow/78084522.cms\n",
      "34 - https://timesofindia.indiatimes.com/city/delhi/du-to-release-first-cutoff-in-mid-october/articleshow/78084185.cms\n",
      "35 - https://timesofindia.indiatimes.com/city/delhi/gang-duping-credit-card-holders-in-city-busted-3-held/articleshow/78084172.cms\n",
      "36 - https://timesofindia.indiatimes.com/city/delhi/colour-on-the-street-to-offset-covid-gloom/articleshow/78084169.cms\n",
      "37 - https://timesofindia.indiatimes.com/city/bengaluru/cash-strapped-karnataka-govt-struggles-to-make-do-with-inadequate-flood-relief/articleshow/78085941.cms\n",
      "38 - https://timesofindia.indiatimes.com/city/bengaluru/karnataka-cm-bs-yediyurappas-homes-getting-a-facelift/articleshow/78085853.cms\n",
      "39 - https://timesofindia.indiatimes.com/city/bengaluru/namma-metro-ridership-rises-traders-take-heart/articleshow/78084791.cms\n",
      "40 - https://timesofindia.indiatimes.com/city/bengaluru/karnataka-24-hour-toll-less-than-100/articleshow/78084779.cms\n",
      "41 - https://timesofindia.indiatimes.com/city/bengaluru/bengaluru-outskirts-report-more-coronavirus-cases-than-central-areas/articleshow/78084754.cms\n",
      "42 - https://timesofindia.indiatimes.com/city/bengaluru/karnataka-cm-bs-yediyurappa-to-visit-delhi-for-cabinet-expansion-talks/articleshow/78084742.cms\n",
      "43 - https://timesofindia.indiatimes.com/city/bengaluru/study-maps-virus-entry-points-to-the-brain/articleshow/78084549.cms\n",
      "44 - https://timesofindia.indiatimes.com/city/bengaluru/bengaluru-contact-tracing-gets-tougher-as-movement-curbs-go/articleshow/78084547.cms\n",
      "45 - https://timesofindia.indiatimes.com/city/bengaluru/veteran-airport-fire-officer-dies-of-covid-19/articleshow/78084538.cms\n",
      "46 - https://timesofindia.indiatimes.com/city/bengaluru/from-login-to-verification-many-tech-glitches-mar-nlat/articleshow/78082495.cms\n",
      "47 - https://timesofindia.indiatimes.com/city/bengaluru/5-months-after-fire-slum-dwellers-get-temporary-sheds/articleshow/78082440.cms\n",
      "48 - https://timesofindia.indiatimes.com/city/bengaluru/bullion-trader-held-for-supplying-drugs-at-parties/articleshow/78082419.cms\n",
      "49 - https://timesofindia.indiatimes.com/city/hyderabad/hyderabad-fake-doctor-father-claim-to-be-strangers-to-escape-cop-net/articleshow/78085830.cms\n",
      "50 - https://timesofindia.indiatimes.com/city/hyderabad/cbi-books-2-gst-staff-in-rs-5-crore-bribery-case-in-hyderabad/articleshow/78084569.cms\n",
      "51 - https://timesofindia.indiatimes.com/city/hyderabad/legislators-told-to-do-covid-tests-again/articleshow/78082722.cms\n",
      "52 - https://timesofindia.indiatimes.com/city/hyderabad/55800-from-state-to-write-neet-today/articleshow/78082688.cms\n",
      "53 - https://timesofindia.indiatimes.com/city/hyderabad/in-race-for-covid-19-cure-all-eyes-on-vaccine-capital-hyderabad/articleshow/78084566.cms\n",
      "54 - https://timesofindia.indiatimes.com/city/hyderabad/addicted-to-pubg-btech-student-ends-life-in-anantapur/articleshow/78083409.cms\n",
      "55 - https://timesofindia.indiatimes.com/city/hyderabad/ap-reports-10k-cases-tally-at-5-57l/articleshow/78083385.cms\n",
      "56 - https://timesofindia.indiatimes.com/city/hyderabad/cong-groups-clash-over-burqa-remark/articleshow/78083346.cms\n",
      "57 - https://timesofindia.indiatimes.com/city/hyderabad/kg-basin-holds-massive-reserves-of-methane-fuel-ari/articleshow/78083342.cms\n",
      "58 - https://timesofindia.indiatimes.com/city/hyderabad/rfcl-likely-to-get-operational-in-2-mnths-min/articleshow/78083323.cms\n",
      "59 - https://timesofindia.indiatimes.com/city/hyderabad/unidentified-miscreants-desecrate-idol-in-eg/articleshow/78083288.cms\n",
      "60 - https://timesofindia.indiatimes.com/city/hyderabad/with-hiked-vat-natural-gas-to-get-costlier/articleshow/78083242.cms\n",
      "61 - https://timesofindia.indiatimes.com/city/chennai/covid-cases-close-to-5-lakh-mark-in-tamil-nadu/articleshow/78085102.cms\n",
      "62 - https://timesofindia.indiatimes.com/city/chennai/ed-seizes-rs-89-cr-worth-assets-of-dmk-mp-for-forex-violation/articleshow/78083623.cms\n",
      "63 - https://timesofindia.indiatimes.com/city/chennai/pm-kisan-applicants-in-state-to-undergo-double-scrutiny/articleshow/78083549.cms\n",
      "64 - https://timesofindia.indiatimes.com/city/chennai/gutka-row-17-dmk-mlas-move-court-over-fresh-privilege-notices/articleshow/78083502.cms\n",
      "65 - https://timesofindia.indiatimes.com/city/chennai/judges-victims-of-juicy-social-media-gossip/articleshow/78082575.cms\n",
      "66 - https://timesofindia.indiatimes.com/city/chennai/covid-hashtags-at-henna-ceremonies/articleshow/78082558.cms\n",
      "67 - https://timesofindia.indiatimes.com/city/chennai/move-your-body-master-your-mind/articleshow/78082543.cms\n",
      "68 - https://timesofindia.indiatimes.com/city/chennai/chennai-colombian-gets-10-years-in-jail-for-smuggling-cocaine/articleshow/78081922.cms\n",
      "69 - https://timesofindia.indiatimes.com/city/chennai/tamil-nadu-dmk-leader-faults-centre-on-priority-sector-lending/articleshow/78081568.cms\n",
      "70 - https://timesofindia.indiatimes.com/city/chennai/three-tn-medical-medical-aspirants-commit-suicide-on-neet-eve/articleshow/78081366.cms\n",
      "71 - https://timesofindia.indiatimes.com/city/chennai/coronavirus-in-tamil-nadu-institutions-directed-to-engage-paramedical-students-to-covid-19-duties/articleshow/78081029.cms\n",
      "72 - https://timesofindia.indiatimes.com/city/chennai/neet-will-be-abolished-when-dmk-comes-to-power-in-tamil-nadu-stalin-says/articleshow/78080838.cms\n",
      "73 - https://timesofindia.indiatimes.com/city/ahmedabad/ahmedabad-crime-branch-seizes-md-drugs-worth-rs-1-crore/articleshow/78085291.cms\n",
      "74 - https://timesofindia.indiatimes.com/city/ahmedabad/ancient-gujarat-temples-make-history-with-online-darshan/articleshow/78084668.cms\n",
      "75 - https://timesofindia.indiatimes.com/city/ahmedabad/ahmedabad-nirf-rankings-dont-consider-research-output/articleshow/78084649.cms\n",
      "76 - https://timesofindia.indiatimes.com/city/ahmedabad/gujarat-rental-housing-policy-kicks-in-with-sops-for-corporates-developers/articleshow/78084656.cms\n",
      "77 - https://timesofindia.indiatimes.com/city/ahmedabad/exports-offer-lifeline-as-domestic-market-flounders/articleshow/78083010.cms\n",
      "78 - https://timesofindia.indiatimes.com/city/ahmedabad/vadodara-boy-ranks-in-100th-percentile-again-in-jee-main/articleshow/78082901.cms\n",
      "79 - https://timesofindia.indiatimes.com/city/ahmedabad/change-in-number-of-neet-centres/articleshow/78082883.cms\n",
      "80 - https://timesofindia.indiatimes.com/city/ahmedabad/supply-regular-but-cost-is-up/articleshow/78082864.cms\n",
      "81 - https://timesofindia.indiatimes.com/city/ahmedabad/o-flow-2-gpcb-officials-to-ensure-logistical-stamina/articleshow/78082863.cms\n",
      "82 - https://timesofindia.indiatimes.com/city/ahmedabad/man-hinders-corona-testing-booked/articleshow/78082551.cms\n",
      "83 - https://timesofindia.indiatimes.com/city/ahmedabad/light-to-moderate-rainfall-likely-in-city/articleshow/78082546.cms\n",
      "84 - https://timesofindia.indiatimes.com/city/ahmedabad/consumer-sues-maker-of-ro-system-for-covid-exposure-risk/articleshow/78082540.cms\n"
     ]
    }
   ],
   "source": [
    "links = timesofindia()"
   ]
  },
  {
   "cell_type": "code",
   "execution_count": 50,
   "metadata": {},
   "outputs": [
    {
     "data": {
      "text/plain": [
       "'https://timesofindia.indiatimes.com/india/pm-modi-pats-nitish-on-the-back-for-sushasan-takes-dig-at-lalu/articleshow/78088398.cms'"
      ]
     },
     "execution_count": 50,
     "metadata": {},
     "output_type": "execute_result"
    }
   ],
   "source": [
    "links[0]"
   ]
  },
  {
   "cell_type": "code",
   "execution_count": 57,
   "metadata": {},
   "outputs": [],
   "source": [
    "from newspaper import Article\n",
    "import pandas as pd"
   ]
  },
  {
   "cell_type": "code",
   "execution_count": 64,
   "metadata": {},
   "outputs": [],
   "source": [
    "def read_article(url,lang = 'en'):\n",
    "    article_name = Article(url,language=lang)\n",
    "    article_name.download()\n",
    "    article_name.parse()\n",
    "    article_name.nlp()\n",
    "    #print('....')\n",
    "    return article_name.text"
   ]
  },
  {
   "cell_type": "code",
   "execution_count": 65,
   "metadata": {},
   "outputs": [],
   "source": [
    "data = pd.DataFrame()"
   ]
  },
  {
   "cell_type": "code",
   "execution_count": 66,
   "metadata": {},
   "outputs": [],
   "source": [
    "data['URL'] = links\n",
    "data['content'] = data['URL'].apply(lambda x: read_article(x))"
   ]
  },
  {
   "cell_type": "code",
   "execution_count": 67,
   "metadata": {},
   "outputs": [
    {
     "data": {
      "text/html": [
       "<div>\n",
       "<style scoped>\n",
       "    .dataframe tbody tr th:only-of-type {\n",
       "        vertical-align: middle;\n",
       "    }\n",
       "\n",
       "    .dataframe tbody tr th {\n",
       "        vertical-align: top;\n",
       "    }\n",
       "\n",
       "    .dataframe thead th {\n",
       "        text-align: right;\n",
       "    }\n",
       "</style>\n",
       "<table border=\"1\" class=\"dataframe\">\n",
       "  <thead>\n",
       "    <tr style=\"text-align: right;\">\n",
       "      <th></th>\n",
       "      <th>URL</th>\n",
       "      <th>content</th>\n",
       "    </tr>\n",
       "  </thead>\n",
       "  <tbody>\n",
       "    <tr>\n",
       "      <th>0</th>\n",
       "      <td>https://timesofindia.indiatimes.com/india/yoga...</td>\n",
       "      <td>#IndiaFightsCorona Health Ministry issues Post...</td>\n",
       "    </tr>\n",
       "    <tr>\n",
       "      <th>1</th>\n",
       "      <td>https://timesofindia.indiatimes.com/india/pm-m...</td>\n",
       "      <td>PATNA: In the run up to the assembly polls in ...</td>\n",
       "    </tr>\n",
       "    <tr>\n",
       "      <th>2</th>\n",
       "      <td>https://timesofindia.indiatimes.com/sports/bad...</td>\n",
       "      <td>Saina Nehwal (Getty Images)\\n\\n7 countries hav...</td>\n",
       "    </tr>\n",
       "    <tr>\n",
       "      <th>3</th>\n",
       "      <td>https://timesofindia.indiatimes.com/sports/cri...</td>\n",
       "      <td>28.5 overs\\n\\nWEngland- 117/5\\n\\nAdam Zampa to...</td>\n",
       "    </tr>\n",
       "    <tr>\n",
       "      <th>4</th>\n",
       "      <td>https://timesofindia.indiatimes.com/india/spee...</td>\n",
       "      <td>File photo of Lalu Prasad and Raghuvansh\\n\\nप्...</td>\n",
       "    </tr>\n",
       "  </tbody>\n",
       "</table>\n",
       "</div>"
      ],
      "text/plain": [
       "                                                 URL  \\\n",
       "0  https://timesofindia.indiatimes.com/india/yoga...   \n",
       "1  https://timesofindia.indiatimes.com/india/pm-m...   \n",
       "2  https://timesofindia.indiatimes.com/sports/bad...   \n",
       "3  https://timesofindia.indiatimes.com/sports/cri...   \n",
       "4  https://timesofindia.indiatimes.com/india/spee...   \n",
       "\n",
       "                                             content  \n",
       "0  #IndiaFightsCorona Health Ministry issues Post...  \n",
       "1  PATNA: In the run up to the assembly polls in ...  \n",
       "2  Saina Nehwal (Getty Images)\\n\\n7 countries hav...  \n",
       "3  28.5 overs\\n\\nWEngland- 117/5\\n\\nAdam Zampa to...  \n",
       "4  File photo of Lalu Prasad and Raghuvansh\\n\\nप्...  "
      ]
     },
     "execution_count": 67,
     "metadata": {},
     "output_type": "execute_result"
    }
   ],
   "source": [
    "data.head()"
   ]
  },
  {
   "cell_type": "code",
   "execution_count": null,
   "metadata": {},
   "outputs": [],
   "source": []
  }
 ],
 "metadata": {
  "kernelspec": {
   "display_name": "Python 3.7 (tensorflow)",
   "language": "python",
   "name": "tensorflow"
  },
  "language_info": {
   "codemirror_mode": {
    "name": "ipython",
    "version": 3
   },
   "file_extension": ".py",
   "mimetype": "text/x-python",
   "name": "python",
   "nbconvert_exporter": "python",
   "pygments_lexer": "ipython3",
   "version": "3.7.6"
  }
 },
 "nbformat": 4,
 "nbformat_minor": 4
}
