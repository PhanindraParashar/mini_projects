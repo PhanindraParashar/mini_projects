{
 "cells": [
  {
   "cell_type": "code",
   "execution_count": 1,
   "metadata": {},
   "outputs": [],
   "source": [
    "from selenium import webdriver\n",
    "from selenium.webdriver.common.keys import Keys\n",
    "import urllib.request\n",
    "import numpy as np\n",
    "import pandas as pd\n",
    "from time import sleep\n",
    "from docx import Document\n",
    "from selenium.common.exceptions import StaleElementReferenceException\n",
    "chromedriver = r\"D:\\Programming Segate 25 Jul 2019\\Prgramming_19-05-2019\\WEB\\chromedriver\"\n"
   ]
  },
  {
   "cell_type": "code",
   "execution_count": 2,
   "metadata": {},
   "outputs": [],
   "source": [
    "import pymysql.cursors\n",
    "\n"
   ]
  },
  {
   "cell_type": "code",
   "execution_count": 3,
   "metadata": {},
   "outputs": [],
   "source": [
    "# Connect to the database\n",
    "connection = pymysql.connect(host='localhost',\n",
    "                             user='root',\n",
    "                             password='4917',\n",
    "                             db='world',\n",
    "                             charset='utf8mb4',\n",
    "                             cursorclass=pymysql.cursors.DictCursor)"
   ]
  },
  {
   "cell_type": "code",
   "execution_count": 5,
   "metadata": {},
   "outputs": [
    {
     "name": "stdout",
     "output_type": "stream",
     "text": [
      "(('city',), ('country',), ('countrylanguage',))\n"
     ]
    }
   ],
   "source": [
    "import pymysql as MySQLdb\n",
    "\n",
    "# Open database connection\n",
    "db = MySQLdb.connect(\"localhost\",\"root\",\"4917\",\"world\" )\n",
    "\n",
    "# prepare a cursor object using cursor() method\n",
    "cursor = db.cursor()\n",
    "\n",
    "# execute SQL query using execute() method.\n",
    "cursor.execute(\"show tables\")\n",
    "\n",
    "# Fetch a single row using fetchone() method.\n",
    "data = cursor.fetchall()\n",
    "print (data)"
   ]
  },
  {
   "cell_type": "code",
   "execution_count": 12,
   "metadata": {},
   "outputs": [],
   "source": [
    "import pandas as pd\n",
    "df = pd.read_sql_query(\"SELECT * FROM country\",db)"
   ]
  },
  {
   "cell_type": "code",
   "execution_count": 14,
   "metadata": {},
   "outputs": [
    {
     "data": {
      "text/html": [
       "<div>\n",
       "<style scoped>\n",
       "    .dataframe tbody tr th:only-of-type {\n",
       "        vertical-align: middle;\n",
       "    }\n",
       "\n",
       "    .dataframe tbody tr th {\n",
       "        vertical-align: top;\n",
       "    }\n",
       "\n",
       "    .dataframe thead th {\n",
       "        text-align: right;\n",
       "    }\n",
       "</style>\n",
       "<table border=\"1\" class=\"dataframe\">\n",
       "  <thead>\n",
       "    <tr style=\"text-align: right;\">\n",
       "      <th></th>\n",
       "      <th>Code</th>\n",
       "      <th>Name</th>\n",
       "      <th>Continent</th>\n",
       "      <th>Region</th>\n",
       "      <th>SurfaceArea</th>\n",
       "      <th>IndepYear</th>\n",
       "      <th>Population</th>\n",
       "      <th>LifeExpectancy</th>\n",
       "      <th>GNP</th>\n",
       "      <th>GNPOld</th>\n",
       "      <th>LocalName</th>\n",
       "      <th>GovernmentForm</th>\n",
       "      <th>HeadOfState</th>\n",
       "      <th>Capital</th>\n",
       "      <th>Code2</th>\n",
       "    </tr>\n",
       "  </thead>\n",
       "  <tbody>\n",
       "    <tr>\n",
       "      <th>0</th>\n",
       "      <td>ABW</td>\n",
       "      <td>Aruba</td>\n",
       "      <td>North America</td>\n",
       "      <td>Caribbean</td>\n",
       "      <td>193.0</td>\n",
       "      <td>NaN</td>\n",
       "      <td>103000</td>\n",
       "      <td>78.4</td>\n",
       "      <td>828.0</td>\n",
       "      <td>793.0</td>\n",
       "      <td>Aruba</td>\n",
       "      <td>Nonmetropolitan Territory of The Netherlands</td>\n",
       "      <td>Beatrix</td>\n",
       "      <td>129.0</td>\n",
       "      <td>AW</td>\n",
       "    </tr>\n",
       "    <tr>\n",
       "      <th>1</th>\n",
       "      <td>AFG</td>\n",
       "      <td>Afghanistan</td>\n",
       "      <td>Asia</td>\n",
       "      <td>Southern and Central Asia</td>\n",
       "      <td>652090.0</td>\n",
       "      <td>1919.0</td>\n",
       "      <td>22720000</td>\n",
       "      <td>45.9</td>\n",
       "      <td>5976.0</td>\n",
       "      <td>NaN</td>\n",
       "      <td>Afganistan/Afqanestan</td>\n",
       "      <td>Islamic Emirate</td>\n",
       "      <td>Mohammad Omar</td>\n",
       "      <td>1.0</td>\n",
       "      <td>AF</td>\n",
       "    </tr>\n",
       "    <tr>\n",
       "      <th>2</th>\n",
       "      <td>AGO</td>\n",
       "      <td>Angola</td>\n",
       "      <td>Africa</td>\n",
       "      <td>Central Africa</td>\n",
       "      <td>1246700.0</td>\n",
       "      <td>1975.0</td>\n",
       "      <td>12878000</td>\n",
       "      <td>38.3</td>\n",
       "      <td>6648.0</td>\n",
       "      <td>7984.0</td>\n",
       "      <td>Angola</td>\n",
       "      <td>Republic</td>\n",
       "      <td>JosÃ© Eduardo dos Santos</td>\n",
       "      <td>56.0</td>\n",
       "      <td>AO</td>\n",
       "    </tr>\n",
       "    <tr>\n",
       "      <th>3</th>\n",
       "      <td>AIA</td>\n",
       "      <td>Anguilla</td>\n",
       "      <td>North America</td>\n",
       "      <td>Caribbean</td>\n",
       "      <td>96.0</td>\n",
       "      <td>NaN</td>\n",
       "      <td>8000</td>\n",
       "      <td>76.1</td>\n",
       "      <td>63.2</td>\n",
       "      <td>NaN</td>\n",
       "      <td>Anguilla</td>\n",
       "      <td>Dependent Territory of the UK</td>\n",
       "      <td>Elisabeth II</td>\n",
       "      <td>62.0</td>\n",
       "      <td>AI</td>\n",
       "    </tr>\n",
       "    <tr>\n",
       "      <th>4</th>\n",
       "      <td>ALB</td>\n",
       "      <td>Albania</td>\n",
       "      <td>Europe</td>\n",
       "      <td>Southern Europe</td>\n",
       "      <td>28748.0</td>\n",
       "      <td>1912.0</td>\n",
       "      <td>3401200</td>\n",
       "      <td>71.6</td>\n",
       "      <td>3205.0</td>\n",
       "      <td>2500.0</td>\n",
       "      <td>ShqipÃ«ria</td>\n",
       "      <td>Republic</td>\n",
       "      <td>Rexhep Mejdani</td>\n",
       "      <td>34.0</td>\n",
       "      <td>AL</td>\n",
       "    </tr>\n",
       "    <tr>\n",
       "      <th>...</th>\n",
       "      <td>...</td>\n",
       "      <td>...</td>\n",
       "      <td>...</td>\n",
       "      <td>...</td>\n",
       "      <td>...</td>\n",
       "      <td>...</td>\n",
       "      <td>...</td>\n",
       "      <td>...</td>\n",
       "      <td>...</td>\n",
       "      <td>...</td>\n",
       "      <td>...</td>\n",
       "      <td>...</td>\n",
       "      <td>...</td>\n",
       "      <td>...</td>\n",
       "      <td>...</td>\n",
       "    </tr>\n",
       "    <tr>\n",
       "      <th>234</th>\n",
       "      <td>YEM</td>\n",
       "      <td>Yemen</td>\n",
       "      <td>Asia</td>\n",
       "      <td>Middle East</td>\n",
       "      <td>527968.0</td>\n",
       "      <td>1918.0</td>\n",
       "      <td>18112000</td>\n",
       "      <td>59.8</td>\n",
       "      <td>6041.0</td>\n",
       "      <td>5729.0</td>\n",
       "      <td>Al-Yaman</td>\n",
       "      <td>Republic</td>\n",
       "      <td>Ali Abdallah Salih</td>\n",
       "      <td>1780.0</td>\n",
       "      <td>YE</td>\n",
       "    </tr>\n",
       "    <tr>\n",
       "      <th>235</th>\n",
       "      <td>YUG</td>\n",
       "      <td>Yugoslavia</td>\n",
       "      <td>Europe</td>\n",
       "      <td>Southern Europe</td>\n",
       "      <td>102173.0</td>\n",
       "      <td>1918.0</td>\n",
       "      <td>10640000</td>\n",
       "      <td>72.4</td>\n",
       "      <td>17000.0</td>\n",
       "      <td>NaN</td>\n",
       "      <td>Jugoslavija</td>\n",
       "      <td>Federal Republic</td>\n",
       "      <td>Vojislav KoÂštunica</td>\n",
       "      <td>1792.0</td>\n",
       "      <td>YU</td>\n",
       "    </tr>\n",
       "    <tr>\n",
       "      <th>236</th>\n",
       "      <td>ZAF</td>\n",
       "      <td>South Africa</td>\n",
       "      <td>Africa</td>\n",
       "      <td>Southern Africa</td>\n",
       "      <td>1221037.0</td>\n",
       "      <td>1910.0</td>\n",
       "      <td>40377000</td>\n",
       "      <td>51.1</td>\n",
       "      <td>116729.0</td>\n",
       "      <td>129092.0</td>\n",
       "      <td>South Africa</td>\n",
       "      <td>Republic</td>\n",
       "      <td>Thabo Mbeki</td>\n",
       "      <td>716.0</td>\n",
       "      <td>ZA</td>\n",
       "    </tr>\n",
       "    <tr>\n",
       "      <th>237</th>\n",
       "      <td>ZMB</td>\n",
       "      <td>Zambia</td>\n",
       "      <td>Africa</td>\n",
       "      <td>Eastern Africa</td>\n",
       "      <td>752618.0</td>\n",
       "      <td>1964.0</td>\n",
       "      <td>9169000</td>\n",
       "      <td>37.2</td>\n",
       "      <td>3377.0</td>\n",
       "      <td>3922.0</td>\n",
       "      <td>Zambia</td>\n",
       "      <td>Republic</td>\n",
       "      <td>Frederick Chiluba</td>\n",
       "      <td>3162.0</td>\n",
       "      <td>ZM</td>\n",
       "    </tr>\n",
       "    <tr>\n",
       "      <th>238</th>\n",
       "      <td>ZWE</td>\n",
       "      <td>Zimbabwe</td>\n",
       "      <td>Africa</td>\n",
       "      <td>Eastern Africa</td>\n",
       "      <td>390757.0</td>\n",
       "      <td>1980.0</td>\n",
       "      <td>11669000</td>\n",
       "      <td>37.8</td>\n",
       "      <td>5951.0</td>\n",
       "      <td>8670.0</td>\n",
       "      <td>Zimbabwe</td>\n",
       "      <td>Republic</td>\n",
       "      <td>Robert G. Mugabe</td>\n",
       "      <td>4068.0</td>\n",
       "      <td>ZW</td>\n",
       "    </tr>\n",
       "  </tbody>\n",
       "</table>\n",
       "<p>239 rows × 15 columns</p>\n",
       "</div>"
      ],
      "text/plain": [
       "    Code          Name      Continent                     Region  SurfaceArea  \\\n",
       "0    ABW         Aruba  North America                  Caribbean        193.0   \n",
       "1    AFG   Afghanistan           Asia  Southern and Central Asia     652090.0   \n",
       "2    AGO        Angola         Africa             Central Africa    1246700.0   \n",
       "3    AIA      Anguilla  North America                  Caribbean         96.0   \n",
       "4    ALB       Albania         Europe            Southern Europe      28748.0   \n",
       "..   ...           ...            ...                        ...          ...   \n",
       "234  YEM         Yemen           Asia                Middle East     527968.0   \n",
       "235  YUG    Yugoslavia         Europe            Southern Europe     102173.0   \n",
       "236  ZAF  South Africa         Africa            Southern Africa    1221037.0   \n",
       "237  ZMB        Zambia         Africa             Eastern Africa     752618.0   \n",
       "238  ZWE      Zimbabwe         Africa             Eastern Africa     390757.0   \n",
       "\n",
       "     IndepYear  Population  LifeExpectancy       GNP    GNPOld  \\\n",
       "0          NaN      103000            78.4     828.0     793.0   \n",
       "1       1919.0    22720000            45.9    5976.0       NaN   \n",
       "2       1975.0    12878000            38.3    6648.0    7984.0   \n",
       "3          NaN        8000            76.1      63.2       NaN   \n",
       "4       1912.0     3401200            71.6    3205.0    2500.0   \n",
       "..         ...         ...             ...       ...       ...   \n",
       "234     1918.0    18112000            59.8    6041.0    5729.0   \n",
       "235     1918.0    10640000            72.4   17000.0       NaN   \n",
       "236     1910.0    40377000            51.1  116729.0  129092.0   \n",
       "237     1964.0     9169000            37.2    3377.0    3922.0   \n",
       "238     1980.0    11669000            37.8    5951.0    8670.0   \n",
       "\n",
       "                 LocalName                                GovernmentForm  \\\n",
       "0                    Aruba  Nonmetropolitan Territory of The Netherlands   \n",
       "1    Afganistan/Afqanestan                               Islamic Emirate   \n",
       "2                   Angola                                      Republic   \n",
       "3                 Anguilla                 Dependent Territory of the UK   \n",
       "4               ShqipÃ«ria                                      Republic   \n",
       "..                     ...                                           ...   \n",
       "234               Al-Yaman                                      Republic   \n",
       "235            Jugoslavija                              Federal Republic   \n",
       "236           South Africa                                      Republic   \n",
       "237                 Zambia                                      Republic   \n",
       "238               Zimbabwe                                      Republic   \n",
       "\n",
       "                  HeadOfState  Capital Code2  \n",
       "0                     Beatrix    129.0    AW  \n",
       "1               Mohammad Omar      1.0    AF  \n",
       "2    JosÃ© Eduardo dos Santos     56.0    AO  \n",
       "3                Elisabeth II     62.0    AI  \n",
       "4              Rexhep Mejdani     34.0    AL  \n",
       "..                        ...      ...   ...  \n",
       "234        Ali Abdallah Salih   1780.0    YE  \n",
       "235       Vojislav KoÂštunica   1792.0    YU  \n",
       "236               Thabo Mbeki    716.0    ZA  \n",
       "237         Frederick Chiluba   3162.0    ZM  \n",
       "238          Robert G. Mugabe   4068.0    ZW  \n",
       "\n",
       "[239 rows x 15 columns]"
      ]
     },
     "execution_count": 14,
     "metadata": {},
     "output_type": "execute_result"
    }
   ],
   "source": [
    "df"
   ]
  },
  {
   "cell_type": "code",
   "execution_count": 21,
   "metadata": {},
   "outputs": [],
   "source": [
    "df = pd.read_csv('train_price_resend.csv')"
   ]
  },
  {
   "cell_type": "code",
   "execution_count": 22,
   "metadata": {},
   "outputs": [],
   "source": [
    "df = df[df.columns[1:3]]"
   ]
  },
  {
   "cell_type": "code",
   "execution_count": 23,
   "metadata": {},
   "outputs": [
    {
     "data": {
      "text/html": [
       "<div>\n",
       "<style scoped>\n",
       "    .dataframe tbody tr th:only-of-type {\n",
       "        vertical-align: middle;\n",
       "    }\n",
       "\n",
       "    .dataframe tbody tr th {\n",
       "        vertical-align: top;\n",
       "    }\n",
       "\n",
       "    .dataframe thead th {\n",
       "        text-align: right;\n",
       "    }\n",
       "</style>\n",
       "<table border=\"1\" class=\"dataframe\">\n",
       "  <thead>\n",
       "    <tr style=\"text-align: right;\">\n",
       "      <th></th>\n",
       "      <th>obj_regio1</th>\n",
       "      <th>obj_regio2</th>\n",
       "    </tr>\n",
       "  </thead>\n",
       "  <tbody>\n",
       "    <tr>\n",
       "      <th>0</th>\n",
       "      <td>Bremen</td>\n",
       "      <td>Bremen</td>\n",
       "    </tr>\n",
       "    <tr>\n",
       "      <th>1</th>\n",
       "      <td>Niedersachsen</td>\n",
       "      <td>Helmstedt_Kreis</td>\n",
       "    </tr>\n",
       "    <tr>\n",
       "      <th>2</th>\n",
       "      <td>Niedersachsen</td>\n",
       "      <td>Oldenburg_Oldenburg</td>\n",
       "    </tr>\n",
       "    <tr>\n",
       "      <th>3</th>\n",
       "      <td>Niedersachsen</td>\n",
       "      <td>Emsland_Kreis</td>\n",
       "    </tr>\n",
       "    <tr>\n",
       "      <th>4</th>\n",
       "      <td>Nordrhein_Westfalen</td>\n",
       "      <td>Krefeld</td>\n",
       "    </tr>\n",
       "    <tr>\n",
       "      <th>...</th>\n",
       "      <td>...</td>\n",
       "      <td>...</td>\n",
       "    </tr>\n",
       "    <tr>\n",
       "      <th>27098</th>\n",
       "      <td>Niedersachsen</td>\n",
       "      <td>Hannover_Kreis</td>\n",
       "    </tr>\n",
       "    <tr>\n",
       "      <th>27099</th>\n",
       "      <td>Baden_Württemberg</td>\n",
       "      <td>Freudenstadt_Kreis</td>\n",
       "    </tr>\n",
       "    <tr>\n",
       "      <th>27100</th>\n",
       "      <td>Niedersachsen</td>\n",
       "      <td>Heidekreis</td>\n",
       "    </tr>\n",
       "    <tr>\n",
       "      <th>27101</th>\n",
       "      <td>Sachsen_Anhalt</td>\n",
       "      <td>Burgenlandkreis</td>\n",
       "    </tr>\n",
       "    <tr>\n",
       "      <th>27102</th>\n",
       "      <td>Schleswig_Holstein</td>\n",
       "      <td>Stormarn_Kreis</td>\n",
       "    </tr>\n",
       "  </tbody>\n",
       "</table>\n",
       "<p>27103 rows × 2 columns</p>\n",
       "</div>"
      ],
      "text/plain": [
       "                obj_regio1           obj_regio2\n",
       "0                   Bremen               Bremen\n",
       "1            Niedersachsen      Helmstedt_Kreis\n",
       "2            Niedersachsen  Oldenburg_Oldenburg\n",
       "3            Niedersachsen        Emsland_Kreis\n",
       "4      Nordrhein_Westfalen              Krefeld\n",
       "...                    ...                  ...\n",
       "27098        Niedersachsen       Hannover_Kreis\n",
       "27099    Baden_Württemberg   Freudenstadt_Kreis\n",
       "27100        Niedersachsen           Heidekreis\n",
       "27101       Sachsen_Anhalt      Burgenlandkreis\n",
       "27102   Schleswig_Holstein       Stormarn_Kreis\n",
       "\n",
       "[27103 rows x 2 columns]"
      ]
     },
     "execution_count": 23,
     "metadata": {},
     "output_type": "execute_result"
    }
   ],
   "source": [
    "df"
   ]
  },
  {
   "cell_type": "code",
   "execution_count": 39,
   "metadata": {},
   "outputs": [],
   "source": [
    "db = MySQLdb.connect(\"localhost\",\"root\",\"4917\",\"hellow_world_db\" )"
   ]
  },
  {
   "cell_type": "code",
   "execution_count": 44,
   "metadata": {},
   "outputs": [],
   "source": [
    "df = df.dropna()"
   ]
  },
  {
   "cell_type": "code",
   "execution_count": 45,
   "metadata": {},
   "outputs": [
    {
     "data": {
      "text/html": [
       "<div>\n",
       "<style scoped>\n",
       "    .dataframe tbody tr th:only-of-type {\n",
       "        vertical-align: middle;\n",
       "    }\n",
       "\n",
       "    .dataframe tbody tr th {\n",
       "        vertical-align: top;\n",
       "    }\n",
       "\n",
       "    .dataframe thead th {\n",
       "        text-align: right;\n",
       "    }\n",
       "</style>\n",
       "<table border=\"1\" class=\"dataframe\">\n",
       "  <thead>\n",
       "    <tr style=\"text-align: right;\">\n",
       "      <th></th>\n",
       "      <th>obj_regio1</th>\n",
       "      <th>obj_regio2</th>\n",
       "    </tr>\n",
       "  </thead>\n",
       "  <tbody>\n",
       "    <tr>\n",
       "      <th>0</th>\n",
       "      <td>Bremen</td>\n",
       "      <td>Bremen</td>\n",
       "    </tr>\n",
       "    <tr>\n",
       "      <th>1</th>\n",
       "      <td>Niedersachsen</td>\n",
       "      <td>Helmstedt_Kreis</td>\n",
       "    </tr>\n",
       "    <tr>\n",
       "      <th>2</th>\n",
       "      <td>Niedersachsen</td>\n",
       "      <td>Oldenburg_Oldenburg</td>\n",
       "    </tr>\n",
       "    <tr>\n",
       "      <th>3</th>\n",
       "      <td>Niedersachsen</td>\n",
       "      <td>Emsland_Kreis</td>\n",
       "    </tr>\n",
       "    <tr>\n",
       "      <th>4</th>\n",
       "      <td>Nordrhein_Westfalen</td>\n",
       "      <td>Krefeld</td>\n",
       "    </tr>\n",
       "    <tr>\n",
       "      <th>...</th>\n",
       "      <td>...</td>\n",
       "      <td>...</td>\n",
       "    </tr>\n",
       "    <tr>\n",
       "      <th>27098</th>\n",
       "      <td>Niedersachsen</td>\n",
       "      <td>Hannover_Kreis</td>\n",
       "    </tr>\n",
       "    <tr>\n",
       "      <th>27099</th>\n",
       "      <td>Baden_Württemberg</td>\n",
       "      <td>Freudenstadt_Kreis</td>\n",
       "    </tr>\n",
       "    <tr>\n",
       "      <th>27100</th>\n",
       "      <td>Niedersachsen</td>\n",
       "      <td>Heidekreis</td>\n",
       "    </tr>\n",
       "    <tr>\n",
       "      <th>27101</th>\n",
       "      <td>Sachsen_Anhalt</td>\n",
       "      <td>Burgenlandkreis</td>\n",
       "    </tr>\n",
       "    <tr>\n",
       "      <th>27102</th>\n",
       "      <td>Schleswig_Holstein</td>\n",
       "      <td>Stormarn_Kreis</td>\n",
       "    </tr>\n",
       "  </tbody>\n",
       "</table>\n",
       "<p>27103 rows × 2 columns</p>\n",
       "</div>"
      ],
      "text/plain": [
       "                obj_regio1           obj_regio2\n",
       "0                   Bremen               Bremen\n",
       "1            Niedersachsen      Helmstedt_Kreis\n",
       "2            Niedersachsen  Oldenburg_Oldenburg\n",
       "3            Niedersachsen        Emsland_Kreis\n",
       "4      Nordrhein_Westfalen              Krefeld\n",
       "...                    ...                  ...\n",
       "27098        Niedersachsen       Hannover_Kreis\n",
       "27099    Baden_Württemberg   Freudenstadt_Kreis\n",
       "27100        Niedersachsen           Heidekreis\n",
       "27101       Sachsen_Anhalt      Burgenlandkreis\n",
       "27102   Schleswig_Holstein       Stormarn_Kreis\n",
       "\n",
       "[27103 rows x 2 columns]"
      ]
     },
     "execution_count": 45,
     "metadata": {},
     "output_type": "execute_result"
    }
   ],
   "source": []
  },
  {
   "cell_type": "code",
   "execution_count": 46,
   "metadata": {},
   "outputs": [],
   "source": [
    "c = db.cursor() \n",
    "c.execute('CREATE TABLE REG (obj_regio1 text, obj_regio2 text)')\n",
    "db.commit()"
   ]
  },
  {
   "cell_type": "code",
   "execution_count": 47,
   "metadata": {},
   "outputs": [
    {
     "ename": "DatabaseError",
     "evalue": "Execution failed on sql 'SELECT name FROM sqlite_master WHERE type='table' AND name=?;': not all arguments converted during string formatting",
     "output_type": "error",
     "traceback": [
      "\u001b[1;31m---------------------------------------------------------------------------\u001b[0m",
      "\u001b[1;31mTypeError\u001b[0m                                 Traceback (most recent call last)",
      "\u001b[1;32m~\\Anaconda3\\envs\\tensorflow\\lib\\site-packages\\pandas\\io\\sql.py\u001b[0m in \u001b[0;36mexecute\u001b[1;34m(self, *args, **kwargs)\u001b[0m\n\u001b[0;32m   1585\u001b[0m         \u001b[1;32mtry\u001b[0m\u001b[1;33m:\u001b[0m\u001b[1;33m\u001b[0m\u001b[1;33m\u001b[0m\u001b[0m\n\u001b[1;32m-> 1586\u001b[1;33m             \u001b[0mcur\u001b[0m\u001b[1;33m.\u001b[0m\u001b[0mexecute\u001b[0m\u001b[1;33m(\u001b[0m\u001b[1;33m*\u001b[0m\u001b[0margs\u001b[0m\u001b[1;33m,\u001b[0m \u001b[1;33m**\u001b[0m\u001b[0mkwargs\u001b[0m\u001b[1;33m)\u001b[0m\u001b[1;33m\u001b[0m\u001b[1;33m\u001b[0m\u001b[0m\n\u001b[0m\u001b[0;32m   1587\u001b[0m             \u001b[1;32mreturn\u001b[0m \u001b[0mcur\u001b[0m\u001b[1;33m\u001b[0m\u001b[1;33m\u001b[0m\u001b[0m\n",
      "\u001b[1;32m~\\Anaconda3\\envs\\tensorflow\\lib\\site-packages\\pymysql\\cursors.py\u001b[0m in \u001b[0;36mexecute\u001b[1;34m(self, query, args)\u001b[0m\n\u001b[0;32m    167\u001b[0m \u001b[1;33m\u001b[0m\u001b[0m\n\u001b[1;32m--> 168\u001b[1;33m         \u001b[0mquery\u001b[0m \u001b[1;33m=\u001b[0m \u001b[0mself\u001b[0m\u001b[1;33m.\u001b[0m\u001b[0mmogrify\u001b[0m\u001b[1;33m(\u001b[0m\u001b[0mquery\u001b[0m\u001b[1;33m,\u001b[0m \u001b[0margs\u001b[0m\u001b[1;33m)\u001b[0m\u001b[1;33m\u001b[0m\u001b[1;33m\u001b[0m\u001b[0m\n\u001b[0m\u001b[0;32m    169\u001b[0m \u001b[1;33m\u001b[0m\u001b[0m\n",
      "\u001b[1;32m~\\Anaconda3\\envs\\tensorflow\\lib\\site-packages\\pymysql\\cursors.py\u001b[0m in \u001b[0;36mmogrify\u001b[1;34m(self, query, args)\u001b[0m\n\u001b[0;32m    146\u001b[0m         \u001b[1;32mif\u001b[0m \u001b[0margs\u001b[0m \u001b[1;32mis\u001b[0m \u001b[1;32mnot\u001b[0m \u001b[1;32mNone\u001b[0m\u001b[1;33m:\u001b[0m\u001b[1;33m\u001b[0m\u001b[1;33m\u001b[0m\u001b[0m\n\u001b[1;32m--> 147\u001b[1;33m             \u001b[0mquery\u001b[0m \u001b[1;33m=\u001b[0m \u001b[0mquery\u001b[0m \u001b[1;33m%\u001b[0m \u001b[0mself\u001b[0m\u001b[1;33m.\u001b[0m\u001b[0m_escape_args\u001b[0m\u001b[1;33m(\u001b[0m\u001b[0margs\u001b[0m\u001b[1;33m,\u001b[0m \u001b[0mconn\u001b[0m\u001b[1;33m)\u001b[0m\u001b[1;33m\u001b[0m\u001b[1;33m\u001b[0m\u001b[0m\n\u001b[0m\u001b[0;32m    148\u001b[0m \u001b[1;33m\u001b[0m\u001b[0m\n",
      "\u001b[1;31mTypeError\u001b[0m: not all arguments converted during string formatting",
      "\nThe above exception was the direct cause of the following exception:\n",
      "\u001b[1;31mDatabaseError\u001b[0m                             Traceback (most recent call last)",
      "\u001b[1;32m<ipython-input-47-959abb1a4974>\u001b[0m in \u001b[0;36m<module>\u001b[1;34m\u001b[0m\n\u001b[1;32m----> 1\u001b[1;33m \u001b[0mdf\u001b[0m\u001b[1;33m.\u001b[0m\u001b[0mto_sql\u001b[0m\u001b[1;33m(\u001b[0m\u001b[1;34m\"r\"\u001b[0m\u001b[1;33m,\u001b[0m\u001b[0mdb\u001b[0m\u001b[1;33m,\u001b[0m\u001b[0mif_exists\u001b[0m\u001b[1;33m=\u001b[0m\u001b[1;34m'replace'\u001b[0m\u001b[1;33m,\u001b[0m \u001b[0mindex\u001b[0m \u001b[1;33m=\u001b[0m \u001b[1;32mFalse\u001b[0m\u001b[1;33m)\u001b[0m\u001b[1;33m\u001b[0m\u001b[1;33m\u001b[0m\u001b[0m\n\u001b[0m",
      "\u001b[1;32m~\\Anaconda3\\envs\\tensorflow\\lib\\site-packages\\pandas\\core\\generic.py\u001b[0m in \u001b[0;36mto_sql\u001b[1;34m(self, name, con, schema, if_exists, index, index_label, chunksize, dtype, method)\u001b[0m\n\u001b[0;32m   2661\u001b[0m             \u001b[0mchunksize\u001b[0m\u001b[1;33m=\u001b[0m\u001b[0mchunksize\u001b[0m\u001b[1;33m,\u001b[0m\u001b[1;33m\u001b[0m\u001b[1;33m\u001b[0m\u001b[0m\n\u001b[0;32m   2662\u001b[0m             \u001b[0mdtype\u001b[0m\u001b[1;33m=\u001b[0m\u001b[0mdtype\u001b[0m\u001b[1;33m,\u001b[0m\u001b[1;33m\u001b[0m\u001b[1;33m\u001b[0m\u001b[0m\n\u001b[1;32m-> 2663\u001b[1;33m             \u001b[0mmethod\u001b[0m\u001b[1;33m=\u001b[0m\u001b[0mmethod\u001b[0m\u001b[1;33m,\u001b[0m\u001b[1;33m\u001b[0m\u001b[1;33m\u001b[0m\u001b[0m\n\u001b[0m\u001b[0;32m   2664\u001b[0m         )\n\u001b[0;32m   2665\u001b[0m \u001b[1;33m\u001b[0m\u001b[0m\n",
      "\u001b[1;32m~\\Anaconda3\\envs\\tensorflow\\lib\\site-packages\\pandas\\io\\sql.py\u001b[0m in \u001b[0;36mto_sql\u001b[1;34m(frame, name, con, schema, if_exists, index, index_label, chunksize, dtype, method)\u001b[0m\n\u001b[0;32m    519\u001b[0m         \u001b[0mchunksize\u001b[0m\u001b[1;33m=\u001b[0m\u001b[0mchunksize\u001b[0m\u001b[1;33m,\u001b[0m\u001b[1;33m\u001b[0m\u001b[1;33m\u001b[0m\u001b[0m\n\u001b[0;32m    520\u001b[0m         \u001b[0mdtype\u001b[0m\u001b[1;33m=\u001b[0m\u001b[0mdtype\u001b[0m\u001b[1;33m,\u001b[0m\u001b[1;33m\u001b[0m\u001b[1;33m\u001b[0m\u001b[0m\n\u001b[1;32m--> 521\u001b[1;33m         \u001b[0mmethod\u001b[0m\u001b[1;33m=\u001b[0m\u001b[0mmethod\u001b[0m\u001b[1;33m,\u001b[0m\u001b[1;33m\u001b[0m\u001b[1;33m\u001b[0m\u001b[0m\n\u001b[0m\u001b[0;32m    522\u001b[0m     )\n\u001b[0;32m    523\u001b[0m \u001b[1;33m\u001b[0m\u001b[0m\n",
      "\u001b[1;32m~\\Anaconda3\\envs\\tensorflow\\lib\\site-packages\\pandas\\io\\sql.py\u001b[0m in \u001b[0;36mto_sql\u001b[1;34m(self, frame, name, if_exists, index, index_label, schema, chunksize, dtype, method)\u001b[0m\n\u001b[0;32m   1731\u001b[0m             \u001b[0mdtype\u001b[0m\u001b[1;33m=\u001b[0m\u001b[0mdtype\u001b[0m\u001b[1;33m,\u001b[0m\u001b[1;33m\u001b[0m\u001b[1;33m\u001b[0m\u001b[0m\n\u001b[0;32m   1732\u001b[0m         )\n\u001b[1;32m-> 1733\u001b[1;33m         \u001b[0mtable\u001b[0m\u001b[1;33m.\u001b[0m\u001b[0mcreate\u001b[0m\u001b[1;33m(\u001b[0m\u001b[1;33m)\u001b[0m\u001b[1;33m\u001b[0m\u001b[1;33m\u001b[0m\u001b[0m\n\u001b[0m\u001b[0;32m   1734\u001b[0m         \u001b[0mtable\u001b[0m\u001b[1;33m.\u001b[0m\u001b[0minsert\u001b[0m\u001b[1;33m(\u001b[0m\u001b[0mchunksize\u001b[0m\u001b[1;33m,\u001b[0m \u001b[0mmethod\u001b[0m\u001b[1;33m)\u001b[0m\u001b[1;33m\u001b[0m\u001b[1;33m\u001b[0m\u001b[0m\n\u001b[0;32m   1735\u001b[0m \u001b[1;33m\u001b[0m\u001b[0m\n",
      "\u001b[1;32m~\\Anaconda3\\envs\\tensorflow\\lib\\site-packages\\pandas\\io\\sql.py\u001b[0m in \u001b[0;36mcreate\u001b[1;34m(self)\u001b[0m\n\u001b[0;32m    642\u001b[0m \u001b[1;33m\u001b[0m\u001b[0m\n\u001b[0;32m    643\u001b[0m     \u001b[1;32mdef\u001b[0m \u001b[0mcreate\u001b[0m\u001b[1;33m(\u001b[0m\u001b[0mself\u001b[0m\u001b[1;33m)\u001b[0m\u001b[1;33m:\u001b[0m\u001b[1;33m\u001b[0m\u001b[1;33m\u001b[0m\u001b[0m\n\u001b[1;32m--> 644\u001b[1;33m         \u001b[1;32mif\u001b[0m \u001b[0mself\u001b[0m\u001b[1;33m.\u001b[0m\u001b[0mexists\u001b[0m\u001b[1;33m(\u001b[0m\u001b[1;33m)\u001b[0m\u001b[1;33m:\u001b[0m\u001b[1;33m\u001b[0m\u001b[1;33m\u001b[0m\u001b[0m\n\u001b[0m\u001b[0;32m    645\u001b[0m             \u001b[1;32mif\u001b[0m \u001b[0mself\u001b[0m\u001b[1;33m.\u001b[0m\u001b[0mif_exists\u001b[0m \u001b[1;33m==\u001b[0m \u001b[1;34m\"fail\"\u001b[0m\u001b[1;33m:\u001b[0m\u001b[1;33m\u001b[0m\u001b[1;33m\u001b[0m\u001b[0m\n\u001b[0;32m    646\u001b[0m                 \u001b[1;32mraise\u001b[0m \u001b[0mValueError\u001b[0m\u001b[1;33m(\u001b[0m\u001b[1;34mf\"Table '{self.name}' already exists.\"\u001b[0m\u001b[1;33m)\u001b[0m\u001b[1;33m\u001b[0m\u001b[1;33m\u001b[0m\u001b[0m\n",
      "\u001b[1;32m~\\Anaconda3\\envs\\tensorflow\\lib\\site-packages\\pandas\\io\\sql.py\u001b[0m in \u001b[0;36mexists\u001b[1;34m(self)\u001b[0m\n\u001b[0;32m    629\u001b[0m \u001b[1;33m\u001b[0m\u001b[0m\n\u001b[0;32m    630\u001b[0m     \u001b[1;32mdef\u001b[0m \u001b[0mexists\u001b[0m\u001b[1;33m(\u001b[0m\u001b[0mself\u001b[0m\u001b[1;33m)\u001b[0m\u001b[1;33m:\u001b[0m\u001b[1;33m\u001b[0m\u001b[1;33m\u001b[0m\u001b[0m\n\u001b[1;32m--> 631\u001b[1;33m         \u001b[1;32mreturn\u001b[0m \u001b[0mself\u001b[0m\u001b[1;33m.\u001b[0m\u001b[0mpd_sql\u001b[0m\u001b[1;33m.\u001b[0m\u001b[0mhas_table\u001b[0m\u001b[1;33m(\u001b[0m\u001b[0mself\u001b[0m\u001b[1;33m.\u001b[0m\u001b[0mname\u001b[0m\u001b[1;33m,\u001b[0m \u001b[0mself\u001b[0m\u001b[1;33m.\u001b[0m\u001b[0mschema\u001b[0m\u001b[1;33m)\u001b[0m\u001b[1;33m\u001b[0m\u001b[1;33m\u001b[0m\u001b[0m\n\u001b[0m\u001b[0;32m    632\u001b[0m \u001b[1;33m\u001b[0m\u001b[0m\n\u001b[0;32m    633\u001b[0m     \u001b[1;32mdef\u001b[0m \u001b[0msql_schema\u001b[0m\u001b[1;33m(\u001b[0m\u001b[0mself\u001b[0m\u001b[1;33m)\u001b[0m\u001b[1;33m:\u001b[0m\u001b[1;33m\u001b[0m\u001b[1;33m\u001b[0m\u001b[0m\n",
      "\u001b[1;32m~\\Anaconda3\\envs\\tensorflow\\lib\\site-packages\\pandas\\io\\sql.py\u001b[0m in \u001b[0;36mhas_table\u001b[1;34m(self, name, schema)\u001b[0m\n\u001b[0;32m   1742\u001b[0m         \u001b[0mquery\u001b[0m \u001b[1;33m=\u001b[0m \u001b[1;34mf\"SELECT name FROM sqlite_master WHERE type='table' AND name={wld};\"\u001b[0m\u001b[1;33m\u001b[0m\u001b[1;33m\u001b[0m\u001b[0m\n\u001b[0;32m   1743\u001b[0m \u001b[1;33m\u001b[0m\u001b[0m\n\u001b[1;32m-> 1744\u001b[1;33m         \u001b[1;32mreturn\u001b[0m \u001b[0mlen\u001b[0m\u001b[1;33m(\u001b[0m\u001b[0mself\u001b[0m\u001b[1;33m.\u001b[0m\u001b[0mexecute\u001b[0m\u001b[1;33m(\u001b[0m\u001b[0mquery\u001b[0m\u001b[1;33m,\u001b[0m \u001b[1;33m[\u001b[0m\u001b[0mname\u001b[0m\u001b[1;33m]\u001b[0m\u001b[1;33m)\u001b[0m\u001b[1;33m.\u001b[0m\u001b[0mfetchall\u001b[0m\u001b[1;33m(\u001b[0m\u001b[1;33m)\u001b[0m\u001b[1;33m)\u001b[0m \u001b[1;33m>\u001b[0m \u001b[1;36m0\u001b[0m\u001b[1;33m\u001b[0m\u001b[1;33m\u001b[0m\u001b[0m\n\u001b[0m\u001b[0;32m   1745\u001b[0m \u001b[1;33m\u001b[0m\u001b[0m\n\u001b[0;32m   1746\u001b[0m     \u001b[1;32mdef\u001b[0m \u001b[0mget_table\u001b[0m\u001b[1;33m(\u001b[0m\u001b[0mself\u001b[0m\u001b[1;33m,\u001b[0m \u001b[0mtable_name\u001b[0m\u001b[1;33m,\u001b[0m \u001b[0mschema\u001b[0m\u001b[1;33m=\u001b[0m\u001b[1;32mNone\u001b[0m\u001b[1;33m)\u001b[0m\u001b[1;33m:\u001b[0m\u001b[1;33m\u001b[0m\u001b[1;33m\u001b[0m\u001b[0m\n",
      "\u001b[1;32m~\\Anaconda3\\envs\\tensorflow\\lib\\site-packages\\pandas\\io\\sql.py\u001b[0m in \u001b[0;36mexecute\u001b[1;34m(self, *args, **kwargs)\u001b[0m\n\u001b[0;32m   1596\u001b[0m \u001b[1;33m\u001b[0m\u001b[0m\n\u001b[0;32m   1597\u001b[0m             \u001b[0mex\u001b[0m \u001b[1;33m=\u001b[0m \u001b[0mDatabaseError\u001b[0m\u001b[1;33m(\u001b[0m\u001b[1;34mf\"Execution failed on sql '{args[0]}': {exc}\"\u001b[0m\u001b[1;33m)\u001b[0m\u001b[1;33m\u001b[0m\u001b[1;33m\u001b[0m\u001b[0m\n\u001b[1;32m-> 1598\u001b[1;33m             \u001b[1;32mraise\u001b[0m \u001b[0mex\u001b[0m \u001b[1;32mfrom\u001b[0m \u001b[0mexc\u001b[0m\u001b[1;33m\u001b[0m\u001b[1;33m\u001b[0m\u001b[0m\n\u001b[0m\u001b[0;32m   1599\u001b[0m \u001b[1;33m\u001b[0m\u001b[0m\n\u001b[0;32m   1600\u001b[0m     \u001b[1;33m@\u001b[0m\u001b[0mstaticmethod\u001b[0m\u001b[1;33m\u001b[0m\u001b[1;33m\u001b[0m\u001b[0m\n",
      "\u001b[1;31mDatabaseError\u001b[0m: Execution failed on sql 'SELECT name FROM sqlite_master WHERE type='table' AND name=?;': not all arguments converted during string formatting"
     ]
    }
   ],
   "source": [
    "df.to_sql(\"r\",db,if_exists='replace', index = False)"
   ]
  },
  {
   "cell_type": "code",
   "execution_count": 58,
   "metadata": {},
   "outputs": [],
   "source": [
    "import sqlite3\n",
    "\n",
    "conn = sqlite3.connect('hellow_world_db2.db')"
   ]
  },
  {
   "cell_type": "code",
   "execution_count": 59,
   "metadata": {},
   "outputs": [
    {
     "data": {
      "text/plain": [
       "<sqlite3.Cursor at 0x27e0e553a40>"
      ]
     },
     "execution_count": 59,
     "metadata": {},
     "output_type": "execute_result"
    }
   ],
   "source": [
    "c = conn.cursor() \n",
    "c.execute('CREATE TABLE REG (obj_regio1 text, obj_regio2 text)')\n"
   ]
  },
  {
   "cell_type": "code",
   "execution_count": 60,
   "metadata": {},
   "outputs": [],
   "source": [
    "df.to_sql(\"r\",conn,if_exists='replace', index = False)"
   ]
  },
  {
   "cell_type": "code",
   "execution_count": null,
   "metadata": {},
   "outputs": [],
   "source": []
  },
  {
   "cell_type": "code",
   "execution_count": 9,
   "metadata": {},
   "outputs": [
    {
     "name": "stdout",
     "output_type": "stream",
     "text": [
      "(('ABW', 'Aruba', 'North America', 'Caribbean', 193.0, None, 103000, 78.4, 828.0, 793.0, 'Aruba', 'Nonmetropolitan Territory of The Netherlands', 'Beatrix', 129, 'AW'), ('AFG', 'Afghanistan', 'Asia', 'Southern and Central Asia', 652090.0, 1919, 22720000, 45.9, 5976.0, None, 'Afganistan/Afqanestan', 'Islamic Emirate', 'Mohammad Omar', 1, 'AF'), ('AGO', 'Angola', 'Africa', 'Central Africa', 1246700.0, 1975, 12878000, 38.3, 6648.0, 7984.0, 'Angola', 'Republic', 'JosÃ© Eduardo dos Santos', 56, 'AO'), ('AIA', 'Anguilla', 'North America', 'Caribbean', 96.0, None, 8000, 76.1, 63.2, None, 'Anguilla', 'Dependent Territory of the UK', 'Elisabeth II', 62, 'AI'), ('ALB', 'Albania', 'Europe', 'Southern Europe', 28748.0, 1912, 3401200, 71.6, 3205.0, 2500.0, 'ShqipÃ«ria', 'Republic', 'Rexhep Mejdani', 34, 'AL'), ('AND', 'Andorra', 'Europe', 'Southern Europe', 468.0, 1278, 78000, 83.5, 1630.0, None, 'Andorra', 'Parliamentary Coprincipality', '', 55, 'AD'), ('ANT', 'Netherlands Antilles', 'North America', 'Caribbean', 800.0, None, 217000, 74.7, 1941.0, None, 'Nederlandse Antillen', 'Nonmetropolitan Territory of The Netherlands', 'Beatrix', 33, 'AN'), ('ARE', 'United Arab Emirates', 'Asia', 'Middle East', 83600.0, 1971, 2441000, 74.1, 37966.0, 36846.0, 'Al-Imarat al-Â´Arabiya al-Muttahida', 'Emirate Federation', 'Zayid bin Sultan al-Nahayan', 65, 'AE'), ('ARG', 'Argentina', 'South America', 'South America', 2780400.0, 1816, 37032000, 75.1, 340238.0, 323310.0, 'Argentina', 'Federal Republic', 'Fernando de la RÃºa', 69, 'AR'), ('ARM', 'Armenia', 'Asia', 'Middle East', 29800.0, 1991, 3520000, 66.4, 1813.0, 1627.0, 'Hajastan', 'Republic', 'Robert KotÂšarjan', 126, 'AM'), ('ASM', 'American Samoa', 'Oceania', 'Polynesia', 199.0, None, 68000, 75.1, 334.0, None, 'Amerika Samoa', 'US Territory', 'George W. Bush', 54, 'AS'), ('ATA', 'Antarctica', 'Antarctica', 'Antarctica', 13120000.0, None, 0, None, 0.0, None, 'Â–', 'Co-administrated', '', None, 'AQ'), ('ATF', 'French Southern territories', 'Antarctica', 'Antarctica', 7780.0, None, 0, None, 0.0, None, 'Terres australes franÃ§aises', 'Nonmetropolitan Territory of France', 'Jacques Chirac', None, 'TF'), ('ATG', 'Antigua and Barbuda', 'North America', 'Caribbean', 442.0, 1981, 68000, 70.5, 612.0, 584.0, 'Antigua and Barbuda', 'Constitutional Monarchy', 'Elisabeth II', 63, 'AG'), ('AUS', 'Australia', 'Oceania', 'Australia and New Zealand', 7741220.0, 1901, 18886000, 79.8, 351182.0, 392911.0, 'Australia', 'Constitutional Monarchy, Federation', 'Elisabeth II', 135, 'AU'), ('AUT', 'Austria', 'Europe', 'Western Europe', 83859.0, 1918, 8091800, 77.7, 211860.0, 206025.0, 'Ã–sterreich', 'Federal Republic', 'Thomas Klestil', 1523, 'AT'), ('AZE', 'Azerbaijan', 'Asia', 'Middle East', 86600.0, 1991, 7734000, 62.9, 4127.0, 4100.0, 'AzÃ¤rbaycan', 'Federal Republic', 'HeydÃ¤r Ã„liyev', 144, 'AZ'), ('BDI', 'Burundi', 'Africa', 'Eastern Africa', 27834.0, 1962, 6695000, 46.2, 903.0, 982.0, 'Burundi/Uburundi', 'Republic', 'Pierre Buyoya', 552, 'BI'), ('BEL', 'Belgium', 'Europe', 'Western Europe', 30518.0, 1830, 10239000, 77.8, 249704.0, 243948.0, 'BelgiÃ«/Belgique', 'Constitutional Monarchy, Federation', 'Albert II', 179, 'BE'), ('BEN', 'Benin', 'Africa', 'Western Africa', 112622.0, 1960, 6097000, 50.2, 2357.0, 2141.0, 'BÃ©nin', 'Republic', 'Mathieu KÃ©rÃ©kou', 187, 'BJ'), ('BFA', 'Burkina Faso', 'Africa', 'Western Africa', 274000.0, 1960, 11937000, 46.7, 2425.0, 2201.0, 'Burkina Faso', 'Republic', 'Blaise CompaorÃ©', 549, 'BF'), ('BGD', 'Bangladesh', 'Asia', 'Southern and Central Asia', 143998.0, 1971, 129155000, 60.2, 32852.0, 31966.0, 'Bangladesh', 'Republic', 'Shahabuddin Ahmad', 150, 'BD'), ('BGR', 'Bulgaria', 'Europe', 'Eastern Europe', 110994.0, 1908, 8190900, 70.9, 12178.0, 10169.0, 'Balgarija', 'Republic', 'Petar Stojanov', 539, 'BG'), ('BHR', 'Bahrain', 'Asia', 'Middle East', 694.0, 1971, 617000, 73.0, 6366.0, 6097.0, 'Al-Bahrayn', 'Monarchy (Emirate)', 'Hamad ibn Isa al-Khalifa', 149, 'BH'), ('BHS', 'Bahamas', 'North America', 'Caribbean', 13878.0, 1973, 307000, 71.1, 3527.0, 3347.0, 'The Bahamas', 'Constitutional Monarchy', 'Elisabeth II', 148, 'BS'), ('BIH', 'Bosnia and Herzegovina', 'Europe', 'Southern Europe', 51197.0, 1992, 3972000, 71.5, 2841.0, None, 'Bosna i Hercegovina', 'Federal Republic', 'Ante Jelavic', 201, 'BA'), ('BLR', 'Belarus', 'Europe', 'Eastern Europe', 207600.0, 1991, 10236000, 68.0, 13714.0, None, 'Belarus', 'Republic', 'Aljaksandr LukaÂšenka', 3520, 'BY'), ('BLZ', 'Belize', 'North America', 'Central America', 22696.0, 1981, 241000, 70.9, 630.0, 616.0, 'Belize', 'Constitutional Monarchy', 'Elisabeth II', 185, 'BZ'), ('BMU', 'Bermuda', 'North America', 'North America', 53.0, None, 65000, 76.9, 2328.0, 2190.0, 'Bermuda', 'Dependent Territory of the UK', 'Elisabeth II', 191, 'BM'), ('BOL', 'Bolivia', 'South America', 'South America', 1098581.0, 1825, 8329000, 63.7, 8571.0, 7967.0, 'Bolivia', 'Republic', 'Hugo BÃ¡nzer SuÃ¡rez', 194, 'BO'), ('BRA', 'Brazil', 'South America', 'South America', 8547403.0, 1822, 170115000, 62.9, 776739.0, 804108.0, 'Brasil', 'Federal Republic', 'Fernando Henrique Cardoso', 211, 'BR'), ('BRB', 'Barbados', 'North America', 'Caribbean', 430.0, 1966, 270000, 73.0, 2223.0, 2186.0, 'Barbados', 'Constitutional Monarchy', 'Elisabeth II', 174, 'BB'), ('BRN', 'Brunei', 'Asia', 'Southeast Asia', 5765.0, 1984, 328000, 73.6, 11705.0, 12460.0, 'Brunei Darussalam', 'Monarchy (Sultanate)', 'Haji Hassan al-Bolkiah', 538, 'BN'), ('BTN', 'Bhutan', 'Asia', 'Southern and Central Asia', 47000.0, 1910, 2124000, 52.4, 372.0, 383.0, 'Druk-Yul', 'Monarchy', 'Jigme Singye Wangchuk', 192, 'BT'), ('BVT', 'Bouvet Island', 'Antarctica', 'Antarctica', 59.0, None, 0, None, 0.0, None, 'BouvetÃ¸ya', 'Dependent Territory of Norway', 'Harald V', None, 'BV'), ('BWA', 'Botswana', 'Africa', 'Southern Africa', 581730.0, 1966, 1622000, 39.3, 4834.0, 4935.0, 'Botswana', 'Republic', 'Festus G. Mogae', 204, 'BW'), ('CAF', 'Central African Republic', 'Africa', 'Central Africa', 622984.0, 1960, 3615000, 44.0, 1054.0, 993.0, 'Centrafrique/BÃª-AfrÃ®ka', 'Republic', 'Ange-FÃ©lix PatassÃ©', 1889, 'CF'), ('CAN', 'Canada', 'North America', 'North America', 9970610.0, 1867, 31147000, 79.4, 598862.0, 625626.0, 'Canada', 'Constitutional Monarchy, Federation', 'Elisabeth II', 1822, 'CA'), ('CCK', 'Cocos (Keeling) Islands', 'Oceania', 'Australia and New Zealand', 14.0, None, 600, None, 0.0, None, 'Cocos (Keeling) Islands', 'Territory of Australia', 'Elisabeth II', 2317, 'CC'), ('CHE', 'Switzerland', 'Europe', 'Western Europe', 41284.0, 1499, 7160400, 79.6, 264478.0, 256092.0, 'Schweiz/Suisse/Svizzera/Svizra', 'Federation', 'Adolf Ogi', 3248, 'CH'), ('CHL', 'Chile', 'South America', 'South America', 756626.0, 1810, 15211000, 75.7, 72949.0, 75780.0, 'Chile', 'Republic', 'Ricardo Lagos Escobar', 554, 'CL'), ('CHN', 'China', 'Asia', 'Eastern Asia', 9572900.0, -1523, 1277558000, 71.4, 982268.0, 917719.0, 'Zhongquo', \"People'sRepublic\", 'Jiang Zemin', 1891, 'CN'), ('CIV', 'CÃ´te dÂ’Ivoire', 'Africa', 'Western Africa', 322463.0, 1960, 14786000, 45.2, 11345.0, 10285.0, 'CÃ´te dÂ’Ivoire', 'Republic', 'Laurent Gbagbo', 2814, 'CI'), ('CMR', 'Cameroon', 'Africa', 'Central Africa', 475442.0, 1960, 15085000, 54.8, 9174.0, 8596.0, 'Cameroun/Cameroon', 'Republic', 'Paul Biya', 1804, 'CM'), ('COD', 'Congo, The Democratic Republic of the', 'Africa', 'Central Africa', 2344858.0, 1960, 51654000, 48.8, 6964.0, 2474.0, 'RÃ©publique DÃ©mocratique du Congo', 'Republic', 'Joseph Kabila', 2298, 'CD'), ('COG', 'Congo', 'Africa', 'Central Africa', 342000.0, 1960, 2943000, 47.4, 2108.0, 2287.0, 'Congo', 'Republic', 'Denis Sassou-Nguesso', 2296, 'CG'), ('COK', 'Cook Islands', 'Oceania', 'Polynesia', 236.0, None, 20000, 71.1, 100.0, None, 'The Cook Islands', 'Nonmetropolitan Territory of New Zealand', 'Elisabeth II', 583, 'CK'), ('COL', 'Colombia', 'South America', 'South America', 1138914.0, 1810, 42321000, 70.3, 102896.0, 105116.0, 'Colombia', 'Republic', 'AndrÃ©s Pastrana Arango', 2257, 'CO'), ('COM', 'Comoros', 'Africa', 'Eastern Africa', 1862.0, 1975, 578000, 60.0, 4401.0, 4361.0, 'Komori/Comores', 'Republic', 'Azali Assoumani', 2295, 'KM'), ('CPV', 'Cape Verde', 'Africa', 'Western Africa', 4033.0, 1975, 428000, 68.9, 435.0, 420.0, 'Cabo Verde', 'Republic', 'AntÃ³nio Mascarenhas Monteiro', 1859, 'CV'), ('CRI', 'Costa Rica', 'North America', 'Central America', 51100.0, 1821, 4023000, 75.8, 10226.0, 9757.0, 'Costa Rica', 'Republic', 'Miguel Ã\\x81ngel RodrÃ\\xadguez EcheverrÃ\\xada', 584, 'CR'), ('CUB', 'Cuba', 'North America', 'Caribbean', 110861.0, 1902, 11201000, 76.2, 17843.0, 18862.0, 'Cuba', 'Socialistic Republic', 'Fidel Castro Ruz', 2413, 'CU'), ('CXR', 'Christmas Island', 'Oceania', 'Australia and New Zealand', 135.0, None, 2500, None, 0.0, None, 'Christmas Island', 'Territory of Australia', 'Elisabeth II', 1791, 'CX'), ('CYM', 'Cayman Islands', 'North America', 'Caribbean', 264.0, None, 38000, 78.9, 1263.0, 1186.0, 'Cayman Islands', 'Dependent Territory of the UK', 'Elisabeth II', 553, 'KY'), ('CYP', 'Cyprus', 'Asia', 'Middle East', 9251.0, 1960, 754700, 76.7, 9333.0, 8246.0, 'KÃ½pros/Kibris', 'Republic', 'Glafkos Klerides', 2430, 'CY'), ('CZE', 'Czech Republic', 'Europe', 'Eastern Europe', 78866.0, 1993, 10278100, 74.5, 55017.0, 52037.0, 'Â¸esko', 'Republic', 'VÃ¡clav Havel', 3339, 'CZ'), ('DEU', 'Germany', 'Europe', 'Western Europe', 357022.0, 1955, 82164700, 77.4, 2133367.0, 2102826.0, 'Deutschland', 'Federal Republic', 'Johannes Rau', 3068, 'DE'), ('DJI', 'Djibouti', 'Africa', 'Eastern Africa', 23200.0, 1977, 638000, 50.8, 382.0, 373.0, 'Djibouti/Jibuti', 'Republic', 'Ismail Omar Guelleh', 585, 'DJ'), ('DMA', 'Dominica', 'North America', 'Caribbean', 751.0, 1978, 71000, 73.4, 256.0, 243.0, 'Dominica', 'Republic', 'Vernon Shaw', 586, 'DM'), ('DNK', 'Denmark', 'Europe', 'Nordic Countries', 43094.0, 800, 5330000, 76.5, 174099.0, 169264.0, 'Danmark', 'Constitutional Monarchy', 'Margrethe II', 3315, 'DK'), ('DOM', 'Dominican Republic', 'North America', 'Caribbean', 48511.0, 1844, 8495000, 73.2, 15846.0, 15076.0, 'RepÃºblica Dominicana', 'Republic', 'HipÃ³lito MejÃ\\xada DomÃ\\xadnguez', 587, 'DO'), ('DZA', 'Algeria', 'Africa', 'Northern Africa', 2381741.0, 1962, 31471000, 69.7, 49982.0, 46966.0, 'Al-JazaÂ’ir/AlgÃ©rie', 'Republic', 'Abdelaziz Bouteflika', 35, 'DZ'), ('ECU', 'Ecuador', 'South America', 'South America', 283561.0, 1822, 12646000, 71.1, 19770.0, 19769.0, 'Ecuador', 'Republic', 'Gustavo Noboa Bejarano', 594, 'EC'), ('EGY', 'Egypt', 'Africa', 'Northern Africa', 1001449.0, 1922, 68470000, 63.3, 82710.0, 75617.0, 'Misr', 'Republic', 'Hosni Mubarak', 608, 'EG'), ('ERI', 'Eritrea', 'Africa', 'Eastern Africa', 117600.0, 1993, 3850000, 55.8, 650.0, 755.0, 'Ertra', 'Republic', 'Isayas Afewerki [Isaias Afwerki]', 652, 'ER'), ('ESH', 'Western Sahara', 'Africa', 'Northern Africa', 266000.0, None, 293000, 49.8, 60.0, None, 'As-Sahrawiya', 'Occupied by Marocco', 'Mohammed Abdel Aziz', 2453, 'EH'), ('ESP', 'Spain', 'Europe', 'Southern Europe', 505992.0, 1492, 39441700, 78.8, 553233.0, 532031.0, 'EspaÃ±a', 'Constitutional Monarchy', 'Juan Carlos I', 653, 'ES'), ('EST', 'Estonia', 'Europe', 'Baltic Countries', 45227.0, 1991, 1439200, 69.5, 5328.0, 3371.0, 'Eesti', 'Republic', 'Lennart Meri', 3791, 'EE'), ('ETH', 'Ethiopia', 'Africa', 'Eastern Africa', 1104300.0, -1000, 62565000, 45.2, 6353.0, 6180.0, 'YeItyopÂ´iya', 'Republic', 'Negasso Gidada', 756, 'ET'), ('FIN', 'Finland', 'Europe', 'Nordic Countries', 338145.0, 1917, 5171300, 77.4, 121914.0, 119833.0, 'Suomi', 'Republic', 'Tarja Halonen', 3236, 'FI'), ('FJI', 'Fiji Islands', 'Oceania', 'Melanesia', 18274.0, 1970, 817000, 67.9, 1536.0, 2149.0, 'Fiji Islands', 'Republic', 'Josefa Iloilo', 764, 'FJ'), ('FLK', 'Falkland Islands', 'South America', 'South America', 12173.0, None, 2000, None, 0.0, None, 'Falkland Islands', 'Dependent Territory of the UK', 'Elisabeth II', 763, 'FK'), ('FRA', 'France', 'Europe', 'Western Europe', 551500.0, 843, 59225700, 78.8, 1424285.0, 1392448.0, 'France', 'Republic', 'Jacques Chirac', 2974, 'FR'), ('FRO', 'Faroe Islands', 'Europe', 'Nordic Countries', 1399.0, None, 43000, 78.4, 0.0, None, 'FÃ¸royar', 'Part of Denmark', 'Margrethe II', 901, 'FO'), ('FSM', 'Micronesia, Federated States of', 'Oceania', 'Micronesia', 702.0, 1990, 119000, 68.6, 212.0, None, 'Micronesia', 'Federal Republic', 'Leo A. Falcam', 2689, 'FM'), ('GAB', 'Gabon', 'Africa', 'Central Africa', 267668.0, 1960, 1226000, 50.1, 5493.0, 5279.0, 'Le Gabon', 'Republic', 'Omar Bongo', 902, 'GA'), ('GBR', 'United Kingdom', 'Europe', 'British Islands', 242900.0, 1066, 59623400, 77.7, 1378330.0, 1296830.0, 'United Kingdom', 'Constitutional Monarchy', 'Elisabeth II', 456, 'GB'), ('GEO', 'Georgia', 'Asia', 'Middle East', 69700.0, 1991, 4968000, 64.5, 6064.0, 5924.0, 'Sakartvelo', 'Republic', 'Eduard ÂŠevardnadze', 905, 'GE'), ('GHA', 'Ghana', 'Africa', 'Western Africa', 238533.0, 1957, 20212000, 57.4, 7137.0, 6884.0, 'Ghana', 'Republic', 'John Kufuor', 910, 'GH'), ('GIB', 'Gibraltar', 'Europe', 'Southern Europe', 6.0, None, 25000, 79.0, 258.0, None, 'Gibraltar', 'Dependent Territory of the UK', 'Elisabeth II', 915, 'GI'), ('GIN', 'Guinea', 'Africa', 'Western Africa', 245857.0, 1958, 7430000, 45.6, 2352.0, 2383.0, 'GuinÃ©e', 'Republic', 'Lansana ContÃ©', 926, 'GN'), ('GLP', 'Guadeloupe', 'North America', 'Caribbean', 1705.0, None, 456000, 77.0, 3501.0, None, 'Guadeloupe', 'Overseas Department of France', 'Jacques Chirac', 919, 'GP'), ('GMB', 'Gambia', 'Africa', 'Western Africa', 11295.0, 1965, 1305000, 53.2, 320.0, 325.0, 'The Gambia', 'Republic', 'Yahya Jammeh', 904, 'GM'), ('GNB', 'Guinea-Bissau', 'Africa', 'Western Africa', 36125.0, 1974, 1213000, 49.0, 293.0, 272.0, 'GuinÃ©-Bissau', 'Republic', 'Kumba IalÃ¡', 927, 'GW'), ('GNQ', 'Equatorial Guinea', 'Africa', 'Central Africa', 28051.0, 1968, 453000, 53.6, 283.0, 542.0, 'Guinea Ecuatorial', 'Republic', 'Teodoro Obiang Nguema Mbasogo', 2972, 'GQ'), ('GRC', 'Greece', 'Europe', 'Southern Europe', 131626.0, 1830, 10545700, 78.4, 120724.0, 119946.0, 'EllÃ¡da', 'Republic', 'Kostis Stefanopoulos', 2401, 'GR'), ('GRD', 'Grenada', 'North America', 'Caribbean', 344.0, 1974, 94000, 64.5, 318.0, None, 'Grenada', 'Constitutional Monarchy', 'Elisabeth II', 916, 'GD'), ('GRL', 'Greenland', 'North America', 'North America', 2166090.0, None, 56000, 68.1, 0.0, None, 'Kalaallit Nunaat/GrÃ¸nland', 'Part of Denmark', 'Margrethe II', 917, 'GL'), ('GTM', 'Guatemala', 'North America', 'Central America', 108889.0, 1821, 11385000, 66.2, 19008.0, 17797.0, 'Guatemala', 'Republic', 'Alfonso Portillo Cabrera', 922, 'GT'), ('GUF', 'French Guiana', 'South America', 'South America', 90000.0, None, 181000, 76.1, 681.0, None, 'Guyane franÃ§aise', 'Overseas Department of France', 'Jacques Chirac', 3014, 'GF'), ('GUM', 'Guam', 'Oceania', 'Micronesia', 549.0, None, 168000, 77.8, 1197.0, 1136.0, 'Guam', 'US Territory', 'George W. Bush', 921, 'GU'), ('GUY', 'Guyana', 'South America', 'South America', 214969.0, 1966, 861000, 64.0, 722.0, 743.0, 'Guyana', 'Republic', 'Bharrat Jagdeo', 928, 'GY'), ('HKG', 'Hong Kong', 'Asia', 'Eastern Asia', 1075.0, None, 6782000, 79.5, 166448.0, 173610.0, 'Xianggang/Hong Kong', 'Special Administrative Region of China', 'Jiang Zemin', 937, 'HK'), ('HMD', 'Heard Island and McDonald Islands', 'Antarctica', 'Antarctica', 359.0, None, 0, None, 0.0, None, 'Heard and McDonald Islands', 'Territory of Australia', 'Elisabeth II', None, 'HM'), ('HND', 'Honduras', 'North America', 'Central America', 112088.0, 1838, 6485000, 69.9, 5333.0, 4697.0, 'Honduras', 'Republic', 'Carlos Roberto Flores FacussÃ©', 933, 'HN'), ('HRV', 'Croatia', 'Europe', 'Southern Europe', 56538.0, 1991, 4473000, 73.7, 20208.0, 19300.0, 'Hrvatska', 'Republic', 'ÂŠtipe Mesic', 2409, 'HR'), ('HTI', 'Haiti', 'North America', 'Caribbean', 27750.0, 1804, 8222000, 49.2, 3459.0, 3107.0, 'HaÃ¯ti/Dayti', 'Republic', 'Jean-Bertrand Aristide', 929, 'HT'), ('HUN', 'Hungary', 'Europe', 'Eastern Europe', 93030.0, 1918, 10043200, 71.4, 48267.0, 45914.0, 'MagyarorszÃ¡g', 'Republic', 'Ferenc MÃ¡dl', 3483, 'HU'), ('IDN', 'Indonesia', 'Asia', 'Southeast Asia', 1904569.0, 1945, 212107000, 68.0, 84982.0, 215002.0, 'Indonesia', 'Republic', 'Abdurrahman Wahid', 939, 'ID'), ('IND', 'India', 'Asia', 'Southern and Central Asia', 3287263.0, 1947, 1013662000, 62.5, 447114.0, 430572.0, 'Bharat/India', 'Federal Republic', 'Kocheril Raman Narayanan', 1109, 'IN'), ('IOT', 'British Indian Ocean Territory', 'Africa', 'Eastern Africa', 78.0, None, 0, None, 0.0, None, 'British Indian Ocean Territory', 'Dependent Territory of the UK', 'Elisabeth II', None, 'IO'), ('IRL', 'Ireland', 'Europe', 'British Islands', 70273.0, 1921, 3775100, 76.8, 75921.0, 73132.0, 'Ireland/Ã‰ire', 'Republic', 'Mary McAleese', 1447, 'IE'), ('IRN', 'Iran', 'Asia', 'Southern and Central Asia', 1648195.0, 1906, 67702000, 69.7, 195746.0, 160151.0, 'Iran', 'Islamic Republic', 'Ali Mohammad Khatami-Ardakani', 1380, 'IR'), ('IRQ', 'Iraq', 'Asia', 'Middle East', 438317.0, 1932, 23115000, 66.5, 11500.0, None, 'Al-Â´Iraq', 'Republic', 'Saddam Hussein al-Takriti', 1365, 'IQ'), ('ISL', 'Iceland', 'Europe', 'Nordic Countries', 103000.0, 1944, 279000, 79.4, 8255.0, 7474.0, 'Ã\\x8dsland', 'Republic', 'Ã“lafur Ragnar GrÃ\\xadmsson', 1449, 'IS'), ('ISR', 'Israel', 'Asia', 'Middle East', 21056.0, 1948, 6217000, 78.6, 97477.0, 98577.0, 'YisraÂ’el/IsraÂ’il', 'Republic', 'Moshe Katzav', 1450, 'IL'), ('ITA', 'Italy', 'Europe', 'Southern Europe', 301316.0, 1861, 57680000, 79.0, 1161755.0, 1145372.0, 'Italia', 'Republic', 'Carlo Azeglio Ciampi', 1464, 'IT'), ('JAM', 'Jamaica', 'North America', 'Caribbean', 10990.0, 1962, 2583000, 75.2, 6871.0, 6722.0, 'Jamaica', 'Constitutional Monarchy', 'Elisabeth II', 1530, 'JM'), ('JOR', 'Jordan', 'Asia', 'Middle East', 88946.0, 1946, 5083000, 77.4, 7526.0, 7051.0, 'Al-Urdunn', 'Constitutional Monarchy', 'Abdullah II', 1786, 'JO'), ('JPN', 'Japan', 'Asia', 'Eastern Asia', 377829.0, -660, 126714000, 80.7, 3787042.0, 4192638.0, 'Nihon/Nippon', 'Constitutional Monarchy', 'Akihito', 1532, 'JP'), ('KAZ', 'Kazakstan', 'Asia', 'Southern and Central Asia', 2724900.0, 1991, 16223000, 63.2, 24375.0, 23383.0, 'Qazaqstan', 'Republic', 'Nursultan Nazarbajev', 1864, 'KZ'), ('KEN', 'Kenya', 'Africa', 'Eastern Africa', 580367.0, 1963, 30080000, 48.0, 9217.0, 10241.0, 'Kenya', 'Republic', 'Daniel arap Moi', 1881, 'KE'), ('KGZ', 'Kyrgyzstan', 'Asia', 'Southern and Central Asia', 199900.0, 1991, 4699000, 63.4, 1626.0, 1767.0, 'Kyrgyzstan', 'Republic', 'Askar Akajev', 2253, 'KG'), ('KHM', 'Cambodia', 'Asia', 'Southeast Asia', 181035.0, 1953, 11168000, 56.5, 5121.0, 5670.0, 'KÃ¢mpuchÃ©a', 'Constitutional Monarchy', 'Norodom Sihanouk', 1800, 'KH'), ('KIR', 'Kiribati', 'Oceania', 'Micronesia', 726.0, 1979, 83000, 59.8, 40.7, None, 'Kiribati', 'Republic', 'Teburoro Tito', 2256, 'KI'), ('KNA', 'Saint Kitts and Nevis', 'North America', 'Caribbean', 261.0, 1983, 38000, 70.7, 299.0, None, 'Saint Kitts and Nevis', 'Constitutional Monarchy', 'Elisabeth II', 3064, 'KN'), ('KOR', 'South Korea', 'Asia', 'Eastern Asia', 99434.0, 1948, 46844000, 74.4, 320749.0, 442544.0, 'Taehan MinÂ’guk (Namhan)', 'Republic', 'Kim Dae-jung', 2331, 'KR'), ('KWT', 'Kuwait', 'Asia', 'Middle East', 17818.0, 1961, 1972000, 76.1, 27037.0, 30373.0, 'Al-Kuwayt', 'Constitutional Monarchy (Emirate)', 'Jabir al-Ahmad al-Jabir al-Sabah', 2429, 'KW'), ('LAO', 'Laos', 'Asia', 'Southeast Asia', 236800.0, 1953, 5433000, 53.1, 1292.0, 1746.0, 'Lao', 'Republic', 'Khamtay Siphandone', 2432, 'LA'), ('LBN', 'Lebanon', 'Asia', 'Middle East', 10400.0, 1941, 3282000, 71.3, 17121.0, 15129.0, 'Lubnan', 'Republic', 'Ã‰mile Lahoud', 2438, 'LB'), ('LBR', 'Liberia', 'Africa', 'Western Africa', 111369.0, 1847, 3154000, 51.0, 2012.0, None, 'Liberia', 'Republic', 'Charles Taylor', 2440, 'LR'), ('LBY', 'Libyan Arab Jamahiriya', 'Africa', 'Northern Africa', 1759540.0, 1951, 5605000, 75.5, 44806.0, 40562.0, 'Libiya', 'Socialistic State', 'Muammar al-Qadhafi', 2441, 'LY'), ('LCA', 'Saint Lucia', 'North America', 'Caribbean', 622.0, 1979, 154000, 72.3, 571.0, None, 'Saint Lucia', 'Constitutional Monarchy', 'Elisabeth II', 3065, 'LC'), ('LIE', 'Liechtenstein', 'Europe', 'Western Europe', 160.0, 1806, 32300, 78.8, 1119.0, 1084.0, 'Liechtenstein', 'Constitutional Monarchy', 'Hans-Adam II', 2446, 'LI'), ('LKA', 'Sri Lanka', 'Asia', 'Southern and Central Asia', 65610.0, 1948, 18827000, 71.8, 15706.0, 15091.0, 'Sri Lanka/Ilankai', 'Republic', 'Chandrika Kumaratunga', 3217, 'LK'), ('LSO', 'Lesotho', 'Africa', 'Southern Africa', 30355.0, 1966, 2153000, 50.8, 1061.0, 1161.0, 'Lesotho', 'Constitutional Monarchy', 'Letsie III', 2437, 'LS'), ('LTU', 'Lithuania', 'Europe', 'Baltic Countries', 65301.0, 1991, 3698500, 69.1, 10692.0, 9585.0, 'Lietuva', 'Republic', 'Valdas Adamkus', 2447, 'LT'), ('LUX', 'Luxembourg', 'Europe', 'Western Europe', 2586.0, 1867, 435700, 77.1, 16321.0, 15519.0, 'Luxembourg/LÃ«tzebuerg', 'Constitutional Monarchy', 'Henri', 2452, 'LU'), ('LVA', 'Latvia', 'Europe', 'Baltic Countries', 64589.0, 1991, 2424200, 68.4, 6398.0, 5639.0, 'Latvija', 'Republic', 'Vaira Vike-Freiberga', 2434, 'LV'), ('MAC', 'Macao', 'Asia', 'Eastern Asia', 18.0, None, 473000, 81.6, 5749.0, 5940.0, 'Macau/Aomen', 'Special Administrative Region of China', 'Jiang Zemin', 2454, 'MO'), ('MAR', 'Morocco', 'Africa', 'Northern Africa', 446550.0, 1956, 28351000, 69.1, 36124.0, 33514.0, 'Al-Maghrib', 'Constitutional Monarchy', 'Mohammed VI', 2486, 'MA'), ('MCO', 'Monaco', 'Europe', 'Western Europe', 1.5, 1861, 34000, 78.8, 776.0, None, 'Monaco', 'Constitutional Monarchy', 'Rainier III', 2695, 'MC'), ('MDA', 'Moldova', 'Europe', 'Eastern Europe', 33851.0, 1991, 4380000, 64.5, 1579.0, 1872.0, 'Moldova', 'Republic', 'Vladimir Voronin', 2690, 'MD'), ('MDG', 'Madagascar', 'Africa', 'Eastern Africa', 587041.0, 1960, 15942000, 55.0, 3750.0, 3545.0, 'Madagasikara/Madagascar', 'Federal Republic', 'Didier Ratsiraka', 2455, 'MG'), ('MDV', 'Maldives', 'Asia', 'Southern and Central Asia', 298.0, 1965, 286000, 62.2, 199.0, None, 'Dhivehi Raajje/Maldives', 'Republic', 'Maumoon Abdul Gayoom', 2463, 'MV'), ('MEX', 'Mexico', 'North America', 'Central America', 1958201.0, 1810, 98881000, 71.5, 414972.0, 401461.0, 'MÃ©xico', 'Federal Republic', 'Vicente Fox Quesada', 2515, 'MX'), ('MHL', 'Marshall Islands', 'Oceania', 'Micronesia', 181.0, 1990, 64000, 65.5, 97.0, None, 'Marshall Islands/Majol', 'Republic', 'Kessai Note', 2507, 'MH'), ('MKD', 'Macedonia', 'Europe', 'Southern Europe', 25713.0, 1991, 2024000, 73.8, 1694.0, 1915.0, 'Makedonija', 'Republic', 'Boris Trajkovski', 2460, 'MK'), ('MLI', 'Mali', 'Africa', 'Western Africa', 1240192.0, 1960, 11234000, 46.7, 2642.0, 2453.0, 'Mali', 'Republic', 'Alpha Oumar KonarÃ©', 2482, 'ML'), ('MLT', 'Malta', 'Europe', 'Southern Europe', 316.0, 1964, 380200, 77.9, 3512.0, 3338.0, 'Malta', 'Republic', 'Guido de Marco', 2484, 'MT'), ('MMR', 'Myanmar', 'Asia', 'Southeast Asia', 676578.0, 1948, 45611000, 54.9, 180375.0, 171028.0, 'Myanma Pye', 'Republic', 'kenraali Than Shwe', 2710, 'MM'), ('MNG', 'Mongolia', 'Asia', 'Eastern Asia', 1566500.0, 1921, 2662000, 67.3, 1043.0, 933.0, 'Mongol Uls', 'Republic', 'Natsagiin Bagabandi', 2696, 'MN'), ('MNP', 'Northern Mariana Islands', 'Oceania', 'Micronesia', 464.0, None, 78000, 75.5, 0.0, None, 'Northern Mariana Islands', 'Commonwealth of the US', 'George W. Bush', 2913, 'MP'), ('MOZ', 'Mozambique', 'Africa', 'Eastern Africa', 801590.0, 1975, 19680000, 37.5, 2891.0, 2711.0, 'MoÃ§ambique', 'Republic', 'JoaquÃ\\xadm A. Chissano', 2698, 'MZ'), ('MRT', 'Mauritania', 'Africa', 'Western Africa', 1025520.0, 1960, 2670000, 50.8, 998.0, 1081.0, 'Muritaniya/Mauritanie', 'Republic', 'Maaouiya Ould SidÂ´Ahmad Taya', 2509, 'MR'), ('MSR', 'Montserrat', 'North America', 'Caribbean', 102.0, None, 11000, 78.0, 109.0, None, 'Montserrat', 'Dependent Territory of the UK', 'Elisabeth II', 2697, 'MS'), ('MTQ', 'Martinique', 'North America', 'Caribbean', 1102.0, None, 395000, 78.3, 2731.0, 2559.0, 'Martinique', 'Overseas Department of France', 'Jacques Chirac', 2508, 'MQ'), ('MUS', 'Mauritius', 'Africa', 'Eastern Africa', 2040.0, 1968, 1158000, 71.0, 4251.0, 4186.0, 'Mauritius', 'Republic', 'Cassam Uteem', 2511, 'MU'), ('MWI', 'Malawi', 'Africa', 'Eastern Africa', 118484.0, 1964, 10925000, 37.6, 1687.0, 2527.0, 'Malawi', 'Republic', 'Bakili Muluzi', 2462, 'MW'), ('MYS', 'Malaysia', 'Asia', 'Southeast Asia', 329758.0, 1957, 22244000, 70.8, 69213.0, 97884.0, 'Malaysia', 'Constitutional Monarchy, Federation', 'Salahuddin Abdul Aziz Shah Alhaj', 2464, 'MY'), ('MYT', 'Mayotte', 'Africa', 'Eastern Africa', 373.0, None, 149000, 59.5, 0.0, None, 'Mayotte', 'Territorial Collectivity of France', 'Jacques Chirac', 2514, 'YT'), ('NAM', 'Namibia', 'Africa', 'Southern Africa', 824292.0, 1990, 1726000, 42.5, 3101.0, 3384.0, 'Namibia', 'Republic', 'Sam Nujoma', 2726, 'NA'), ('NCL', 'New Caledonia', 'Oceania', 'Melanesia', 18575.0, None, 214000, 72.8, 3563.0, None, 'Nouvelle-CalÃ©donie', 'Nonmetropolitan Territory of France', 'Jacques Chirac', 3493, 'NC'), ('NER', 'Niger', 'Africa', 'Western Africa', 1267000.0, 1960, 10730000, 41.3, 1706.0, 1580.0, 'Niger', 'Republic', 'Mamadou Tandja', 2738, 'NE'), ('NFK', 'Norfolk Island', 'Oceania', 'Australia and New Zealand', 36.0, None, 2000, None, 0.0, None, 'Norfolk Island', 'Territory of Australia', 'Elisabeth II', 2806, 'NF'), ('NGA', 'Nigeria', 'Africa', 'Western Africa', 923768.0, 1960, 111506000, 51.6, 65707.0, 58623.0, 'Nigeria', 'Federal Republic', 'Olusegun Obasanjo', 2754, 'NG'), ('NIC', 'Nicaragua', 'North America', 'Central America', 130000.0, 1838, 5074000, 68.7, 1988.0, 2023.0, 'Nicaragua', 'Republic', 'Arnoldo AlemÃ¡n Lacayo', 2734, 'NI'), ('NIU', 'Niue', 'Oceania', 'Polynesia', 260.0, None, 2000, None, 0.0, None, 'Niue', 'Nonmetropolitan Territory of New Zealand', 'Elisabeth II', 2805, 'NU'), ('NLD', 'Netherlands', 'Europe', 'Western Europe', 41526.0, 1581, 15864000, 78.3, 371362.0, 360478.0, 'Nederland', 'Constitutional Monarchy', 'Beatrix', 5, 'NL'), ('NOR', 'Norway', 'Europe', 'Nordic Countries', 323877.0, 1905, 4478500, 78.7, 145895.0, 153370.0, 'Norge', 'Constitutional Monarchy', 'Harald V', 2807, 'NO'), ('NPL', 'Nepal', 'Asia', 'Southern and Central Asia', 147181.0, 1769, 23930000, 57.8, 4768.0, 4837.0, 'Nepal', 'Constitutional Monarchy', 'Gyanendra Bir Bikram', 2729, 'NP'), ('NRU', 'Nauru', 'Oceania', 'Micronesia', 21.0, 1968, 12000, 60.8, 197.0, None, 'Naoero/Nauru', 'Republic', 'Bernard Dowiyogo', 2728, 'NR'), ('NZL', 'New Zealand', 'Oceania', 'Australia and New Zealand', 270534.0, 1907, 3862000, 77.8, 54669.0, 64960.0, 'New Zealand/Aotearoa', 'Constitutional Monarchy', 'Elisabeth II', 3499, 'NZ'), ('OMN', 'Oman', 'Asia', 'Middle East', 309500.0, 1951, 2542000, 71.8, 16904.0, 16153.0, 'Â´Uman', 'Monarchy (Sultanate)', 'Qabus ibn SaÂ´id', 2821, 'OM'), ('PAK', 'Pakistan', 'Asia', 'Southern and Central Asia', 796095.0, 1947, 156483000, 61.1, 61289.0, 58549.0, 'Pakistan', 'Republic', 'Mohammad Rafiq Tarar', 2831, 'PK'), ('PAN', 'Panama', 'North America', 'Central America', 75517.0, 1903, 2856000, 75.5, 9131.0, 8700.0, 'PanamÃ¡', 'Republic', 'Mireya Elisa Moscoso RodrÃ\\xadguez', 2882, 'PA'), ('PCN', 'Pitcairn', 'Oceania', 'Polynesia', 49.0, None, 50, None, 0.0, None, 'Pitcairn', 'Dependent Territory of the UK', 'Elisabeth II', 2912, 'PN'), ('PER', 'Peru', 'South America', 'South America', 1285216.0, 1821, 25662000, 70.0, 64140.0, 65186.0, 'PerÃº/Piruw', 'Republic', 'Valentin Paniagua Corazao', 2890, 'PE'), ('PHL', 'Philippines', 'Asia', 'Southeast Asia', 300000.0, 1946, 75967000, 67.5, 65107.0, 82239.0, 'Pilipinas', 'Republic', 'Gloria Macapagal-Arroyo', 766, 'PH'), ('PLW', 'Palau', 'Oceania', 'Micronesia', 459.0, 1994, 19000, 68.6, 105.0, None, 'Belau/Palau', 'Republic', 'Kuniwo Nakamura', 2881, 'PW'), ('PNG', 'Papua New Guinea', 'Oceania', 'Melanesia', 462840.0, 1975, 4807000, 63.1, 4988.0, 6328.0, 'Papua New Guinea/Papua Niugini', 'Constitutional Monarchy', 'Elisabeth II', 2884, 'PG'), ('POL', 'Poland', 'Europe', 'Eastern Europe', 323250.0, 1918, 38653600, 73.2, 151697.0, 135636.0, 'Polska', 'Republic', 'Aleksander Kwasniewski', 2928, 'PL'), ('PRI', 'Puerto Rico', 'North America', 'Caribbean', 8875.0, None, 3869000, 75.6, 34100.0, 32100.0, 'Puerto Rico', 'Commonwealth of the US', 'George W. Bush', 2919, 'PR'), ('PRK', 'North Korea', 'Asia', 'Eastern Asia', 120538.0, 1948, 24039000, 70.7, 5332.0, None, 'Choson Minjujuui InÂ´min Konghwaguk (Bukhan)', 'Socialistic Republic', 'Kim Jong-il', 2318, 'KP'), ('PRT', 'Portugal', 'Europe', 'Southern Europe', 91982.0, 1143, 9997600, 75.8, 105954.0, 102133.0, 'Portugal', 'Republic', 'Jorge SampÃ£io', 2914, 'PT'), ('PRY', 'Paraguay', 'South America', 'South America', 406752.0, 1811, 5496000, 73.7, 8444.0, 9555.0, 'Paraguay', 'Republic', 'Luis Ã\\x81ngel GonzÃ¡lez Macchi', 2885, 'PY'), ('PSE', 'Palestine', 'Asia', 'Middle East', 6257.0, None, 3101000, 71.4, 4173.0, None, 'Filastin', 'Autonomous Area', 'Yasser (Yasir) Arafat', 4074, 'PS'), ('PYF', 'French Polynesia', 'Oceania', 'Polynesia', 4000.0, None, 235000, 74.8, 818.0, 781.0, 'PolynÃ©sie franÃ§aise', 'Nonmetropolitan Territory of France', 'Jacques Chirac', 3016, 'PF'), ('QAT', 'Qatar', 'Asia', 'Middle East', 11000.0, 1971, 599000, 72.4, 9472.0, 8920.0, 'Qatar', 'Monarchy', 'Hamad ibn Khalifa al-Thani', 2973, 'QA'), ('REU', 'RÃ©union', 'Africa', 'Eastern Africa', 2510.0, None, 699000, 72.7, 8287.0, 7988.0, 'RÃ©union', 'Overseas Department of France', 'Jacques Chirac', 3017, 'RE'), ('ROM', 'Romania', 'Europe', 'Eastern Europe', 238391.0, 1878, 22455500, 69.9, 38158.0, 34843.0, 'RomÃ¢nia', 'Republic', 'Ion Iliescu', 3018, 'RO'), ('RUS', 'Russian Federation', 'Europe', 'Eastern Europe', 17075400.0, 1991, 146934000, 67.2, 276608.0, 442989.0, 'Rossija', 'Federal Republic', 'Vladimir Putin', 3580, 'RU'), ('RWA', 'Rwanda', 'Africa', 'Eastern Africa', 26338.0, 1962, 7733000, 39.3, 2036.0, 1863.0, 'Rwanda/Urwanda', 'Republic', 'Paul Kagame', 3047, 'RW'), ('SAU', 'Saudi Arabia', 'Asia', 'Middle East', 2149690.0, 1932, 21607000, 67.8, 137635.0, 146171.0, 'Al-Â´Arabiya as-SaÂ´udiya', 'Monarchy', 'Fahd ibn Abdul-Aziz al-SaÂ´ud', 3173, 'SA'), ('SDN', 'Sudan', 'Africa', 'Northern Africa', 2505813.0, 1956, 29490000, 56.6, 10162.0, None, 'As-Sudan', 'Islamic Republic', 'Omar Hassan Ahmad al-Bashir', 3225, 'SD'), ('SEN', 'Senegal', 'Africa', 'Western Africa', 196722.0, 1960, 9481000, 62.2, 4787.0, 4542.0, 'SÃ©nÃ©gal/Sounougal', 'Republic', 'Abdoulaye Wade', 3198, 'SN'), ('SGP', 'Singapore', 'Asia', 'Southeast Asia', 618.0, 1965, 3567000, 80.1, 86503.0, 96318.0, 'Singapore/Singapura/Xinjiapo/Singapur', 'Republic', 'Sellapan Rama Nathan', 3208, 'SG'), ('SGS', 'South Georgia and the South Sandwich Islands', 'Antarctica', 'Antarctica', 3903.0, None, 0, None, 0.0, None, 'South Georgia and the South Sandwich Islands', 'Dependent Territory of the UK', 'Elisabeth II', None, 'GS'), ('SHN', 'Saint Helena', 'Africa', 'Western Africa', 314.0, None, 6000, 76.8, 0.0, None, 'Saint Helena', 'Dependent Territory of the UK', 'Elisabeth II', 3063, 'SH'), ('SJM', 'Svalbard and Jan Mayen', 'Europe', 'Nordic Countries', 62422.0, None, 3200, None, 0.0, None, 'Svalbard og Jan Mayen', 'Dependent Territory of Norway', 'Harald V', 938, 'SJ'), ('SLB', 'Solomon Islands', 'Oceania', 'Melanesia', 28896.0, 1978, 444000, 71.3, 182.0, 220.0, 'Solomon Islands', 'Constitutional Monarchy', 'Elisabeth II', 3161, 'SB'), ('SLE', 'Sierra Leone', 'Africa', 'Western Africa', 71740.0, 1961, 4854000, 45.3, 746.0, 858.0, 'Sierra Leone', 'Republic', 'Ahmed Tejan Kabbah', 3207, 'SL'), ('SLV', 'El Salvador', 'North America', 'Central America', 21041.0, 1841, 6276000, 69.7, 11863.0, 11203.0, 'El Salvador', 'Republic', 'Francisco Guillermo Flores PÃ©rez', 645, 'SV'), ('SMR', 'San Marino', 'Europe', 'Southern Europe', 61.0, 885, 27000, 81.1, 510.0, None, 'San Marino', 'Republic', None, 3171, 'SM'), ('SOM', 'Somalia', 'Africa', 'Eastern Africa', 637657.0, 1960, 10097000, 46.2, 935.0, None, 'Soomaaliya', 'Republic', 'Abdiqassim Salad Hassan', 3214, 'SO'), ('SPM', 'Saint Pierre and Miquelon', 'North America', 'North America', 242.0, None, 7000, 77.6, 0.0, None, 'Saint-Pierre-et-Miquelon', 'Territorial Collectivity of France', 'Jacques Chirac', 3067, 'PM'), ('STP', 'Sao Tome and Principe', 'Africa', 'Central Africa', 964.0, 1975, 147000, 65.3, 6.0, None, 'SÃ£o TomÃ© e PrÃ\\xadncipe', 'Republic', 'Miguel Trovoada', 3172, 'ST'), ('SUR', 'Suriname', 'South America', 'South America', 163265.0, 1975, 417000, 71.4, 870.0, 706.0, 'Suriname', 'Republic', 'Ronald Venetiaan', 3243, 'SR'), ('SVK', 'Slovakia', 'Europe', 'Eastern Europe', 49012.0, 1993, 5398700, 73.7, 20594.0, 19452.0, 'Slovensko', 'Republic', 'Rudolf Schuster', 3209, 'SK'), ('SVN', 'Slovenia', 'Europe', 'Southern Europe', 20256.0, 1991, 1987800, 74.9, 19756.0, 18202.0, 'Slovenija', 'Republic', 'Milan Kucan', 3212, 'SI'), ('SWE', 'Sweden', 'Europe', 'Nordic Countries', 449964.0, 836, 8861400, 79.6, 226492.0, 227757.0, 'Sverige', 'Constitutional Monarchy', 'Carl XVI Gustaf', 3048, 'SE'), ('SWZ', 'Swaziland', 'Africa', 'Southern Africa', 17364.0, 1968, 1008000, 40.4, 1206.0, 1312.0, 'kaNgwane', 'Monarchy', 'Mswati III', 3244, 'SZ'), ('SYC', 'Seychelles', 'Africa', 'Eastern Africa', 455.0, 1976, 77000, 70.4, 536.0, 539.0, 'Sesel/Seychelles', 'Republic', 'France-Albert RenÃ©', 3206, 'SC'), ('SYR', 'Syria', 'Asia', 'Middle East', 185180.0, 1941, 16125000, 68.5, 65984.0, 64926.0, 'Suriya', 'Republic', 'Bashar al-Assad', 3250, 'SY'), ('TCA', 'Turks and Caicos Islands', 'North America', 'Caribbean', 430.0, None, 17000, 73.3, 96.0, None, 'The Turks and Caicos Islands', 'Dependent Territory of the UK', 'Elisabeth II', 3423, 'TC'), ('TCD', 'Chad', 'Africa', 'Central Africa', 1284000.0, 1960, 7651000, 50.5, 1208.0, 1102.0, 'Tchad/Tshad', 'Republic', 'Idriss DÃ©by', 3337, 'TD'), ('TGO', 'Togo', 'Africa', 'Western Africa', 56785.0, 1960, 4629000, 54.7, 1449.0, 1400.0, 'Togo', 'Republic', 'GnassingbÃ© EyadÃ©ma', 3332, 'TG'), ('THA', 'Thailand', 'Asia', 'Southeast Asia', 513115.0, 1350, 61399000, 68.6, 116416.0, 153907.0, 'Prathet Thai', 'Constitutional Monarchy', 'Bhumibol Adulyadej', 3320, 'TH'), ('TJK', 'Tajikistan', 'Asia', 'Southern and Central Asia', 143100.0, 1991, 6188000, 64.1, 1990.0, 1056.0, 'ToÃ§ikiston', 'Republic', 'Emomali Rahmonov', 3261, 'TJ'), ('TKL', 'Tokelau', 'Oceania', 'Polynesia', 12.0, None, 2000, None, 0.0, None, 'Tokelau', 'Nonmetropolitan Territory of New Zealand', 'Elisabeth II', 3333, 'TK'), ('TKM', 'Turkmenistan', 'Asia', 'Southern and Central Asia', 488100.0, 1991, 4459000, 60.9, 4397.0, 2000.0, 'TÃ¼rkmenostan', 'Republic', 'Saparmurad Nijazov', 3419, 'TM'), ('TMP', 'East Timor', 'Asia', 'Southeast Asia', 14874.0, None, 885000, 46.0, 0.0, None, 'Timor Timur', 'Administrated by the UN', 'JosÃ© Alexandre GusmÃ£o', 1522, 'TP'), ('TON', 'Tonga', 'Oceania', 'Polynesia', 650.0, 1970, 99000, 67.9, 146.0, 170.0, 'Tonga', 'Monarchy', \"Taufa'ahau Tupou IV\", 3334, 'TO'), ('TTO', 'Trinidad and Tobago', 'North America', 'Caribbean', 5130.0, 1962, 1295000, 68.0, 6232.0, 5867.0, 'Trinidad and Tobago', 'Republic', 'Arthur N. R. Robinson', 3336, 'TT'), ('TUN', 'Tunisia', 'Africa', 'Northern Africa', 163610.0, 1956, 9586000, 73.7, 20026.0, 18898.0, 'Tunis/Tunisie', 'Republic', 'Zine al-Abidine Ben Ali', 3349, 'TN'), ('TUR', 'Turkey', 'Asia', 'Middle East', 774815.0, 1923, 66591000, 71.0, 210721.0, 189122.0, 'TÃ¼rkiye', 'Republic', 'Ahmet Necdet Sezer', 3358, 'TR'), ('TUV', 'Tuvalu', 'Oceania', 'Polynesia', 26.0, 1978, 12000, 66.3, 6.0, None, 'Tuvalu', 'Constitutional Monarchy', 'Elisabeth II', 3424, 'TV'), ('TWN', 'Taiwan', 'Asia', 'Eastern Asia', 36188.0, 1945, 22256000, 76.4, 256254.0, 263451.0, 'TÂ’ai-wan', 'Republic', 'Chen Shui-bian', 3263, 'TW'), ('TZA', 'Tanzania', 'Africa', 'Eastern Africa', 883749.0, 1961, 33517000, 52.3, 8005.0, 7388.0, 'Tanzania', 'Republic', 'Benjamin William Mkapa', 3306, 'TZ'), ('UGA', 'Uganda', 'Africa', 'Eastern Africa', 241038.0, 1962, 21778000, 42.9, 6313.0, 6887.0, 'Uganda', 'Republic', 'Yoweri Museveni', 3425, 'UG'), ('UKR', 'Ukraine', 'Europe', 'Eastern Europe', 603700.0, 1991, 50456000, 66.0, 42168.0, 49677.0, 'Ukrajina', 'Republic', 'Leonid KutÂšma', 3426, 'UA'), ('UMI', 'United States Minor Outlying Islands', 'Oceania', 'Micronesia/Caribbean', 16.0, None, 0, None, 0.0, None, 'United States Minor Outlying Islands', 'Dependent Territory of the US', 'George W. Bush', None, 'UM'), ('URY', 'Uruguay', 'South America', 'South America', 175016.0, 1828, 3337000, 75.2, 20831.0, 19967.0, 'Uruguay', 'Republic', 'Jorge Batlle IbÃ¡Ã±ez', 3492, 'UY'), ('USA', 'United States', 'North America', 'North America', 9363520.0, 1776, 278357000, 77.1, 8510700.0, 8110900.0, 'United States', 'Federal Republic', 'George W. Bush', 3813, 'US'), ('UZB', 'Uzbekistan', 'Asia', 'Southern and Central Asia', 447400.0, 1991, 24318000, 63.7, 14194.0, 21300.0, 'Uzbekiston', 'Republic', 'Islam Karimov', 3503, 'UZ'), ('VAT', 'Holy See (Vatican City State)', 'Europe', 'Southern Europe', 0.4, 1929, 1000, None, 9.0, None, 'Santa Sede/CittÃ\\xa0 del Vaticano', 'Independent Church State', 'Johannes Paavali II', 3538, 'VA'), ('VCT', 'Saint Vincent and the Grenadines', 'North America', 'Caribbean', 388.0, 1979, 114000, 72.3, 285.0, None, 'Saint Vincent and the Grenadines', 'Constitutional Monarchy', 'Elisabeth II', 3066, 'VC'), ('VEN', 'Venezuela', 'South America', 'South America', 912050.0, 1811, 24170000, 73.1, 95023.0, 88434.0, 'Venezuela', 'Federal Republic', 'Hugo ChÃ¡vez FrÃ\\xadas', 3539, 'VE'), ('VGB', 'Virgin Islands, British', 'North America', 'Caribbean', 151.0, None, 21000, 75.4, 612.0, 573.0, 'British Virgin Islands', 'Dependent Territory of the UK', 'Elisabeth II', 537, 'VG'), ('VIR', 'Virgin Islands, U.S.', 'North America', 'Caribbean', 347.0, None, 93000, 78.1, 0.0, None, 'Virgin Islands of the United States', 'US Territory', 'George W. Bush', 4067, 'VI'), ('VNM', 'Vietnam', 'Asia', 'Southeast Asia', 331689.0, 1945, 79832000, 69.3, 21929.0, 22834.0, 'ViÃªt Nam', 'Socialistic Republic', 'TrÃ¢n Duc Luong', 3770, 'VN'), ('VUT', 'Vanuatu', 'Oceania', 'Melanesia', 12189.0, 1980, 190000, 60.6, 261.0, 246.0, 'Vanuatu', 'Republic', 'John Bani', 3537, 'VU'), ('WLF', 'Wallis and Futuna', 'Oceania', 'Polynesia', 200.0, None, 15000, None, 0.0, None, 'Wallis-et-Futuna', 'Nonmetropolitan Territory of France', 'Jacques Chirac', 3536, 'WF'), ('WSM', 'Samoa', 'Oceania', 'Polynesia', 2831.0, 1962, 180000, 69.2, 141.0, 157.0, 'Samoa', 'Parlementary Monarchy', 'Malietoa Tanumafili II', 3169, 'WS'), ('YEM', 'Yemen', 'Asia', 'Middle East', 527968.0, 1918, 18112000, 59.8, 6041.0, 5729.0, 'Al-Yaman', 'Republic', 'Ali Abdallah Salih', 1780, 'YE'), ('YUG', 'Yugoslavia', 'Europe', 'Southern Europe', 102173.0, 1918, 10640000, 72.4, 17000.0, None, 'Jugoslavija', 'Federal Republic', 'Vojislav KoÂštunica', 1792, 'YU'), ('ZAF', 'South Africa', 'Africa', 'Southern Africa', 1221037.0, 1910, 40377000, 51.1, 116729.0, 129092.0, 'South Africa', 'Republic', 'Thabo Mbeki', 716, 'ZA'), ('ZMB', 'Zambia', 'Africa', 'Eastern Africa', 752618.0, 1964, 9169000, 37.2, 3377.0, 3922.0, 'Zambia', 'Republic', 'Frederick Chiluba', 3162, 'ZM'), ('ZWE', 'Zimbabwe', 'Africa', 'Eastern Africa', 390757.0, 1980, 11669000, 37.8, 5951.0, 8670.0, 'Zimbabwe', 'Republic', 'Robert G. Mugabe', 4068, 'ZW'))\n"
     ]
    }
   ],
   "source": [
    "sql =  \"SELECT * FROM country\"\n",
    "  \n",
    "cursor.execute(sql)\n",
    "data = cursor.fetchall()\n",
    "print (data)"
   ]
  },
  {
   "cell_type": "code",
   "execution_count": 10,
   "metadata": {},
   "outputs": [],
   "source": [
    "import sqlite3"
   ]
  },
  {
   "cell_type": "code",
   "execution_count": 11,
   "metadata": {},
   "outputs": [],
   "source": [
    "browser = webdriver.Chrome(chromedriver)"
   ]
  },
  {
   "cell_type": "code",
   "execution_count": 12,
   "metadata": {},
   "outputs": [],
   "source": [
    "url = \"https://www.youtube.com/watch?v=AkE5Z-oy5Mc\"\n"
   ]
  },
  {
   "cell_type": "code",
   "execution_count": 7,
   "metadata": {},
   "outputs": [],
   "source": [
    "ssurl = url[1:12] + 'ss' + url[12:]"
   ]
  },
  {
   "cell_type": "code",
   "execution_count": 13,
   "metadata": {},
   "outputs": [],
   "source": [
    "browser.get(url)"
   ]
  },
  {
   "cell_type": "code",
   "execution_count": null,
   "metadata": {},
   "outputs": [],
   "source": [
    "browser = webdriver.Chrome(chromedriver)\n",
    "\n",
    "options = webdriver.chrome.options.Options()\n",
    "profile = {\"plugins.plugins_list\": [{\"enabled\": False, \"name\": \"Chrome PDF Viewer\"}], # Disable Chrome's PDF Viewer\n",
    "               \"download.default_directory\": r'C:\\Users\\phani\\OneDrive\\Desktop\\Books' , \"download.extensions_to_open\": \"application/pdf\"}\n"
   ]
  },
  {
   "cell_type": "code",
   "execution_count": null,
   "metadata": {},
   "outputs": [],
   "source": [
    "links = browser.find_elements_by_partial_link_text('link')"
   ]
  },
  {
   "cell_type": "code",
   "execution_count": null,
   "metadata": {},
   "outputs": [],
   "source": [
    "link_url = []\n",
    "for i in links:\n",
    "    link_url.append(i.text)"
   ]
  },
  {
   "cell_type": "code",
   "execution_count": null,
   "metadata": {},
   "outputs": [],
   "source": [
    "browser.get(link_url[0])"
   ]
  },
  {
   "cell_type": "code",
   "execution_count": null,
   "metadata": {},
   "outputs": [],
   "source": [
    "s = browser.current_url"
   ]
  },
  {
   "cell_type": "code",
   "execution_count": null,
   "metadata": {},
   "outputs": [],
   "source": [
    "s[:26] + 'content/pdf/' + s[31:]"
   ]
  },
  {
   "cell_type": "code",
   "execution_count": null,
   "metadata": {},
   "outputs": [],
   "source": [
    "d = browser.find_element_by_partial_link_text('Download')"
   ]
  },
  {
   "cell_type": "code",
   "execution_count": null,
   "metadata": {},
   "outputs": [],
   "source": [
    "d.click()"
   ]
  },
  {
   "cell_type": "code",
   "execution_count": null,
   "metadata": {},
   "outputs": [],
   "source": [
    "for i in link_url:\n",
    "    browser.get(i)\n",
    "    sleep(1)\n",
    "    s = browser.current_url\n",
    "    nu = s[:26] + 'content/pdf/' + s[31:]\n",
    "    browser.get(nu)\n",
    "    sleep(5)"
   ]
  },
  {
   "cell_type": "code",
   "execution_count": null,
   "metadata": {},
   "outputs": [],
   "source": []
  },
  {
   "cell_type": "code",
   "execution_count": null,
   "metadata": {},
   "outputs": [],
   "source": []
  },
  {
   "cell_type": "code",
   "execution_count": null,
   "metadata": {},
   "outputs": [],
   "source": [
    "search_xpath = '//*[@id=\"ember30\"]/input'\n",
    "search = browser.find_element_by_xpath(search_xpath)\n"
   ]
  },
  {
   "cell_type": "code",
   "execution_count": null,
   "metadata": {},
   "outputs": [],
   "source": [
    "search.send_keys('Data Scientist')\n",
    "search.send_keys(Keys.ENTER)"
   ]
  },
  {
   "cell_type": "code",
   "execution_count": null,
   "metadata": {},
   "outputs": [],
   "source": [
    "jobs_path = '//*[@id=\"ember1002\"]'\n",
    "jobs = browser.find_element_by_xpath(jobs_path)\n",
    "jobs.click()"
   ]
  },
  {
   "cell_type": "code",
   "execution_count": null,
   "metadata": {},
   "outputs": [],
   "source": [
    "P = browser.find_element_by_partial_link_text(\"Data Scientist\")"
   ]
  },
  {
   "cell_type": "code",
   "execution_count": null,
   "metadata": {},
   "outputs": [],
   "source": [
    "P.click()"
   ]
  },
  {
   "cell_type": "code",
   "execution_count": null,
   "metadata": {},
   "outputs": [],
   "source": []
  }
 ],
 "metadata": {
  "kernelspec": {
   "display_name": "Python 3.7 (tensorflow)",
   "language": "python",
   "name": "tensorflow"
  },
  "language_info": {
   "codemirror_mode": {
    "name": "ipython",
    "version": 3
   },
   "file_extension": ".py",
   "mimetype": "text/x-python",
   "name": "python",
   "nbconvert_exporter": "python",
   "pygments_lexer": "ipython3",
   "version": "3.7.6"
  }
 },
 "nbformat": 4,
 "nbformat_minor": 2
}
