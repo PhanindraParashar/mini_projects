{
 "cells": [
  {
   "cell_type": "code",
   "execution_count": 1,
   "metadata": {},
   "outputs": [],
   "source": [
    "import requests\n",
    "import json"
   ]
  },
  {
   "cell_type": "code",
   "execution_count": 2,
   "metadata": {},
   "outputs": [],
   "source": [
    "url =\"https://api.nasa.gov/planetary/apod?api_key=ErFJhVwHa7id5jpSBFnPMoXWuKnMeL1TdxaC6KsB\""
   ]
  },
  {
   "cell_type": "code",
   "execution_count": null,
   "metadata": {},
   "outputs": [],
   "source": [
    "nasa_key = \"ErFJhVwHa7id5jpSBFnPMoXWuKnMeL1TdxaC6KsB\""
   ]
  },
  {
   "cell_type": "code",
   "execution_count": 1,
   "metadata": {},
   "outputs": [
    {
     "ename": "KeyboardInterrupt",
     "evalue": "",
     "output_type": "error",
     "traceback": [
      "\u001b[1;31m---------------------------------------------------------------------------\u001b[0m",
      "\u001b[1;31mKeyboardInterrupt\u001b[0m                         Traceback (most recent call last)",
      "\u001b[1;32m<ipython-input-1-964f2a7eee4b>\u001b[0m in \u001b[0;36m<module>\u001b[1;34m\u001b[0m\n\u001b[0;32m     47\u001b[0m \u001b[1;33m\u001b[0m\u001b[0m\n\u001b[0;32m     48\u001b[0m \u001b[1;33m\u001b[0m\u001b[0m\n\u001b[1;32m---> 49\u001b[1;33m         \u001b[0mk\u001b[0m\u001b[1;33m=\u001b[0m\u001b[0mcv2\u001b[0m\u001b[1;33m.\u001b[0m\u001b[0mwaitKey\u001b[0m\u001b[1;33m(\u001b[0m\u001b[1;36m30\u001b[0m\u001b[1;33m)\u001b[0m \u001b[1;33m&\u001b[0m \u001b[1;36m0xFF\u001b[0m\u001b[1;33m\u001b[0m\u001b[1;33m\u001b[0m\u001b[0m\n\u001b[0m\u001b[0;32m     50\u001b[0m         \u001b[1;32mif\u001b[0m \u001b[0mk\u001b[0m\u001b[1;33m==\u001b[0m\u001b[1;36m32\u001b[0m\u001b[1;33m:\u001b[0m\u001b[1;33m\u001b[0m\u001b[1;33m\u001b[0m\u001b[0m\n\u001b[0;32m     51\u001b[0m                 \u001b[1;32mbreak\u001b[0m\u001b[1;33m\u001b[0m\u001b[1;33m\u001b[0m\u001b[0m\n",
      "\u001b[1;31mKeyboardInterrupt\u001b[0m: "
     ]
    }
   ],
   "source": [
    "import numpy as np\n",
    "import cv2\n",
    "import argparse\n",
    "from collections import deque\n",
    "\n",
    "\n",
    "cap=cv2.VideoCapture(0)\n",
    "\n",
    "pts = deque(maxlen=64)\n",
    "\n",
    "Lower_green = np.array([110,50,50])\n",
    "Upper_green = np.array([130,255,255])\n",
    "while True:\n",
    "\tret, img=cap.read()\n",
    "\thsv=cv2.cvtColor(img,cv2.COLOR_BGR2HSV)\n",
    "\tkernel=np.ones((5,5),np.uint8)\n",
    "\tmask=cv2.inRange(hsv,Lower_green,Upper_green)\n",
    "\tmask = cv2.erode(mask, kernel, iterations=2)\n",
    "\tmask=cv2.morphologyEx(mask,cv2.MORPH_OPEN,kernel)\n",
    "\t#mask=cv2.morphologyEx(mask,cv2.MORPH_CLOSE,kernel)\n",
    "\tmask = cv2.dilate(mask, kernel, iterations=1)\n",
    "\tres=cv2.bitwise_and(img,img,mask=mask)\n",
    "\tcnts,heir=cv2.findContours(mask.copy(),cv2.RETR_EXTERNAL,cv2.CHAIN_APPROX_SIMPLE)[-2:]\n",
    "\tcenter = None\n",
    " \n",
    "\tif len(cnts) > 0:\n",
    "\t\tc = max(cnts, key=cv2.contourArea)\n",
    "\t\t((x, y), radius) = cv2.minEnclosingCircle(c)\n",
    "\t\tM = cv2.moments(c)\n",
    "\t\tcenter = (int(M[\"m10\"] / M[\"m00\"]), int(M[\"m01\"] / M[\"m00\"]))\n",
    " \n",
    "\t\tif radius > 5:\n",
    "\t\t\tcv2.circle(img, (int(x), int(y)), int(radius),(0, 255, 255), 2)\n",
    "\t\t\tcv2.circle(img, center, 5, (0, 0, 255), -1)\n",
    "\t\t\n",
    "\tpts.appendleft(center)\n",
    "\tfor i in range (1,len(pts)):\n",
    "\t\tif pts[i-1]is None or pts[i] is None:\n",
    "\t\t\tcontinue\n",
    "\t\tthick = int(np.sqrt(len(pts) / float(i + 1)) * 2.5)\n",
    "\t\tcv2.line(img, pts[i-1],pts[i],(0,0,225),thick)\n",
    "\t\t\n",
    "\t\n",
    "\tcv2.imshow(\"Frame\", img)\n",
    "\tcv2.imshow(\"mask\",mask)\n",
    "\tcv2.imshow(\"res\",res)\n",
    "\t\n",
    "\t\n",
    "\tk=cv2.waitKey(30) & 0xFF\n",
    "\tif k==32:\n",
    "\t\tbreak\n",
    "# cleanup the camera and close any open windows\n",
    "cap.release()\n",
    "cv2.destroyAllWindows()"
   ]
  },
  {
   "cell_type": "code",
   "execution_count": null,
   "metadata": {},
   "outputs": [],
   "source": [
    "\n"
   ]
  }
 ],
 "metadata": {
  "kernelspec": {
   "display_name": "Python 3.7 (tensorflow)",
   "language": "python",
   "name": "tensorflow"
  },
  "language_info": {
   "codemirror_mode": {
    "name": "ipython",
    "version": 3
   },
   "file_extension": ".py",
   "mimetype": "text/x-python",
   "name": "python",
   "nbconvert_exporter": "python",
   "pygments_lexer": "ipython3",
   "version": "3.7.6"
  }
 },
 "nbformat": 4,
 "nbformat_minor": 4
}
