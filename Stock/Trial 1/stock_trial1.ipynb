{
 "cells": [
  {
   "cell_type": "code",
   "execution_count": 1,
   "metadata": {},
   "outputs": [],
   "source": [
    "import pandas as pd\n",
    "import seaborn as sns\n",
    "import numpy as np\n",
    "from scipy import stats"
   ]
  },
  {
   "cell_type": "code",
   "execution_count": 77,
   "metadata": {},
   "outputs": [],
   "source": [
    "df = pd.read_csv('NIFTY 50_Data_Nov3_95_Mar9_2020.csv')"
   ]
  },
  {
   "cell_type": "code",
   "execution_count": 78,
   "metadata": {},
   "outputs": [
    {
     "data": {
      "text/html": [
       "<div>\n",
       "<style scoped>\n",
       "    .dataframe tbody tr th:only-of-type {\n",
       "        vertical-align: middle;\n",
       "    }\n",
       "\n",
       "    .dataframe tbody tr th {\n",
       "        vertical-align: top;\n",
       "    }\n",
       "\n",
       "    .dataframe thead th {\n",
       "        text-align: right;\n",
       "    }\n",
       "</style>\n",
       "<table border=\"1\" class=\"dataframe\">\n",
       "  <thead>\n",
       "    <tr style=\"text-align: right;\">\n",
       "      <th></th>\n",
       "      <th>Date</th>\n",
       "      <th>Open</th>\n",
       "      <th>High</th>\n",
       "      <th>Low</th>\n",
       "      <th>Close</th>\n",
       "    </tr>\n",
       "  </thead>\n",
       "  <tbody>\n",
       "    <tr>\n",
       "      <th>0</th>\n",
       "      <td>06 Mar 2020</td>\n",
       "      <td>10942.65</td>\n",
       "      <td>11035.10</td>\n",
       "      <td>10827.40</td>\n",
       "      <td>10989.45</td>\n",
       "    </tr>\n",
       "    <tr>\n",
       "      <th>1</th>\n",
       "      <td>05 Mar 2020</td>\n",
       "      <td>11306.05</td>\n",
       "      <td>11389.50</td>\n",
       "      <td>11244.60</td>\n",
       "      <td>11269.00</td>\n",
       "    </tr>\n",
       "    <tr>\n",
       "      <th>2</th>\n",
       "      <td>04 Mar 2020</td>\n",
       "      <td>11351.35</td>\n",
       "      <td>11356.60</td>\n",
       "      <td>11082.15</td>\n",
       "      <td>11251.00</td>\n",
       "    </tr>\n",
       "    <tr>\n",
       "      <th>3</th>\n",
       "      <td>03 Mar 2020</td>\n",
       "      <td>11217.55</td>\n",
       "      <td>11342.25</td>\n",
       "      <td>11152.55</td>\n",
       "      <td>11303.30</td>\n",
       "    </tr>\n",
       "    <tr>\n",
       "      <th>4</th>\n",
       "      <td>02 Mar 2020</td>\n",
       "      <td>11387.35</td>\n",
       "      <td>11433.00</td>\n",
       "      <td>11036.25</td>\n",
       "      <td>11132.75</td>\n",
       "    </tr>\n",
       "  </tbody>\n",
       "</table>\n",
       "</div>"
      ],
      "text/plain": [
       "          Date      Open      High       Low     Close\n",
       "0  06 Mar 2020  10942.65  11035.10  10827.40  10989.45\n",
       "1  05 Mar 2020  11306.05  11389.50  11244.60  11269.00\n",
       "2  04 Mar 2020  11351.35  11356.60  11082.15  11251.00\n",
       "3  03 Mar 2020  11217.55  11342.25  11152.55  11303.30\n",
       "4  02 Mar 2020  11387.35  11433.00  11036.25  11132.75"
      ]
     },
     "execution_count": 78,
     "metadata": {},
     "output_type": "execute_result"
    }
   ],
   "source": [
    "df.head()"
   ]
  },
  {
   "cell_type": "code",
   "execution_count": 79,
   "metadata": {},
   "outputs": [],
   "source": [
    "df.drop(5811,axis=0,inplace=True)"
   ]
  },
  {
   "cell_type": "code",
   "execution_count": 80,
   "metadata": {},
   "outputs": [],
   "source": [
    "cl = list(df['Close'])[::-1]\n",
    "t = list(range(len(cl)))\n",
    "dff = pd.DataFrame()\n",
    "dff['X'] = t\n",
    "dff['Y'] = cl"
   ]
  },
  {
   "cell_type": "code",
   "execution_count": 81,
   "metadata": {},
   "outputs": [
    {
     "data": {
      "text/html": [
       "<div>\n",
       "<style scoped>\n",
       "    .dataframe tbody tr th:only-of-type {\n",
       "        vertical-align: middle;\n",
       "    }\n",
       "\n",
       "    .dataframe tbody tr th {\n",
       "        vertical-align: top;\n",
       "    }\n",
       "\n",
       "    .dataframe thead th {\n",
       "        text-align: right;\n",
       "    }\n",
       "</style>\n",
       "<table border=\"1\" class=\"dataframe\">\n",
       "  <thead>\n",
       "    <tr style=\"text-align: right;\">\n",
       "      <th></th>\n",
       "      <th>X</th>\n",
       "      <th>Y</th>\n",
       "    </tr>\n",
       "  </thead>\n",
       "  <tbody>\n",
       "    <tr>\n",
       "      <th>0</th>\n",
       "      <td>0</td>\n",
       "      <td>1000.00</td>\n",
       "    </tr>\n",
       "    <tr>\n",
       "      <th>1</th>\n",
       "      <td>1</td>\n",
       "      <td>988.92</td>\n",
       "    </tr>\n",
       "    <tr>\n",
       "      <th>2</th>\n",
       "      <td>2</td>\n",
       "      <td>978.22</td>\n",
       "    </tr>\n",
       "    <tr>\n",
       "      <th>3</th>\n",
       "      <td>3</td>\n",
       "      <td>964.01</td>\n",
       "    </tr>\n",
       "    <tr>\n",
       "      <th>4</th>\n",
       "      <td>4</td>\n",
       "      <td>953.07</td>\n",
       "    </tr>\n",
       "  </tbody>\n",
       "</table>\n",
       "</div>"
      ],
      "text/plain": [
       "   X        Y\n",
       "0  0  1000.00\n",
       "1  1   988.92\n",
       "2  2   978.22\n",
       "3  3   964.01\n",
       "4  4   953.07"
      ]
     },
     "execution_count": 81,
     "metadata": {},
     "output_type": "execute_result"
    }
   ],
   "source": [
    "dff.head()"
   ]
  },
  {
   "cell_type": "code",
   "execution_count": 82,
   "metadata": {},
   "outputs": [],
   "source": [
    "def dydx(x,y):\n",
    "    dy = [0]\n",
    "    for i in range(len(x)-1):\n",
    "        Dy = y[i+1] - y[i]\n",
    "        Dx = x[i+1] - x[i]\n",
    "        dy.append(Dy/Dx)\n",
    "    return dy"
   ]
  },
  {
   "cell_type": "code",
   "execution_count": 83,
   "metadata": {},
   "outputs": [],
   "source": [
    "dff['dydx'] = dydx(list(dff['X']),list(dff['Y']))"
   ]
  },
  {
   "cell_type": "code",
   "execution_count": 84,
   "metadata": {},
   "outputs": [],
   "source": [
    "dff['d2ydx2'] = dydx(dff['X'],dff['dydx'])"
   ]
  },
  {
   "cell_type": "code",
   "execution_count": 87,
   "metadata": {},
   "outputs": [],
   "source": [
    "dff['d3ydx3'] = dydx(dff['X'],dff['d2ydx2'])"
   ]
  },
  {
   "cell_type": "code",
   "execution_count": 88,
   "metadata": {},
   "outputs": [],
   "source": [
    "#dff['ydydx'] = dff['Y']*dff['dydx']\n",
    "#dff['xdydx'] = dff['X']*dff['dydx']\n"
   ]
  },
  {
   "cell_type": "code",
   "execution_count": 89,
   "metadata": {},
   "outputs": [
    {
     "data": {
      "text/html": [
       "<div>\n",
       "<style scoped>\n",
       "    .dataframe tbody tr th:only-of-type {\n",
       "        vertical-align: middle;\n",
       "    }\n",
       "\n",
       "    .dataframe tbody tr th {\n",
       "        vertical-align: top;\n",
       "    }\n",
       "\n",
       "    .dataframe thead th {\n",
       "        text-align: right;\n",
       "    }\n",
       "</style>\n",
       "<table border=\"1\" class=\"dataframe\">\n",
       "  <thead>\n",
       "    <tr style=\"text-align: right;\">\n",
       "      <th></th>\n",
       "      <th>X</th>\n",
       "      <th>Y</th>\n",
       "      <th>dydx</th>\n",
       "      <th>d2ydx2</th>\n",
       "      <th>d3ydx3</th>\n",
       "    </tr>\n",
       "  </thead>\n",
       "  <tbody>\n",
       "    <tr>\n",
       "      <th>0</th>\n",
       "      <td>0</td>\n",
       "      <td>1000.00</td>\n",
       "      <td>0.00</td>\n",
       "      <td>0.00</td>\n",
       "      <td>0.00</td>\n",
       "    </tr>\n",
       "    <tr>\n",
       "      <th>1</th>\n",
       "      <td>1</td>\n",
       "      <td>988.92</td>\n",
       "      <td>-11.08</td>\n",
       "      <td>-11.08</td>\n",
       "      <td>-11.08</td>\n",
       "    </tr>\n",
       "    <tr>\n",
       "      <th>2</th>\n",
       "      <td>2</td>\n",
       "      <td>978.22</td>\n",
       "      <td>-10.70</td>\n",
       "      <td>0.38</td>\n",
       "      <td>11.46</td>\n",
       "    </tr>\n",
       "    <tr>\n",
       "      <th>3</th>\n",
       "      <td>3</td>\n",
       "      <td>964.01</td>\n",
       "      <td>-14.21</td>\n",
       "      <td>-3.51</td>\n",
       "      <td>-3.89</td>\n",
       "    </tr>\n",
       "    <tr>\n",
       "      <th>4</th>\n",
       "      <td>4</td>\n",
       "      <td>953.07</td>\n",
       "      <td>-10.94</td>\n",
       "      <td>3.27</td>\n",
       "      <td>6.78</td>\n",
       "    </tr>\n",
       "  </tbody>\n",
       "</table>\n",
       "</div>"
      ],
      "text/plain": [
       "   X        Y   dydx  d2ydx2  d3ydx3\n",
       "0  0  1000.00   0.00    0.00    0.00\n",
       "1  1   988.92 -11.08  -11.08  -11.08\n",
       "2  2   978.22 -10.70    0.38   11.46\n",
       "3  3   964.01 -14.21   -3.51   -3.89\n",
       "4  4   953.07 -10.94    3.27    6.78"
      ]
     },
     "execution_count": 89,
     "metadata": {},
     "output_type": "execute_result"
    }
   ],
   "source": [
    "dff.head()"
   ]
  },
  {
   "cell_type": "code",
   "execution_count": 153,
   "metadata": {},
   "outputs": [],
   "source": []
  },
  {
   "cell_type": "code",
   "execution_count": 160,
   "metadata": {},
   "outputs": [],
   "source": [
    "def ma(y,t):\n",
    "    m = []\n",
    "    x = []\n",
    "    for i in range(1,int(len(y)/t) + 1 ):\n",
    "        yi = np.mean(y[(i-1)*t : i*(t)])\n",
    "        m.append(yi)\n",
    "        x.append((i-1)*t)\n",
    "        #print(yi,i)\n",
    "    return x,m"
   ]
  },
  {
   "cell_type": "code",
   "execution_count": 162,
   "metadata": {},
   "outputs": [],
   "source": []
  },
  {
   "cell_type": "code",
   "execution_count": 163,
   "metadata": {},
   "outputs": [],
   "source": []
  },
  {
   "cell_type": "code",
   "execution_count": 90,
   "metadata": {},
   "outputs": [
    {
     "data": {
      "text/html": [
       "<div>\n",
       "<style scoped>\n",
       "    .dataframe tbody tr th:only-of-type {\n",
       "        vertical-align: middle;\n",
       "    }\n",
       "\n",
       "    .dataframe tbody tr th {\n",
       "        vertical-align: top;\n",
       "    }\n",
       "\n",
       "    .dataframe thead th {\n",
       "        text-align: right;\n",
       "    }\n",
       "</style>\n",
       "<table border=\"1\" class=\"dataframe\">\n",
       "  <thead>\n",
       "    <tr style=\"text-align: right;\">\n",
       "      <th></th>\n",
       "      <th>X</th>\n",
       "      <th>Y</th>\n",
       "      <th>dydx</th>\n",
       "      <th>d2ydx2</th>\n",
       "      <th>d3ydx3</th>\n",
       "    </tr>\n",
       "  </thead>\n",
       "  <tbody>\n",
       "    <tr>\n",
       "      <th>X</th>\n",
       "      <td>1.000000</td>\n",
       "      <td>0.948567</td>\n",
       "      <td>0.014552</td>\n",
       "      <td>-0.000995</td>\n",
       "      <td>-0.000614</td>\n",
       "    </tr>\n",
       "    <tr>\n",
       "      <th>Y</th>\n",
       "      <td>0.948567</td>\n",
       "      <td>1.000000</td>\n",
       "      <td>0.021397</td>\n",
       "      <td>-0.002032</td>\n",
       "      <td>-0.001287</td>\n",
       "    </tr>\n",
       "    <tr>\n",
       "      <th>dydx</th>\n",
       "      <td>0.014552</td>\n",
       "      <td>0.021397</td>\n",
       "      <td>1.000000</td>\n",
       "      <td>0.682430</td>\n",
       "      <td>0.366272</td>\n",
       "    </tr>\n",
       "    <tr>\n",
       "      <th>d2ydx2</th>\n",
       "      <td>-0.000995</td>\n",
       "      <td>-0.002032</td>\n",
       "      <td>0.682430</td>\n",
       "      <td>1.000000</td>\n",
       "      <td>0.853756</td>\n",
       "    </tr>\n",
       "    <tr>\n",
       "      <th>d3ydx3</th>\n",
       "      <td>-0.000614</td>\n",
       "      <td>-0.001287</td>\n",
       "      <td>0.366272</td>\n",
       "      <td>0.853756</td>\n",
       "      <td>1.000000</td>\n",
       "    </tr>\n",
       "  </tbody>\n",
       "</table>\n",
       "</div>"
      ],
      "text/plain": [
       "               X         Y      dydx    d2ydx2    d3ydx3\n",
       "X       1.000000  0.948567  0.014552 -0.000995 -0.000614\n",
       "Y       0.948567  1.000000  0.021397 -0.002032 -0.001287\n",
       "dydx    0.014552  0.021397  1.000000  0.682430  0.366272\n",
       "d2ydx2 -0.000995 -0.002032  0.682430  1.000000  0.853756\n",
       "d3ydx3 -0.000614 -0.001287  0.366272  0.853756  1.000000"
      ]
     },
     "execution_count": 90,
     "metadata": {},
     "output_type": "execute_result"
    }
   ],
   "source": [
    "dff.corr()"
   ]
  },
  {
   "cell_type": "code",
   "execution_count": 91,
   "metadata": {},
   "outputs": [
    {
     "data": {
      "text/html": [
       "<div>\n",
       "<style scoped>\n",
       "    .dataframe tbody tr th:only-of-type {\n",
       "        vertical-align: middle;\n",
       "    }\n",
       "\n",
       "    .dataframe tbody tr th {\n",
       "        vertical-align: top;\n",
       "    }\n",
       "\n",
       "    .dataframe thead th {\n",
       "        text-align: right;\n",
       "    }\n",
       "</style>\n",
       "<table border=\"1\" class=\"dataframe\">\n",
       "  <thead>\n",
       "    <tr style=\"text-align: right;\">\n",
       "      <th></th>\n",
       "      <th>X</th>\n",
       "      <th>Y</th>\n",
       "      <th>dydx</th>\n",
       "      <th>d2ydx2</th>\n",
       "      <th>d3ydx3</th>\n",
       "    </tr>\n",
       "  </thead>\n",
       "  <tbody>\n",
       "    <tr>\n",
       "      <th>count</th>\n",
       "      <td>6059.000000</td>\n",
       "      <td>6059.000000</td>\n",
       "      <td>6059.000000</td>\n",
       "      <td>6059.000000</td>\n",
       "      <td>6059.000000</td>\n",
       "    </tr>\n",
       "    <tr>\n",
       "      <th>mean</th>\n",
       "      <td>3029.000000</td>\n",
       "      <td>4477.544247</td>\n",
       "      <td>1.648696</td>\n",
       "      <td>-0.046138</td>\n",
       "      <td>-0.049109</td>\n",
       "    </tr>\n",
       "    <tr>\n",
       "      <th>std</th>\n",
       "      <td>1749.226972</td>\n",
       "      <td>3355.182511</td>\n",
       "      <td>59.645280</td>\n",
       "      <td>81.246750</td>\n",
       "      <td>138.624346</td>\n",
       "    </tr>\n",
       "    <tr>\n",
       "      <th>min</th>\n",
       "      <td>0.000000</td>\n",
       "      <td>788.150000</td>\n",
       "      <td>-496.500000</td>\n",
       "      <td>-656.200000</td>\n",
       "      <td>-1229.500000</td>\n",
       "    </tr>\n",
       "    <tr>\n",
       "      <th>25%</th>\n",
       "      <td>1514.500000</td>\n",
       "      <td>1216.050000</td>\n",
       "      <td>-19.250000</td>\n",
       "      <td>-33.225000</td>\n",
       "      <td>-51.650000</td>\n",
       "    </tr>\n",
       "    <tr>\n",
       "      <th>50%</th>\n",
       "      <td>3029.000000</td>\n",
       "      <td>4092.250000</td>\n",
       "      <td>1.900000</td>\n",
       "      <td>-1.400000</td>\n",
       "      <td>-0.050000</td>\n",
       "    </tr>\n",
       "    <tr>\n",
       "      <th>75%</th>\n",
       "      <td>4543.500000</td>\n",
       "      <td>6264.200000</td>\n",
       "      <td>23.975000</td>\n",
       "      <td>28.200000</td>\n",
       "      <td>52.405000</td>\n",
       "    </tr>\n",
       "    <tr>\n",
       "      <th>max</th>\n",
       "      <td>6058.000000</td>\n",
       "      <td>12362.300000</td>\n",
       "      <td>651.500000</td>\n",
       "      <td>705.250000</td>\n",
       "      <td>993.900000</td>\n",
       "    </tr>\n",
       "  </tbody>\n",
       "</table>\n",
       "</div>"
      ],
      "text/plain": [
       "                 X             Y         dydx       d2ydx2       d3ydx3\n",
       "count  6059.000000   6059.000000  6059.000000  6059.000000  6059.000000\n",
       "mean   3029.000000   4477.544247     1.648696    -0.046138    -0.049109\n",
       "std    1749.226972   3355.182511    59.645280    81.246750   138.624346\n",
       "min       0.000000    788.150000  -496.500000  -656.200000 -1229.500000\n",
       "25%    1514.500000   1216.050000   -19.250000   -33.225000   -51.650000\n",
       "50%    3029.000000   4092.250000     1.900000    -1.400000    -0.050000\n",
       "75%    4543.500000   6264.200000    23.975000    28.200000    52.405000\n",
       "max    6058.000000  12362.300000   651.500000   705.250000   993.900000"
      ]
     },
     "execution_count": 91,
     "metadata": {},
     "output_type": "execute_result"
    }
   ],
   "source": [
    "dff.describe()"
   ]
  },
  {
   "cell_type": "code",
   "execution_count": 164,
   "metadata": {},
   "outputs": [
    {
     "data": {
      "text/html": [
       "<div>\n",
       "<style scoped>\n",
       "    .dataframe tbody tr th:only-of-type {\n",
       "        vertical-align: middle;\n",
       "    }\n",
       "\n",
       "    .dataframe tbody tr th {\n",
       "        vertical-align: top;\n",
       "    }\n",
       "\n",
       "    .dataframe thead th {\n",
       "        text-align: right;\n",
       "    }\n",
       "</style>\n",
       "<table border=\"1\" class=\"dataframe\">\n",
       "  <thead>\n",
       "    <tr style=\"text-align: right;\">\n",
       "      <th></th>\n",
       "      <th>X</th>\n",
       "      <th>Y</th>\n",
       "      <th>dydx</th>\n",
       "      <th>d2ydx2</th>\n",
       "      <th>d3ydx3</th>\n",
       "    </tr>\n",
       "  </thead>\n",
       "  <tbody>\n",
       "    <tr>\n",
       "      <th>X</th>\n",
       "      <td>1.000000</td>\n",
       "      <td>0.950595</td>\n",
       "      <td>0.236686</td>\n",
       "      <td>-0.022959</td>\n",
       "      <td>-0.031356</td>\n",
       "    </tr>\n",
       "    <tr>\n",
       "      <th>Y</th>\n",
       "      <td>0.950595</td>\n",
       "      <td>1.000000</td>\n",
       "      <td>0.288835</td>\n",
       "      <td>-0.048986</td>\n",
       "      <td>-0.067114</td>\n",
       "    </tr>\n",
       "    <tr>\n",
       "      <th>dydx</th>\n",
       "      <td>0.236686</td>\n",
       "      <td>0.288835</td>\n",
       "      <td>1.000000</td>\n",
       "      <td>0.620293</td>\n",
       "      <td>0.197952</td>\n",
       "    </tr>\n",
       "    <tr>\n",
       "      <th>d2ydx2</th>\n",
       "      <td>-0.022959</td>\n",
       "      <td>-0.048986</td>\n",
       "      <td>0.620293</td>\n",
       "      <td>1.000000</td>\n",
       "      <td>0.793567</td>\n",
       "    </tr>\n",
       "    <tr>\n",
       "      <th>d3ydx3</th>\n",
       "      <td>-0.031356</td>\n",
       "      <td>-0.067114</td>\n",
       "      <td>0.197952</td>\n",
       "      <td>0.793567</td>\n",
       "      <td>1.000000</td>\n",
       "    </tr>\n",
       "  </tbody>\n",
       "</table>\n",
       "</div>"
      ],
      "text/plain": [
       "               X         Y      dydx    d2ydx2    d3ydx3\n",
       "X       1.000000  0.950595  0.236686 -0.022959 -0.031356\n",
       "Y       0.950595  1.000000  0.288835 -0.048986 -0.067114\n",
       "dydx    0.236686  0.288835  1.000000  0.620293  0.197952\n",
       "d2ydx2 -0.022959 -0.048986  0.620293  1.000000  0.793567\n",
       "d3ydx3 -0.031356 -0.067114  0.197952  0.793567  1.000000"
      ]
     },
     "execution_count": 164,
     "metadata": {},
     "output_type": "execute_result"
    }
   ],
   "source": [
    "dn.corr()"
   ]
  },
  {
   "cell_type": "code",
   "execution_count": 165,
   "metadata": {},
   "outputs": [
    {
     "data": {
      "text/html": [
       "<div>\n",
       "<style scoped>\n",
       "    .dataframe tbody tr th:only-of-type {\n",
       "        vertical-align: middle;\n",
       "    }\n",
       "\n",
       "    .dataframe tbody tr th {\n",
       "        vertical-align: top;\n",
       "    }\n",
       "\n",
       "    .dataframe thead th {\n",
       "        text-align: right;\n",
       "    }\n",
       "</style>\n",
       "<table border=\"1\" class=\"dataframe\">\n",
       "  <thead>\n",
       "    <tr style=\"text-align: right;\">\n",
       "      <th></th>\n",
       "      <th>X</th>\n",
       "      <th>Y</th>\n",
       "      <th>dydx</th>\n",
       "      <th>d2ydx2</th>\n",
       "      <th>d3ydx3</th>\n",
       "    </tr>\n",
       "  </thead>\n",
       "  <tbody>\n",
       "    <tr>\n",
       "      <th>count</th>\n",
       "      <td>60.00000</td>\n",
       "      <td>60.000000</td>\n",
       "      <td>60.000000</td>\n",
       "      <td>60.000000</td>\n",
       "      <td>60.000000</td>\n",
       "    </tr>\n",
       "    <tr>\n",
       "      <th>mean</th>\n",
       "      <td>2950.00000</td>\n",
       "      <td>4403.391515</td>\n",
       "      <td>1.753209</td>\n",
       "      <td>-0.000161</td>\n",
       "      <td>-0.000016</td>\n",
       "    </tr>\n",
       "    <tr>\n",
       "      <th>std</th>\n",
       "      <td>1746.42492</td>\n",
       "      <td>3304.649318</td>\n",
       "      <td>4.596023</td>\n",
       "      <td>0.056889</td>\n",
       "      <td>0.000886</td>\n",
       "    </tr>\n",
       "    <tr>\n",
       "      <th>min</th>\n",
       "      <td>0.00000</td>\n",
       "      <td>874.311000</td>\n",
       "      <td>-12.414685</td>\n",
       "      <td>-0.190914</td>\n",
       "      <td>-0.002271</td>\n",
       "    </tr>\n",
       "    <tr>\n",
       "      <th>25%</th>\n",
       "      <td>1475.00000</td>\n",
       "      <td>1265.604375</td>\n",
       "      <td>-1.025054</td>\n",
       "      <td>-0.026953</td>\n",
       "      <td>-0.000283</td>\n",
       "    </tr>\n",
       "    <tr>\n",
       "      <th>50%</th>\n",
       "      <td>2950.00000</td>\n",
       "      <td>3853.738000</td>\n",
       "      <td>1.529642</td>\n",
       "      <td>0.001875</td>\n",
       "      <td>0.000053</td>\n",
       "    </tr>\n",
       "    <tr>\n",
       "      <th>75%</th>\n",
       "      <td>4425.00000</td>\n",
       "      <td>6038.486500</td>\n",
       "      <td>4.363100</td>\n",
       "      <td>0.027802</td>\n",
       "      <td>0.000378</td>\n",
       "    </tr>\n",
       "    <tr>\n",
       "      <th>max</th>\n",
       "      <td>5900.00000</td>\n",
       "      <td>11539.832500</td>\n",
       "      <td>12.892615</td>\n",
       "      <td>0.135134</td>\n",
       "      <td>0.002061</td>\n",
       "    </tr>\n",
       "  </tbody>\n",
       "</table>\n",
       "</div>"
      ],
      "text/plain": [
       "                X             Y       dydx     d2ydx2     d3ydx3\n",
       "count    60.00000     60.000000  60.000000  60.000000  60.000000\n",
       "mean   2950.00000   4403.391515   1.753209  -0.000161  -0.000016\n",
       "std    1746.42492   3304.649318   4.596023   0.056889   0.000886\n",
       "min       0.00000    874.311000 -12.414685  -0.190914  -0.002271\n",
       "25%    1475.00000   1265.604375  -1.025054  -0.026953  -0.000283\n",
       "50%    2950.00000   3853.738000   1.529642   0.001875   0.000053\n",
       "75%    4425.00000   6038.486500   4.363100   0.027802   0.000378\n",
       "max    5900.00000  11539.832500  12.892615   0.135134   0.002061"
      ]
     },
     "execution_count": 165,
     "metadata": {},
     "output_type": "execute_result"
    }
   ],
   "source": [
    "dn.describe()"
   ]
  },
  {
   "cell_type": "code",
   "execution_count": 184,
   "metadata": {},
   "outputs": [],
   "source": [
    "from sklearn.pipeline import make_pipeline\n",
    "from sklearn.linear_model import LinearRegression\n",
    "from sklearn.preprocessing import StandardScaler\n",
    "from sklearn.metrics import mean_squared_error\n",
    "from sklearn.preprocessing import PolynomialFeatures, StandardScaler\n",
    "from sklearn.model_selection import train_test_split\n",
    "\n",
    "lin = make_pipeline(\n",
    "    StandardScaler(),\n",
    "    LinearRegression()\n",
    ")\n",
    "\n",
    "model = make_pipeline(\n",
    "    StandardScaler(),\n",
    "    PolynomialFeatures(degree = 3),\n",
    "    LinearRegression()\n",
    ")"
   ]
  },
  {
   "cell_type": "code",
   "execution_count": 185,
   "metadata": {},
   "outputs": [],
   "source": [
    "x_train = dff[['X','dydx','d2ydx2']].iloc[4:]\n",
    "y_train = dff['Y'].iloc[4:]"
   ]
  },
  {
   "cell_type": "code",
   "execution_count": 186,
   "metadata": {},
   "outputs": [
    {
     "name": "stdout",
     "output_type": "stream",
     "text": [
      "1060.4610207185115\n",
      "4479.852921552436 [3181.7608116    52.68375582  -39.54330212]\n"
     ]
    }
   ],
   "source": [
    "lin.fit(x_train,y_train)\n",
    "mse = mean_squared_error(y_train, lin.predict(x_train))\n",
    "rmse = np.sqrt(mse)\n",
    "print(rmse)\n",
    "print(lin[1].intercept_,lin[1].coef_)"
   ]
  },
  {
   "cell_type": "code",
   "execution_count": 187,
   "metadata": {},
   "outputs": [
    {
     "name": "stdout",
     "output_type": "stream",
     "text": [
      "603.8593051565109\n",
      "[ 0.00000000e+00  3.18819890e+03  9.49425844e+01 -8.37195823e+01\n",
      "  1.00987155e+03 -2.48314282e+01  1.97214146e+01  6.86530817e+01\n",
      " -9.69640796e+01  6.94415352e+01  2.24616128e+00  9.94706749e+00\n",
      " -5.36618450e-01 -5.45776509e+01  8.09224539e+01 -6.20597394e+01\n",
      "  1.48428872e+00 -5.12452510e+00 -5.34734376e-01  3.72733209e+00]\n"
     ]
    }
   ],
   "source": [
    "model.fit(x_train, y_train)\n",
    "prediction = model.predict(x_train)\n",
    "\n",
    "mse = mean_squared_error(y_train, model.predict(x_train))\n",
    "rmse = np.sqrt(mse)\n",
    "print(rmse)\n",
    "print(model[2].coef_)"
   ]
  },
  {
   "cell_type": "code",
   "execution_count": 188,
   "metadata": {},
   "outputs": [
    {
     "data": {
      "text/plain": [
       "[<matplotlib.lines.Line2D at 0x24ee438b388>]"
      ]
     },
     "execution_count": 188,
     "metadata": {},
     "output_type": "execute_result"
    },
    {
     "data": {
      "image/png": "[encoded data removed]",
      "text/plain": [
       "<Figure size 432x288 with 1 Axes>"
      ]
     },
     "metadata": {
      "needs_background": "light"
     },
     "output_type": "display_data"
    }
   ],
   "source": [
    "plt.plot(dff['X'].iloc[4:],y_train)"
   ]
  },
  {
   "cell_type": "code",
   "execution_count": 189,
   "metadata": {},
   "outputs": [
    {
     "data": {
      "text/plain": [
       "[<matplotlib.lines.Line2D at 0x24ee546b788>]"
      ]
     },
     "execution_count": 189,
     "metadata": {},
     "output_type": "execute_result"
    },
    {
     "data": {
      "image/png": "[encoded data removed]",
      "text/plain": [
       "<Figure size 432x288 with 1 Axes>"
      ]
     },
     "metadata": {
      "needs_background": "light"
     },
     "output_type": "display_data"
    }
   ],
   "source": [
    "plt.plot(dff['X'].iloc[4:],lin.predict(x_train))"
   ]
  },
  {
   "cell_type": "code",
   "execution_count": 190,
   "metadata": {},
   "outputs": [
    {
     "data": {
      "text/plain": [
       "[<matplotlib.lines.Line2D at 0x24ee54d31c8>]"
      ]
     },
     "execution_count": 190,
     "metadata": {},
     "output_type": "execute_result"
    },
    {
     "data": {
      "image/png": "[encoded data removed]",
      "text/plain": [
       "<Figure size 432x288 with 1 Axes>"
      ]
     },
     "metadata": {
      "needs_background": "light"
     },
     "output_type": "display_data"
    }
   ],
   "source": [
    "plt.plot(dff['X'].iloc[4:],model.predict(x_train))"
   ]
  },
  {
   "cell_type": "code",
   "execution_count": 310,
   "metadata": {},
   "outputs": [],
   "source": [
    "\n",
    "lin = make_pipeline(\n",
    "    StandardScaler(),\n",
    "    LinearRegression()\n",
    ")\n",
    "\n",
    "model = make_pipeline(\n",
    "    StandardScaler(),\n",
    "    PolynomialFeatures(degree = 2),\n",
    "    LinearRegression()\n",
    ")\n",
    "\n",
    "\n",
    "dn = pd.DataFrame()\n",
    "x,y = ma(dff['Y'],30)\n",
    "\n",
    "d = -50\n",
    "\n",
    "dn['X'] = x[:d]\n",
    "dn['Y'] = y[:d]\n",
    "dn['dydx'] = dydx(list(dn['X']),list(dn['Y']))\n",
    "dn['d2ydx2'] = dydx(list(dn['X']),list(dn['dydx']))\n",
    "dn['d3ydx3'] = dydx(list(dn['X']),list(dn['d2ydx2']))\n",
    "\n",
    "dt = pd.DataFrame()\n",
    "dt['X'] = x[d:]\n",
    "dt['Y'] = y[d:]\n",
    "dt['dydx'] = dydx(list(dt['X']),list(dt['Y']))\n",
    "dt['d2ydx2'] = dydx(list(dt['X']),list(dt['dydx']))\n",
    "dt['d3ydx3'] = dydx(list(dt['X']),list(dt['d2ydx2']))"
   ]
  },
  {
   "cell_type": "code",
   "execution_count": 311,
   "metadata": {},
   "outputs": [
    {
     "name": "stdout",
     "output_type": "stream",
     "text": [
      "2637.868637283904 rmse linear\n",
      "2839.348684326711 [1710.9213798   219.29853175 -170.42060988]\n",
      "669.3648650322227 rmse poly\n",
      "[   0.         1618.16569383  404.42718303 -323.13136113  501.22767014\n",
      " -108.50117079   83.15663125   61.85172032  -94.17343468  106.25688955]\n"
     ]
    },
    {
     "data": {
      "text/plain": [
       "[<matplotlib.lines.Line2D at 0x24eeb7dbbc8>]"
      ]
     },
     "execution_count": 311,
     "metadata": {},
     "output_type": "execute_result"
    },
    {
     "data": {
      "image/png": "[encoded data removed]",
      "text/plain": [
       "<Figure size 432x288 with 1 Axes>"
      ]
     },
     "metadata": {
      "needs_background": "light"
     },
     "output_type": "display_data"
    }
   ],
   "source": [
    "x_train = dn[['X','dydx','d2ydx2','d3ydx3']]\n",
    "y_train = dn['Y']\n",
    "\n",
    "x_test = dt[['X','dydx','d2ydx2','d3ydx3']]\n",
    "y_test = dt['Y']\n",
    "\n",
    "\n",
    "x_train = dn[['X','dydx','d2ydx2']]\n",
    "y_train = dn['Y']\n",
    "\n",
    "x_test = dt[['X','dydx','d2ydx2']]\n",
    "y_test = dt['Y']\n",
    "\n",
    "\n",
    "lin.fit(x_train,y_train)\n",
    "mse = mean_squared_error(y_test, lin.predict(x_test))\n",
    "rmse = np.sqrt(mse)\n",
    "print(rmse,'rmse linear')\n",
    "print(lin[1].intercept_,lin[1].coef_)\n",
    "\n",
    "\n",
    "model.fit(x_train, y_train)\n",
    "prediction = model.predict(x_test)\n",
    "\n",
    "mse = mean_squared_error(y_test, model.predict(x_test))\n",
    "rmse = np.sqrt(mse)\n",
    "print(rmse,'rmse poly')\n",
    "print(model[2].coef_)\n",
    "\n",
    "plt.plot(dt['X'],dt['Y'],color='r')\n",
    "plt.plot(dt['X'],model.predict(x_test),color='g')\n",
    "#plt.plot(dn['X'],lin.predict(x_train),color='b')"
   ]
  },
  {
   "cell_type": "code",
   "execution_count": 312,
   "metadata": {},
   "outputs": [
    {
     "data": {
      "text/plain": [
       "[<matplotlib.lines.Line2D at 0x24eeb9a0188>]"
      ]
     },
     "execution_count": 312,
     "metadata": {},
     "output_type": "execute_result"
    },
    {
     "data": {
      "image/png": "[encoded data removed]",
      "text/plain": [
       "<Figure size 432x288 with 1 Axes>"
      ]
     },
     "metadata": {
      "needs_background": "light"
     },
     "output_type": "display_data"
    }
   ],
   "source": [
    "plt.plot(dn['X'],dn['Y'])\n",
    "plt.plot(dn['X'],model.predict(x_train))"
   ]
  },
  {
   "cell_type": "code",
   "execution_count": 313,
   "metadata": {},
   "outputs": [],
   "source": [
    "#plt.plot(dn['X'],dn['Y'])\n",
    "#plt.plot(dn['X'],lin.predict(x_train))"
   ]
  },
  {
   "cell_type": "code",
   "execution_count": 314,
   "metadata": {},
   "outputs": [
    {
     "data": {
      "text/plain": [
       "[<matplotlib.lines.Line2D at 0x24eeba1d608>]"
      ]
     },
     "execution_count": 314,
     "metadata": {},
     "output_type": "execute_result"
    },
    {
     "data": {
      "image/png": "[encoded data removed]",
      "text/plain": [
       "<Figure size 432x288 with 1 Axes>"
      ]
     },
     "metadata": {
      "needs_background": "light"
     },
     "output_type": "display_data"
    }
   ],
   "source": [
    "plt.plot(dt['X'],dt['Y'])\n",
    "plt.plot(dt['X'],model.predict(x_test))"
   ]
  },
  {
   "cell_type": "code",
   "execution_count": 315,
   "metadata": {},
   "outputs": [
    {
     "data": {
      "text/plain": [
       "[<matplotlib.lines.Line2D at 0x24eeba7da88>]"
      ]
     },
     "execution_count": 315,
     "metadata": {},
     "output_type": "execute_result"
    },
    {
     "data": {
      "image/png": "[encoded data removed]",
      "text/plain": [
       "<Figure size 432x288 with 1 Axes>"
      ]
     },
     "metadata": {
      "needs_background": "light"
     },
     "output_type": "display_data"
    }
   ],
   "source": [
    "plt.plot(dt['X'],dt['Y'])\n",
    "plt.plot(dt['X'],lin.predict(x_test))"
   ]
  },
  {
   "cell_type": "code",
   "execution_count": 316,
   "metadata": {},
   "outputs": [
    {
     "data": {
      "text/plain": [
       "[<matplotlib.lines.Line2D at 0x24eebaf0e48>]"
      ]
     },
     "execution_count": 316,
     "metadata": {},
     "output_type": "execute_result"
    },
    {
     "data": {
      "image/png": "[encoded data removed]",
      "text/plain": [
       "<Figure size 432x288 with 1 Axes>"
      ]
     },
     "metadata": {
      "needs_background": "light"
     },
     "output_type": "display_data"
    }
   ],
   "source": [
    "plt.plot(dt['X'],dt['dydx'])"
   ]
  },
  {
   "cell_type": "code",
   "execution_count": null,
   "metadata": {},
   "outputs": [],
   "source": []
  }
 ],
 "metadata": {
  "kernelspec": {
   "display_name": "Python 3.7 (tensorflow)",
   "language": "python",
   "name": "tensorflow"
  },
  "language_info": {
   "codemirror_mode": {
    "name": "ipython",
    "version": 3
   },
   "file_extension": ".py",
   "mimetype": "text/x-python",
   "name": "python",
   "nbconvert_exporter": "python",
   "pygments_lexer": "ipython3",
   "version": "3.7.6"
  }
 },
 "nbformat": 4,
 "nbformat_minor": 4
}
