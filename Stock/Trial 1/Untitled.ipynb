{
 "cells": [
  {
   "cell_type": "code",
   "execution_count": 49,
   "metadata": {},
   "outputs": [],
   "source": [
    "import pandas as pd\n",
    "import seaborn as sns\n",
    "import numpy as np\n",
    "from scipy import stats"
   ]
  },
  {
   "cell_type": "code",
   "execution_count": 50,
   "metadata": {},
   "outputs": [],
   "source": [
    "df = pd.read_csv('NIFTY 50_Data_Nov3_95_Mar9_2020.csv')"
   ]
  },
  {
   "cell_type": "code",
   "execution_count": 51,
   "metadata": {},
   "outputs": [
    {
     "data": {
      "text/html": [
       "<div>\n",
       "<style scoped>\n",
       "    .dataframe tbody tr th:only-of-type {\n",
       "        vertical-align: middle;\n",
       "    }\n",
       "\n",
       "    .dataframe tbody tr th {\n",
       "        vertical-align: top;\n",
       "    }\n",
       "\n",
       "    .dataframe thead th {\n",
       "        text-align: right;\n",
       "    }\n",
       "</style>\n",
       "<table border=\"1\" class=\"dataframe\">\n",
       "  <thead>\n",
       "    <tr style=\"text-align: right;\">\n",
       "      <th></th>\n",
       "      <th>Date</th>\n",
       "      <th>Open</th>\n",
       "      <th>High</th>\n",
       "      <th>Low</th>\n",
       "      <th>Close</th>\n",
       "    </tr>\n",
       "  </thead>\n",
       "  <tbody>\n",
       "    <tr>\n",
       "      <th>0</th>\n",
       "      <td>06 Mar 2020</td>\n",
       "      <td>10942.65</td>\n",
       "      <td>11035.10</td>\n",
       "      <td>10827.40</td>\n",
       "      <td>10989.45</td>\n",
       "    </tr>\n",
       "    <tr>\n",
       "      <th>1</th>\n",
       "      <td>05 Mar 2020</td>\n",
       "      <td>11306.05</td>\n",
       "      <td>11389.50</td>\n",
       "      <td>11244.60</td>\n",
       "      <td>11269.00</td>\n",
       "    </tr>\n",
       "    <tr>\n",
       "      <th>2</th>\n",
       "      <td>04 Mar 2020</td>\n",
       "      <td>11351.35</td>\n",
       "      <td>11356.60</td>\n",
       "      <td>11082.15</td>\n",
       "      <td>11251.00</td>\n",
       "    </tr>\n",
       "    <tr>\n",
       "      <th>3</th>\n",
       "      <td>03 Mar 2020</td>\n",
       "      <td>11217.55</td>\n",
       "      <td>11342.25</td>\n",
       "      <td>11152.55</td>\n",
       "      <td>11303.30</td>\n",
       "    </tr>\n",
       "    <tr>\n",
       "      <th>4</th>\n",
       "      <td>02 Mar 2020</td>\n",
       "      <td>11387.35</td>\n",
       "      <td>11433.00</td>\n",
       "      <td>11036.25</td>\n",
       "      <td>11132.75</td>\n",
       "    </tr>\n",
       "  </tbody>\n",
       "</table>\n",
       "</div>"
      ],
      "text/plain": [
       "          Date      Open      High       Low     Close\n",
       "0  06 Mar 2020  10942.65  11035.10  10827.40  10989.45\n",
       "1  05 Mar 2020  11306.05  11389.50  11244.60  11269.00\n",
       "2  04 Mar 2020  11351.35  11356.60  11082.15  11251.00\n",
       "3  03 Mar 2020  11217.55  11342.25  11152.55  11303.30\n",
       "4  02 Mar 2020  11387.35  11433.00  11036.25  11132.75"
      ]
     },
     "execution_count": 51,
     "metadata": {},
     "output_type": "execute_result"
    }
   ],
   "source": [
    "df.head()"
   ]
  },
  {
   "cell_type": "code",
   "execution_count": 52,
   "metadata": {},
   "outputs": [
    {
     "data": {
      "text/html": [
       "<div>\n",
       "<style scoped>\n",
       "    .dataframe tbody tr th:only-of-type {\n",
       "        vertical-align: middle;\n",
       "    }\n",
       "\n",
       "    .dataframe tbody tr th {\n",
       "        vertical-align: top;\n",
       "    }\n",
       "\n",
       "    .dataframe thead th {\n",
       "        text-align: right;\n",
       "    }\n",
       "</style>\n",
       "<table border=\"1\" class=\"dataframe\">\n",
       "  <thead>\n",
       "    <tr style=\"text-align: right;\">\n",
       "      <th></th>\n",
       "      <th>Open</th>\n",
       "      <th>High</th>\n",
       "      <th>Low</th>\n",
       "      <th>Close</th>\n",
       "    </tr>\n",
       "  </thead>\n",
       "  <tbody>\n",
       "    <tr>\n",
       "      <th>count</th>\n",
       "      <td>6059.000000</td>\n",
       "      <td>6059.000000</td>\n",
       "      <td>6059.000000</td>\n",
       "      <td>6060.000000</td>\n",
       "    </tr>\n",
       "    <tr>\n",
       "      <th>mean</th>\n",
       "      <td>4479.821337</td>\n",
       "      <td>4509.931027</td>\n",
       "      <td>4444.381845</td>\n",
       "      <td>4476.958683</td>\n",
       "    </tr>\n",
       "    <tr>\n",
       "      <th>std</th>\n",
       "      <td>3358.979552</td>\n",
       "      <td>3369.696916</td>\n",
       "      <td>3340.957473</td>\n",
       "      <td>3355.215287</td>\n",
       "    </tr>\n",
       "    <tr>\n",
       "      <th>min</th>\n",
       "      <td>786.370000</td>\n",
       "      <td>805.820000</td>\n",
       "      <td>775.430000</td>\n",
       "      <td>788.150000</td>\n",
       "    </tr>\n",
       "    <tr>\n",
       "      <th>25%</th>\n",
       "      <td>1216.000000</td>\n",
       "      <td>1231.650000</td>\n",
       "      <td>1202.700000</td>\n",
       "      <td>1215.725000</td>\n",
       "    </tr>\n",
       "    <tr>\n",
       "      <th>50%</th>\n",
       "      <td>4092.050000</td>\n",
       "      <td>4150.450000</td>\n",
       "      <td>4058.350000</td>\n",
       "      <td>4091.200000</td>\n",
       "    </tr>\n",
       "    <tr>\n",
       "      <th>75%</th>\n",
       "      <td>6262.100000</td>\n",
       "      <td>6298.300000</td>\n",
       "      <td>6222.100000</td>\n",
       "      <td>6262.925000</td>\n",
       "    </tr>\n",
       "    <tr>\n",
       "      <th>max</th>\n",
       "      <td>12430.500000</td>\n",
       "      <td>12430.500000</td>\n",
       "      <td>12321.400000</td>\n",
       "      <td>12362.300000</td>\n",
       "    </tr>\n",
       "  </tbody>\n",
       "</table>\n",
       "</div>"
      ],
      "text/plain": [
       "               Open          High           Low         Close\n",
       "count   6059.000000   6059.000000   6059.000000   6060.000000\n",
       "mean    4479.821337   4509.931027   4444.381845   4476.958683\n",
       "std     3358.979552   3369.696916   3340.957473   3355.215287\n",
       "min      786.370000    805.820000    775.430000    788.150000\n",
       "25%     1216.000000   1231.650000   1202.700000   1215.725000\n",
       "50%     4092.050000   4150.450000   4058.350000   4091.200000\n",
       "75%     6262.100000   6298.300000   6222.100000   6262.925000\n",
       "max    12430.500000  12430.500000  12321.400000  12362.300000"
      ]
     },
     "execution_count": 52,
     "metadata": {},
     "output_type": "execute_result"
    }
   ],
   "source": [
    "df.describe()"
   ]
  },
  {
   "cell_type": "code",
   "execution_count": 55,
   "metadata": {},
   "outputs": [],
   "source": [
    "df.drop(5811,axis=0,inplace=True)"
   ]
  },
  {
   "cell_type": "code",
   "execution_count": 56,
   "metadata": {},
   "outputs": [
    {
     "data": {
      "text/html": [
       "<div>\n",
       "<style scoped>\n",
       "    .dataframe tbody tr th:only-of-type {\n",
       "        vertical-align: middle;\n",
       "    }\n",
       "\n",
       "    .dataframe tbody tr th {\n",
       "        vertical-align: top;\n",
       "    }\n",
       "\n",
       "    .dataframe thead th {\n",
       "        text-align: right;\n",
       "    }\n",
       "</style>\n",
       "<table border=\"1\" class=\"dataframe\">\n",
       "  <thead>\n",
       "    <tr style=\"text-align: right;\">\n",
       "      <th></th>\n",
       "      <th>Open</th>\n",
       "      <th>High</th>\n",
       "      <th>Low</th>\n",
       "      <th>Close</th>\n",
       "    </tr>\n",
       "  </thead>\n",
       "  <tbody>\n",
       "    <tr>\n",
       "      <th>count</th>\n",
       "      <td>6059.000000</td>\n",
       "      <td>6059.000000</td>\n",
       "      <td>6059.000000</td>\n",
       "      <td>6059.000000</td>\n",
       "    </tr>\n",
       "    <tr>\n",
       "      <th>mean</th>\n",
       "      <td>4479.821337</td>\n",
       "      <td>4509.931027</td>\n",
       "      <td>4444.381845</td>\n",
       "      <td>4477.544247</td>\n",
       "    </tr>\n",
       "    <tr>\n",
       "      <th>std</th>\n",
       "      <td>3358.979552</td>\n",
       "      <td>3369.696916</td>\n",
       "      <td>3340.957473</td>\n",
       "      <td>3355.182511</td>\n",
       "    </tr>\n",
       "    <tr>\n",
       "      <th>min</th>\n",
       "      <td>786.370000</td>\n",
       "      <td>805.820000</td>\n",
       "      <td>775.430000</td>\n",
       "      <td>788.150000</td>\n",
       "    </tr>\n",
       "    <tr>\n",
       "      <th>25%</th>\n",
       "      <td>1216.000000</td>\n",
       "      <td>1231.650000</td>\n",
       "      <td>1202.700000</td>\n",
       "      <td>1216.050000</td>\n",
       "    </tr>\n",
       "    <tr>\n",
       "      <th>50%</th>\n",
       "      <td>4092.050000</td>\n",
       "      <td>4150.450000</td>\n",
       "      <td>4058.350000</td>\n",
       "      <td>4092.250000</td>\n",
       "    </tr>\n",
       "    <tr>\n",
       "      <th>75%</th>\n",
       "      <td>6262.100000</td>\n",
       "      <td>6298.300000</td>\n",
       "      <td>6222.100000</td>\n",
       "      <td>6264.200000</td>\n",
       "    </tr>\n",
       "    <tr>\n",
       "      <th>max</th>\n",
       "      <td>12430.500000</td>\n",
       "      <td>12430.500000</td>\n",
       "      <td>12321.400000</td>\n",
       "      <td>12362.300000</td>\n",
       "    </tr>\n",
       "  </tbody>\n",
       "</table>\n",
       "</div>"
      ],
      "text/plain": [
       "               Open          High           Low         Close\n",
       "count   6059.000000   6059.000000   6059.000000   6059.000000\n",
       "mean    4479.821337   4509.931027   4444.381845   4477.544247\n",
       "std     3358.979552   3369.696916   3340.957473   3355.182511\n",
       "min      786.370000    805.820000    775.430000    788.150000\n",
       "25%     1216.000000   1231.650000   1202.700000   1216.050000\n",
       "50%     4092.050000   4150.450000   4058.350000   4092.250000\n",
       "75%     6262.100000   6298.300000   6222.100000   6264.200000\n",
       "max    12430.500000  12430.500000  12321.400000  12362.300000"
      ]
     },
     "execution_count": 56,
     "metadata": {},
     "output_type": "execute_result"
    }
   ],
   "source": [
    "df.describe()"
   ]
  },
  {
   "cell_type": "code",
   "execution_count": 57,
   "metadata": {},
   "outputs": [],
   "source": [
    "def t_score(n1,n2,m1,m2,s1,s2):\n",
    "    num = m1 - m2\n",
    "    a = s1**2 / n1\n",
    "    b = s2**2 / n2\n",
    "    den = (a+b)**.5\n",
    "    dof = n1 + n2 - 2\n",
    "    t = num/den\n",
    "    stat = stats.t.cdf(t,df=dof)\n",
    "    return t\n",
    "\n",
    "def t_test_2_mean(df,column,target):\n",
    "    Yi = list(df[column].value_counts().index)\n",
    "    Ni = list(df[column].value_counts())\n",
    "    \n",
    "    n1 = Ni[0]\n",
    "    n2 = Ni[1]\n",
    "    \n",
    "    y1 = Yi[0]\n",
    "    y2 = Yi[1]\n",
    "\n",
    "    m1 = df.groupby(column).mean()[target][y1]\n",
    "    m2 = df.groupby(column).mean()[target][y2]\n",
    "\n",
    "    s1 = df.groupby(column).std()[target][y1]\n",
    "    s2 = df.groupby(column).std()[target][y2]\n",
    "    \n",
    "    return t_score(n1,n2,m1,m2,s1,s2)\n",
    "    \n",
    "def chisquare_total_mean(df,column,target):\n",
    "    a = np.array(df.groupby(column).mean()[target])\n",
    "    sa = np.array(df.groupby(column).std()[target])\n",
    "    e = np.mean(a)*np.ones(len(df[column].value_counts()))\n",
    "    return stats.chisquare(a,e)   "
   ]
  },
  {
   "cell_type": "code",
   "execution_count": 58,
   "metadata": {},
   "outputs": [
    {
     "data": {
      "text/plain": [
       "<matplotlib.axes._subplots.AxesSubplot at 0x1af0a431c88>"
      ]
     },
     "execution_count": 58,
     "metadata": {},
     "output_type": "execute_result"
    },
    {
     "data": {
      "image/png": "[encoded data removed]",
      "text/plain": [
       "<Figure size 432x288 with 1 Axes>"
      ]
     },
     "metadata": {
      "needs_background": "light"
     },
     "output_type": "display_data"
    }
   ],
   "source": [
    "sns.distplot(df['Open'])"
   ]
  },
  {
   "cell_type": "code",
   "execution_count": 59,
   "metadata": {},
   "outputs": [
    {
     "data": {
      "text/html": [
       "<div>\n",
       "<style scoped>\n",
       "    .dataframe tbody tr th:only-of-type {\n",
       "        vertical-align: middle;\n",
       "    }\n",
       "\n",
       "    .dataframe tbody tr th {\n",
       "        vertical-align: top;\n",
       "    }\n",
       "\n",
       "    .dataframe thead th {\n",
       "        text-align: right;\n",
       "    }\n",
       "</style>\n",
       "<table border=\"1\" class=\"dataframe\">\n",
       "  <thead>\n",
       "    <tr style=\"text-align: right;\">\n",
       "      <th></th>\n",
       "      <th>Date</th>\n",
       "      <th>Open</th>\n",
       "      <th>High</th>\n",
       "      <th>Low</th>\n",
       "      <th>Close</th>\n",
       "    </tr>\n",
       "  </thead>\n",
       "  <tbody>\n",
       "    <tr>\n",
       "      <th>0</th>\n",
       "      <td>06 Mar 2020</td>\n",
       "      <td>10942.65</td>\n",
       "      <td>11035.10</td>\n",
       "      <td>10827.40</td>\n",
       "      <td>10989.45</td>\n",
       "    </tr>\n",
       "    <tr>\n",
       "      <th>1</th>\n",
       "      <td>05 Mar 2020</td>\n",
       "      <td>11306.05</td>\n",
       "      <td>11389.50</td>\n",
       "      <td>11244.60</td>\n",
       "      <td>11269.00</td>\n",
       "    </tr>\n",
       "    <tr>\n",
       "      <th>2</th>\n",
       "      <td>04 Mar 2020</td>\n",
       "      <td>11351.35</td>\n",
       "      <td>11356.60</td>\n",
       "      <td>11082.15</td>\n",
       "      <td>11251.00</td>\n",
       "    </tr>\n",
       "    <tr>\n",
       "      <th>3</th>\n",
       "      <td>03 Mar 2020</td>\n",
       "      <td>11217.55</td>\n",
       "      <td>11342.25</td>\n",
       "      <td>11152.55</td>\n",
       "      <td>11303.30</td>\n",
       "    </tr>\n",
       "    <tr>\n",
       "      <th>4</th>\n",
       "      <td>02 Mar 2020</td>\n",
       "      <td>11387.35</td>\n",
       "      <td>11433.00</td>\n",
       "      <td>11036.25</td>\n",
       "      <td>11132.75</td>\n",
       "    </tr>\n",
       "  </tbody>\n",
       "</table>\n",
       "</div>"
      ],
      "text/plain": [
       "          Date      Open      High       Low     Close\n",
       "0  06 Mar 2020  10942.65  11035.10  10827.40  10989.45\n",
       "1  05 Mar 2020  11306.05  11389.50  11244.60  11269.00\n",
       "2  04 Mar 2020  11351.35  11356.60  11082.15  11251.00\n",
       "3  03 Mar 2020  11217.55  11342.25  11152.55  11303.30\n",
       "4  02 Mar 2020  11387.35  11433.00  11036.25  11132.75"
      ]
     },
     "execution_count": 59,
     "metadata": {},
     "output_type": "execute_result"
    }
   ],
   "source": [
    "df.head()"
   ]
  },
  {
   "cell_type": "code",
   "execution_count": 79,
   "metadata": {},
   "outputs": [],
   "source": [
    "def cor(df,col,t):\n",
    "    n = len(df)\n",
    "    df1 = list(df[col][t:])\n",
    "    df2 = list(df[col][:n-t])\n",
    "    return pearsonr(df1,df2)\n",
    "    "
   ]
  },
  {
   "cell_type": "code",
   "execution_count": 80,
   "metadata": {},
   "outputs": [],
   "source": [
    "import scipy\n",
    "from scipy.stats.stats import pearsonr"
   ]
  },
  {
   "cell_type": "code",
   "execution_count": 81,
   "metadata": {},
   "outputs": [
    {
     "data": {
      "text/plain": [
       "(0.9996584338297239, 0.0)"
      ]
     },
     "execution_count": 81,
     "metadata": {},
     "output_type": "execute_result"
    }
   ],
   "source": [
    "cor(df,'Open',2)"
   ]
  },
  {
   "cell_type": "code",
   "execution_count": 110,
   "metadata": {},
   "outputs": [
    {
     "data": {
      "text/plain": [
       "[<matplotlib.lines.Line2D at 0x1af0ede0f08>]"
      ]
     },
     "execution_count": 110,
     "metadata": {},
     "output_type": "execute_result"
    },
    {
     "data": {
      "image/png": "[encoded data removed]",
      "text/plain": [
       "<Figure size 720x576 with 1 Axes>"
      ]
     },
     "metadata": {
      "needs_background": "light"
     },
     "output_type": "display_data"
    }
   ],
   "source": [
    "C = []\n",
    "for i in range(1,len(df)-2):\n",
    "    cn,cnn = cor(df,'Open',i)\n",
    "    C.append(cn)\n",
    "plt.figure(figsize=(10,8))\n",
    "plt.plot(C)\n"
   ]
  },
  {
   "cell_type": "code",
   "execution_count": 127,
   "metadata": {},
   "outputs": [
    {
     "data": {
      "text/plain": [
       "[-0.6448637083793518,\n",
       " -0.6547055812743985,\n",
       " -0.6557255642530055,\n",
       " -0.6213891104050759,\n",
       " -0.566877859881408,\n",
       " -0.4884806457009052]"
      ]
     },
     "execution_count": 127,
     "metadata": {},
     "output_type": "execute_result"
    }
   ],
   "source": [
    "C[5982:5988]"
   ]
  },
  {
   "cell_type": "code",
   "execution_count": 91,
   "metadata": {},
   "outputs": [],
   "source": [
    "import matplotlib.pyplot as plt\n",
    "import statsmodels.api as sm\n",
    "from statsmodels.graphics.tsaplots import plot_acf"
   ]
  },
  {
   "cell_type": "code",
   "execution_count": 92,
   "metadata": {},
   "outputs": [],
   "source": [
    "df['Date'] = pd.to_datetime(df['Date'])"
   ]
  },
  {
   "cell_type": "code",
   "execution_count": 93,
   "metadata": {},
   "outputs": [
    {
     "data": {
      "text/html": [
       "<div>\n",
       "<style scoped>\n",
       "    .dataframe tbody tr th:only-of-type {\n",
       "        vertical-align: middle;\n",
       "    }\n",
       "\n",
       "    .dataframe tbody tr th {\n",
       "        vertical-align: top;\n",
       "    }\n",
       "\n",
       "    .dataframe thead th {\n",
       "        text-align: right;\n",
       "    }\n",
       "</style>\n",
       "<table border=\"1\" class=\"dataframe\">\n",
       "  <thead>\n",
       "    <tr style=\"text-align: right;\">\n",
       "      <th></th>\n",
       "      <th>Open</th>\n",
       "      <th>High</th>\n",
       "      <th>Low</th>\n",
       "      <th>Close</th>\n",
       "    </tr>\n",
       "  </thead>\n",
       "  <tbody>\n",
       "    <tr>\n",
       "      <th>count</th>\n",
       "      <td>6059.000000</td>\n",
       "      <td>6059.000000</td>\n",
       "      <td>6059.000000</td>\n",
       "      <td>6059.000000</td>\n",
       "    </tr>\n",
       "    <tr>\n",
       "      <th>mean</th>\n",
       "      <td>4479.821337</td>\n",
       "      <td>4509.931027</td>\n",
       "      <td>4444.381845</td>\n",
       "      <td>4477.544247</td>\n",
       "    </tr>\n",
       "    <tr>\n",
       "      <th>std</th>\n",
       "      <td>3358.979552</td>\n",
       "      <td>3369.696916</td>\n",
       "      <td>3340.957473</td>\n",
       "      <td>3355.182511</td>\n",
       "    </tr>\n",
       "    <tr>\n",
       "      <th>min</th>\n",
       "      <td>786.370000</td>\n",
       "      <td>805.820000</td>\n",
       "      <td>775.430000</td>\n",
       "      <td>788.150000</td>\n",
       "    </tr>\n",
       "    <tr>\n",
       "      <th>25%</th>\n",
       "      <td>1216.000000</td>\n",
       "      <td>1231.650000</td>\n",
       "      <td>1202.700000</td>\n",
       "      <td>1216.050000</td>\n",
       "    </tr>\n",
       "    <tr>\n",
       "      <th>50%</th>\n",
       "      <td>4092.050000</td>\n",
       "      <td>4150.450000</td>\n",
       "      <td>4058.350000</td>\n",
       "      <td>4092.250000</td>\n",
       "    </tr>\n",
       "    <tr>\n",
       "      <th>75%</th>\n",
       "      <td>6262.100000</td>\n",
       "      <td>6298.300000</td>\n",
       "      <td>6222.100000</td>\n",
       "      <td>6264.200000</td>\n",
       "    </tr>\n",
       "    <tr>\n",
       "      <th>max</th>\n",
       "      <td>12430.500000</td>\n",
       "      <td>12430.500000</td>\n",
       "      <td>12321.400000</td>\n",
       "      <td>12362.300000</td>\n",
       "    </tr>\n",
       "  </tbody>\n",
       "</table>\n",
       "</div>"
      ],
      "text/plain": [
       "               Open          High           Low         Close\n",
       "count   6059.000000   6059.000000   6059.000000   6059.000000\n",
       "mean    4479.821337   4509.931027   4444.381845   4477.544247\n",
       "std     3358.979552   3369.696916   3340.957473   3355.182511\n",
       "min      786.370000    805.820000    775.430000    788.150000\n",
       "25%     1216.000000   1231.650000   1202.700000   1216.050000\n",
       "50%     4092.050000   4150.450000   4058.350000   4092.250000\n",
       "75%     6262.100000   6298.300000   6222.100000   6264.200000\n",
       "max    12430.500000  12430.500000  12321.400000  12362.300000"
      ]
     },
     "execution_count": 93,
     "metadata": {},
     "output_type": "execute_result"
    }
   ],
   "source": [
    "df.describe()"
   ]
  },
  {
   "cell_type": "code",
   "execution_count": 97,
   "metadata": {},
   "outputs": [
    {
     "data": {
      "text/plain": [
       "[<matplotlib.lines.Line2D at 0x1af0e7373c8>]"
      ]
     },
     "execution_count": 97,
     "metadata": {},
     "output_type": "execute_result"
    },
    {
     "data": {
      "image/png": "[encoded data removed]",
      "text/plain": [
       "<Figure size 432x288 with 1 Axes>"
      ]
     },
     "metadata": {
      "needs_background": "light"
     },
     "output_type": "display_data"
    }
   ],
   "source": [
    "plt.plot(df['Date'],df['Open'])"
   ]
  },
  {
   "cell_type": "code",
   "execution_count": 100,
   "metadata": {},
   "outputs": [
    {
     "data": {
      "image/png": "[encoded data removed]",
      "text/plain": [
       "<Figure size 432x288 with 1 Axes>"
      ]
     },
     "execution_count": 100,
     "metadata": {},
     "output_type": "execute_result"
    },
    {
     "data": {
      "text/plain": [
       "<Figure size 720x576 with 0 Axes>"
      ]
     },
     "metadata": {},
     "output_type": "display_data"
    },
    {
     "data": {
      "image/png": "[encoded data removed]",
      "text/plain": [
       "<Figure size 432x288 with 1 Axes>"
      ]
     },
     "metadata": {
      "needs_background": "light"
     },
     "output_type": "display_data"
    }
   ],
   "source": [
    "plt.figure(figsize=(10,8))\n",
    "sm.graphics.tsa.plot_acf(df['Open'].values.squeeze(), lags=10)"
   ]
  },
  {
   "cell_type": "code",
   "execution_count": 104,
   "metadata": {},
   "outputs": [
    {
     "data": {
      "image/png": "[encoded data removed]",
      "text/plain": [
       "<Figure size 432x288 with 1 Axes>"
      ]
     },
     "execution_count": 104,
     "metadata": {},
     "output_type": "execute_result"
    },
    {
     "data": {
      "image/png": "[encoded data removed]",
      "text/plain": [
       "<Figure size 432x288 with 1 Axes>"
      ]
     },
     "metadata": {
      "needs_background": "light"
     },
     "output_type": "display_data"
    }
   ],
   "source": [
    "plot_acf(df['Low'],lags = 10)"
   ]
  },
  {
   "cell_type": "code",
   "execution_count": null,
   "metadata": {},
   "outputs": [],
   "source": []
  }
 ],
 "metadata": {
  "kernelspec": {
   "display_name": "Python 3.7 (tensorflow)",
   "language": "python",
   "name": "tensorflow"
  },
  "language_info": {
   "codemirror_mode": {
    "name": "ipython",
    "version": 3
   },
   "file_extension": ".py",
   "mimetype": "text/x-python",
   "name": "python",
   "nbconvert_exporter": "python",
   "pygments_lexer": "ipython3",
   "version": "3.7.6"
  }
 },
 "nbformat": 4,
 "nbformat_minor": 4
}
