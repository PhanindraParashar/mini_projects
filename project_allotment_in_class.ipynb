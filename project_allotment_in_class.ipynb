{
 "cells": [
  {
   "cell_type": "code",
   "execution_count": 1,
   "metadata": {},
   "outputs": [],
   "source": [
    "import numpy as np\n",
    "import random\n",
    "from random import randint"
   ]
  },
  {
   "cell_type": "code",
   "execution_count": 19,
   "metadata": {},
   "outputs": [
    {
     "name": "stdout",
     "output_type": "stream",
     "text": [
      "Phanindra\n",
      "Prem\n",
      "Akshay\n",
      "Pulkit\n"
     ]
    }
   ],
   "source": [
    "Names = [\"Phanindra\",\"Prem\",\"Phani Kiran\",\"Vyas\",\"Pulkit\",\"Gaurav\",\"Omkar\",\"Akshay\"]\n",
    "\n",
    "J = []\n",
    "n = int(len(Names)/2)\n",
    "while len(J) < n:\n",
    "    j = randint(0,len(Names)-1)\n",
    "    if j not in J:\n",
    "        J.append(j)\n",
    "        \n",
    "for i in J:\n",
    "    print(Names[i])"
   ]
  },
  {
   "cell_type": "code",
   "execution_count": null,
   "metadata": {},
   "outputs": [],
   "source": []
  },
  {
   "cell_type": "code",
   "execution_count": null,
   "metadata": {},
   "outputs": [],
   "source": []
  }
 ],
 "metadata": {
  "kernelspec": {
   "display_name": "Python 3",
   "language": "python",
   "name": "python3"
  },
  "language_info": {
   "codemirror_mode": {
    "name": "ipython",
    "version": 3
   },
   "file_extension": ".py",
   "mimetype": "text/x-python",
   "name": "python",
   "nbconvert_exporter": "python",
   "pygments_lexer": "ipython3",
   "version": "3.7.3"
  }
 },
 "nbformat": 4,
 "nbformat_minor": 2
}
