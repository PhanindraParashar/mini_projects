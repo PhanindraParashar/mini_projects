{
 "cells": [
  {
   "cell_type": "code",
   "execution_count": 1,
   "metadata": {},
   "outputs": [],
   "source": [
    "from gurobipy import*"
   ]
  },
  {
   "cell_type": "code",
   "execution_count": 58,
   "metadata": {},
   "outputs": [],
   "source": [
    "def minimum_bins(size,capacity):\n",
    "    model = Model('Minimum Bins Uniform Size')\n",
    "    \n",
    "    bins = list(range(1,len(size)+1))\n",
    "    x = {}\n",
    "    y = {}\n",
    "    for j in bins:\n",
    "        x[j] = {}\n",
    "        y[j] = model.addVar(vtype = 'b')\n",
    "        model.update()\n",
    "        for i in range(len(size)):\n",
    "            x[j][i] = model.addVar(vtype = 'b')\n",
    "    \n",
    "    \n",
    "    model.update()\n",
    "    \n",
    "    for j in bins:\n",
    "        model.addConstr(quicksum([x[j][i]*size[i] for i in range(len(size))]) <= capacity*y[j])\n",
    "        #for i in range(len(size)):\n",
    "            #x[j][i] <= y[j]\n",
    "    \n",
    "    \n",
    "    for i in range(len(size)):\n",
    "        model.addConstr(quicksum([x[j][i] for j in bins]) == 1)\n",
    "    \n",
    "\n",
    "    \n",
    "    model.setObjective(quicksum([y[j] for j in bins]),GRB.MINIMIZE)\n",
    "    model.optimize()\n",
    "    \n",
    "    d = {}\n",
    "    for j in bins:\n",
    "        items = []\n",
    "        for i in range(len(items)):\n",
    "            if x[j][i].x == 1:\n",
    "                items.append(i)\n",
    "        d[j] = items\n",
    "    \n",
    "    min_bins = model.ObjVal\n",
    "    return d,min_bins,x,y\n",
    "    \n",
    "    "
   ]
  },
  {
   "cell_type": "code",
   "execution_count": 59,
   "metadata": {},
   "outputs": [
    {
     "name": "stdout",
     "output_type": "stream",
     "text": [
      "Optimize a model with 20 rows, 110 columns and 210 nonzeros\n",
      "Variable types: 0 continuous, 110 integer (110 binary)\n",
      "Coefficient statistics:\n",
      "  Matrix range     [1e+00, 2e+01]\n",
      "  Objective range  [1e+00, 1e+00]\n",
      "  Bounds range     [1e+00, 1e+00]\n",
      "  RHS range        [1e+00, 1e+00]\n",
      "Found heuristic solution: objective 6.0000000\n",
      "Presolve time: 0.00s\n",
      "Presolved: 20 rows, 110 columns, 210 nonzeros\n",
      "Variable types: 0 continuous, 110 integer (110 binary)\n",
      "\n",
      "Root relaxation: objective 2.619048e+00, 44 iterations, 0.00 seconds\n",
      "\n",
      "    Nodes    |    Current Node    |     Objective Bounds      |     Work\n",
      " Expl Unexpl |  Obj  Depth IntInf | Incumbent    BestBd   Gap | It/Node Time\n",
      "\n",
      "     0     0    2.61905    0    6    6.00000    2.61905  56.3%     -    0s\n",
      "H    0     0                       3.0000000    2.61905  12.7%     -    0s\n",
      "\n",
      "Explored 1 nodes (44 simplex iterations) in 0.03 seconds\n",
      "Thread count was 8 (of 8 available processors)\n",
      "\n",
      "Solution count 2: 3 6 \n",
      "\n",
      "Optimal solution found (tolerance 1.00e-04)\n",
      "Best objective 3.000000000000e+00, best bound 3.000000000000e+00, gap 0.0000%\n"
     ]
    }
   ],
   "source": [
    "d,m,x,y = minimum_bins([1,2,3,4,5,6,7,8,9,10],capacity=21)"
   ]
  },
  {
   "cell_type": "code",
   "execution_count": 60,
   "metadata": {},
   "outputs": [
    {
     "data": {
      "text/plain": [
       "{1: [], 2: [], 3: [], 4: [], 5: [], 6: [], 7: [], 8: [], 9: [], 10: []}"
      ]
     },
     "execution_count": 60,
     "metadata": {},
     "output_type": "execute_result"
    }
   ],
   "source": [
    "d"
   ]
  },
  {
   "cell_type": "code",
   "execution_count": 61,
   "metadata": {},
   "outputs": [
    {
     "ename": "GurobiError",
     "evalue": "Variable has not yet been added to the model",
     "output_type": "error",
     "traceback": [
      "\u001b[1;31m---------------------------------------------------------------------------\u001b[0m",
      "\u001b[1;31mGurobiError\u001b[0m                               Traceback (most recent call last)",
      "\u001b[1;32m<ipython-input-61-387523d53e34>\u001b[0m in \u001b[0;36m<module>\u001b[1;34m\u001b[0m\n\u001b[1;32m----> 1\u001b[1;33m \u001b[0mx\u001b[0m\u001b[1;33m[\u001b[0m\u001b[1;36m1\u001b[0m\u001b[1;33m]\u001b[0m\u001b[1;33m[\u001b[0m\u001b[1;36m1\u001b[0m\u001b[1;33m]\u001b[0m\u001b[1;33m.\u001b[0m\u001b[0mx\u001b[0m\u001b[1;33m\u001b[0m\u001b[1;33m\u001b[0m\u001b[0m\n\u001b[0m",
      "\u001b[1;32mvar.pxi\u001b[0m in \u001b[0;36mgurobipy.Var.__getattr__\u001b[1;34m()\u001b[0m\n",
      "\u001b[1;32mvar.pxi\u001b[0m in \u001b[0;36mgurobipy.Var.getAttr\u001b[1;34m()\u001b[0m\n",
      "\u001b[1;31mGurobiError\u001b[0m: Variable has not yet been added to the model"
     ]
    }
   ],
   "source": [
    "x[1][1].x"
   ]
  },
  {
   "cell_type": "code",
   "execution_count": null,
   "metadata": {},
   "outputs": [],
   "source": []
  }
 ],
 "metadata": {
  "kernelspec": {
   "display_name": "Python 3",
   "language": "python",
   "name": "python3"
  },
  "language_info": {
   "codemirror_mode": {
    "name": "ipython",
    "version": 3
   },
   "file_extension": ".py",
   "mimetype": "text/x-python",
   "name": "python",
   "nbconvert_exporter": "python",
   "pygments_lexer": "ipython3",
   "version": "3.7.3"
  }
 },
 "nbformat": 4,
 "nbformat_minor": 2
}
