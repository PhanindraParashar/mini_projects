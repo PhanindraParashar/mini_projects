{
 "cells": [
  {
   "cell_type": "code",
   "execution_count": 1,
   "metadata": {},
   "outputs": [],
   "source": [
    "from gurobipy import*"
   ]
  },
  {
   "cell_type": "code",
   "execution_count": 34,
   "metadata": {},
   "outputs": [],
   "source": [
    "n_groups = 2\n",
    "ages = [1,2,3,4,5,6,7,8,9]\n",
    "\n",
    "\n",
    "def age_partition(ages,n_groups):\n",
    "    model = Model('Age Partition')\n",
    "    groups = list(range(1,n_groups+1))\n",
    "\n",
    "    x = {}\n",
    "    for i in range(len(ages)):\n",
    "        x[i] = {}\n",
    "        for j in groups:\n",
    "            x[i][j] = model.addVar(vtype = 'b')\n",
    "\n",
    "    y = model.addVar()\n",
    "    model.update()\n",
    "    \n",
    "    for i in range(len(ages)):\n",
    "        model.addConstr(quicksum([x[i][j] for j in groups]) == 1)\n",
    "\n",
    "    for j in groups:\n",
    "        model.addConstr(quicksum([x[i][j]*ages[i] for i in range(len(ages))]) <= y)\n",
    "\n",
    "    model.setObjective(y,GRB.MINIMIZE)\n",
    "    model.optimize()\n",
    "    \n",
    "    G = []\n",
    "    for j in groups:\n",
    "        A = []\n",
    "        for i in range(len(ages)):\n",
    "            if x[i][j].x == 1:\n",
    "                A.append(ages[i])\n",
    "        tpl = (j,A)\n",
    "        G.append(tpl)\n",
    "    \n",
    "    d = {}\n",
    "    for i in G:\n",
    "        print(i)\n",
    "        a,b = i\n",
    "        d[a] = b\n",
    "    return d,model.ObjVal"
   ]
  },
  {
   "cell_type": "code",
   "execution_count": 35,
   "metadata": {},
   "outputs": [
    {
     "name": "stdout",
     "output_type": "stream",
     "text": [
      "Optimize a model with 11 rows, 19 columns and 38 nonzeros\n",
      "Variable types: 1 continuous, 18 integer (18 binary)\n",
      "Coefficient statistics:\n",
      "  Matrix range     [1e+00, 9e+00]\n",
      "  Objective range  [1e+00, 1e+00]\n",
      "  Bounds range     [1e+00, 1e+00]\n",
      "  RHS range        [1e+00, 1e+00]\n",
      "Found heuristic solution: objective 40.0000000\n",
      "Presolve removed 9 rows and 17 columns\n",
      "Presolve time: 0.00s\n",
      "Presolved: 2 rows, 2 columns, 4 nonzeros\n",
      "Variable types: 0 continuous, 2 integer (0 binary)\n",
      "\n",
      "Root relaxation: objective 2.250000e+01, 1 iterations, 0.00 seconds\n",
      "\n",
      "    Nodes    |    Current Node    |     Objective Bounds      |     Work\n",
      " Expl Unexpl |  Obj  Depth IntInf | Incumbent    BestBd   Gap | It/Node Time\n",
      "\n",
      "     0     0   22.50000    0    2   40.00000   22.50000  43.8%     -    0s\n",
      "H    0     0                      23.0000000   22.50000  2.17%     -    0s\n",
      "\n",
      "Explored 1 nodes (1 simplex iterations) in 0.03 seconds\n",
      "Thread count was 8 (of 8 available processors)\n",
      "\n",
      "Solution count 2: 23 40 \n",
      "\n",
      "Optimal solution found (tolerance 1.00e-04)\n",
      "Best objective 2.300000000000e+01, best bound 2.300000000000e+01, gap 0.0000%\n",
      "(1, [1, 2, 3, 4, 6, 7])\n",
      "(2, [5, 8, 9])\n"
     ]
    }
   ],
   "source": [
    "P = age_partition(ages,n_groups)"
   ]
  },
  {
   "cell_type": "code",
   "execution_count": null,
   "metadata": {},
   "outputs": [],
   "source": []
  }
 ],
 "metadata": {
  "kernelspec": {
   "display_name": "Python 3",
   "language": "python",
   "name": "python3"
  },
  "language_info": {
   "codemirror_mode": {
    "name": "ipython",
    "version": 3
   },
   "file_extension": ".py",
   "mimetype": "text/x-python",
   "name": "python",
   "nbconvert_exporter": "python",
   "pygments_lexer": "ipython3",
   "version": "3.7.3"
  }
 },
 "nbformat": 4,
 "nbformat_minor": 2
}
