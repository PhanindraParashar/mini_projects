{
 "cells": [
  {
   "cell_type": "code",
   "execution_count": 8,
   "metadata": {},
   "outputs": [],
   "source": [
    "import networkx as nx\n",
    "import matplotlib.pyplot as plt"
   ]
  },
  {
   "cell_type": "code",
   "execution_count": 9,
   "metadata": {},
   "outputs": [],
   "source": [
    "M = 50\n",
    "Nodes = [1,2,3,4,5]\n",
    "Demand = [-20,-10,11,2,17]\n",
    "Directed_Edges = [(1,3),(1,4),(1,5),(2,3),(2,4),(2,5)]\n",
    "Cost_Capacity_Edges = [(1,M),(6,M),(3,M),(7,M),(3,M),(1,M)]\n",
    "\n",
    "def min_cost_transhipment(Nodes,Demand,Directed_Edges,Cost_Capacity_Edges,M,draw=False):\n",
    "    G = nx.DiGraph()\n",
    "    Node_Demand = dict(zip(Nodes,Demand))\n",
    "    Directed_Edges_Cost_Capacity = dict(zip(Directed_Edges,Cost_Capacity_Edges))\n",
    "    Demand_nodes = []\n",
    "    Supply_nodes = []\n",
    "    for i in Nodes:\n",
    "        if i < 0:\n",
    "            Supply_nodes.append(i)\n",
    "        else:\n",
    "            Demand_nodes.append(i)\n",
    "\n",
    "    for i in Nodes:\n",
    "        G.add_node(i, demand = Node_Demand[i])\n",
    "\n",
    "    for k in Directed_Edges:\n",
    "        i,j = k\n",
    "        cost,cap = Directed_Edges_Cost_Capacity[k]\n",
    "        G.add_edge(i, j, weight = cost, capacity = cap)\n",
    "\n",
    "    flowDict = nx.min_cost_flow(G)\n",
    "    \n",
    "    if draw == True:\n",
    "        pos=nx.shell_layout(G)\n",
    "        nx.draw_networkx_nodes(G,pos,\n",
    "                               nodelist=Supply_nodes,\n",
    "                               node_color='blue',\n",
    "                               node_size=400,\n",
    "                           alpha=0.9)\n",
    "\n",
    "        nx.draw_networkx_nodes(G,pos,\n",
    "                               nodelist=Demand_nodes,\n",
    "                               node_color='r',\n",
    "                               node_size=150,\n",
    "                           alpha=0.3)\n",
    "\n",
    "        nx.draw_networkx_edges(G,pos,\n",
    "                               edgelist=Directed_Edges,\n",
    "                               width=1.5,alpha=0.5,edge_color='g')\n",
    "\n",
    "        plt.show()\n",
    "    \n",
    "    return flowDict"
   ]
  },
  {
   "cell_type": "code",
   "execution_count": 10,
   "metadata": {},
   "outputs": [
    {
     "data": {
      "image/png": "[encoded data removed]",
      "text/plain": [
       "<Figure size 432x288 with 1 Axes>"
      ]
     },
     "metadata": {},
     "output_type": "display_data"
    },
    {
     "data": {
      "text/plain": [
       "{1: {3: 11, 4: 0, 5: 9}, 2: {3: 0, 4: 2, 5: 8}, 3: {}, 4: {}, 5: {}}"
      ]
     },
     "execution_count": 10,
     "metadata": {},
     "output_type": "execute_result"
    }
   ],
   "source": [
    "min_cost_transhipment(Nodes,Demand,Directed_Edges,Cost_Capacity_Edges,M,draw=True)"
   ]
  },
  {
   "cell_type": "code",
   "execution_count": null,
   "metadata": {},
   "outputs": [],
   "source": []
  }
 ],
 "metadata": {
  "kernelspec": {
   "display_name": "Python 3",
   "language": "python",
   "name": "python3"
  },
  "language_info": {
   "codemirror_mode": {
    "name": "ipython",
    "version": 3
   },
   "file_extension": ".py",
   "mimetype": "text/x-python",
   "name": "python",
   "nbconvert_exporter": "python",
   "pygments_lexer": "ipython3",
   "version": "3.7.3"
  }
 },
 "nbformat": 4,
 "nbformat_minor": 2
}
