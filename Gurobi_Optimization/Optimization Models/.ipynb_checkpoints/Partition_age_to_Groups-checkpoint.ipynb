{
 "cells": [
  {
   "cell_type": "code",
   "execution_count": 1,
   "metadata": {},
   "outputs": [],
   "source": [
    "from gurobipy import*"
   ]
  },
  {
   "cell_type": "code",
   "execution_count": 9,
   "metadata": {},
   "outputs": [],
   "source": [
    "n_groups = 2\n",
    "ages = [1,2,3,4,5,6,7,8,9]\n",
    "\n",
    "\n",
    "def age_partition(ages,n_groups):\n",
    "    model = Model('Age Partition')\n",
    "    groups = list(range(1,n_groups+1))\n",
    "\n",
    "    x = {}\n",
    "    for i in len(ages):\n",
    "        x[i] = {}\n",
    "        for j in groups:\n",
    "            x[i][j] = model.addVar(vtype = 'b')\n",
    "\n",
    "    y = model.addVar()\n",
    "    model.update()\n",
    "    \n",
    "    for i in len(ages):\n",
    "        model.addConstr(quicksum([x[i][j] for j in groups]) == 1)\n",
    "\n",
    "    for j in groups:\n",
    "        model.addConstr(quicksum([x[i][j]*ages[i] for i in len(ages)]) <= y)\n",
    "\n",
    "    model.setObjective(y,GRB.MINIMIZE)\n",
    "    model.optimize()\n",
    "    \n",
    "    G = []\n",
    "    for j in groups:\n",
    "        A = []\n",
    "        for i in len(ages):\n",
    "            if x[i][j].x == 1:\n",
    "                A.append(ages[i])\n",
    "        tpl = (j,A)\n",
    "        G.append(tpl)\n",
    "    return G"
   ]
  },
  {
   "cell_type": "code",
   "execution_count": 10,
   "metadata": {},
   "outputs": [
    {
     "ename": "TypeError",
     "evalue": "unhashable type: 'list'",
     "output_type": "error",
     "traceback": [
      "\u001b[1;31m---------------------------------------------------------------------------\u001b[0m",
      "\u001b[1;31mTypeError\u001b[0m                                 Traceback (most recent call last)",
      "\u001b[1;32m<ipython-input-10-5a5c4a4c115f>\u001b[0m in \u001b[0;36m<module>\u001b[1;34m\u001b[0m\n\u001b[1;32m----> 1\u001b[1;33m \u001b[0mgroups\u001b[0m \u001b[1;33m=\u001b[0m \u001b[1;33m{\u001b[0m\u001b[0mlist\u001b[0m\u001b[1;33m(\u001b[0m\u001b[0mrange\u001b[0m\u001b[1;33m(\u001b[0m\u001b[1;36m1\u001b[0m\u001b[1;33m,\u001b[0m\u001b[0mn_groups\u001b[0m\u001b[1;33m+\u001b[0m\u001b[1;36m1\u001b[0m\u001b[1;33m)\u001b[0m\u001b[1;33m)\u001b[0m\u001b[1;33m}\u001b[0m\u001b[1;33m\u001b[0m\u001b[1;33m\u001b[0m\u001b[0m\n\u001b[0m",
      "\u001b[1;31mTypeError\u001b[0m: unhashable type: 'list'"
     ]
    }
   ],
   "source": [
    "groups = {list(range(1,n_groups+1))}"
   ]
  },
  {
   "cell_type": "code",
   "execution_count": null,
   "metadata": {},
   "outputs": [],
   "source": []
  },
  {
   "cell_type": "code",
   "execution_count": null,
   "metadata": {},
   "outputs": [],
   "source": []
  }
 ],
 "metadata": {
  "kernelspec": {
   "display_name": "Python 3",
   "language": "python",
   "name": "python3"
  },
  "language_info": {
   "codemirror_mode": {
    "name": "ipython",
    "version": 3
   },
   "file_extension": ".py",
   "mimetype": "text/x-python",
   "name": "python",
   "nbconvert_exporter": "python",
   "pygments_lexer": "ipython3",
   "version": "3.7.3"
  }
 },
 "nbformat": 4,
 "nbformat_minor": 2
}
