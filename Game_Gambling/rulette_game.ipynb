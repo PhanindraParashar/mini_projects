{
 "cells": [
  {
   "cell_type": "code",
   "execution_count": 2,
   "metadata": {},
   "outputs": [],
   "source": [
    "import numpy as np\n",
    "import matplotlib.pyplot as plt\n",
    "import seaborn as sns\n",
    "import random"
   ]
  },
  {
   "cell_type": "code",
   "execution_count": 3,
   "metadata": {},
   "outputs": [],
   "source": [
    "All = set(range(0,37,1))\n",
    "non_zero = set(range(1,37,1))\n",
    "\n",
    "Red = set([1,3,5,7,9,12,14,16,18,19,21,23,25,27,30,32,34,36])\n",
    "Black = non_zero - Red\n",
    "Green = set([0])\n",
    "Odd = set(range(1,37,2))\n",
    "Even = set(range(2,37,2))\n",
    "\n",
    "Col1 = set(range(1,13,1))\n",
    "Col2 = set(range(13,25,1))\n",
    "Col2 = set(range(25,37,1))\n",
    "\n",
    "Row1 = set(range(3,37,3))\n",
    "Row2 = set(range(2,36,3))\n",
    "Row3 = set(range(1,35,3))\n",
    "\n",
    "S1_18 = set(range(1,19,1))\n",
    "s19_36 = set(range(19,37,1))"
   ]
  },
  {
   "cell_type": "code",
   "execution_count": 8,
   "metadata": {},
   "outputs": [
    {
     "data": {
      "text/plain": [
       "21"
      ]
     },
     "execution_count": 8,
     "metadata": {},
     "output_type": "execute_result"
    }
   ],
   "source": [
    "roll()"
   ]
  },
  {
   "cell_type": "code",
   "execution_count": null,
   "metadata": {},
   "outputs": [],
   "source": []
  },
  {
   "cell_type": "code",
   "execution_count": null,
   "metadata": {},
   "outputs": [],
   "source": []
  },
  {
   "cell_type": "code",
   "execution_count": 4,
   "metadata": {},
   "outputs": [],
   "source": [
    "Balance = 10000\n",
    "Bet_size_black = 10\n",
    "Bet_size_odd = 10"
   ]
  },
  {
   "cell_type": "code",
   "execution_count": 7,
   "metadata": {},
   "outputs": [],
   "source": [
    "def roll():\n",
    "    return random.choice(list(All))\n",
    "def play(Balance,Bet_size_black,Bet_size_odd):\n",
    "    Balance = Balance - Bet_size_black -Bet_size_odd\n",
    "    no = roll()\n",
    "    if no in Black:\n",
    "        br = 2*Bet_size_black\n",
    "        fb = 0\n",
    "    else:\n",
    "        br = 0\n",
    "        fb = 1\n",
    "    if no in Odd:\n",
    "        ro = 2*Bet_size_odd\n",
    "        fo = 0\n",
    "    else:\n",
    "        ro = 0\n",
    "        fo = 1\n",
    "    \n",
    "    \n",
    "    Balance = Balance + ro + br\n",
    "    \n",
    "    return Balance,fb,fo\n",
    "\n",
    "def test_strat(Balance,Bet_size_black,Bet_size_odd,r,stop_loss,ilimit):\n",
    "    i = 1\n",
    "    while Balance - Bet_size_black - Bet_size_odd > stop_loss and i<= ilimit:\n",
    "        Balance,fb,fo = play(Balance,Bet_size_black,Bet_size_odd)\n",
    "        #print(Balance)\n",
    "        i += 1\n",
    "        if fb == 1:\n",
    "            Bet_size_black = r*Bet_size_black\n",
    "        if fo == 1:\n",
    "            Bet_size_odd = r*Bet_size_odd\n",
    "    return Balance,i"
   ]
  },
  {
   "cell_type": "code",
   "execution_count": null,
   "metadata": {},
   "outputs": [],
   "source": []
  },
  {
   "cell_type": "code",
   "execution_count": null,
   "metadata": {},
   "outputs": [],
   "source": []
  },
  {
   "cell_type": "code",
   "execution_count": null,
   "metadata": {},
   "outputs": [],
   "source": []
  }
 ],
 "metadata": {
  "kernelspec": {
   "display_name": "Python 3",
   "language": "python",
   "name": "python3"
  },
  "language_info": {
   "codemirror_mode": {
    "name": "ipython",
    "version": 3
   },
   "file_extension": ".py",
   "mimetype": "text/x-python",
   "name": "python",
   "nbconvert_exporter": "python",
   "pygments_lexer": "ipython3",
   "version": "3.7.6"
  }
 },
 "nbformat": 4,
 "nbformat_minor": 4
}
